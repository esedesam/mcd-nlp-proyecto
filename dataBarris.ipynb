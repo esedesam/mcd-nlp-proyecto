{
 "cells": [
  {
   "cell_type": "markdown",
   "metadata": {},
   "source": [
    "# Plantilla: Proyecto\n",
    "## Tema 2: Clasificación de barrios en función de su tipología.\n",
    "Documento plantilla para el proyecto con los imports de las librerias más importantes."
   ]
  },
  {
   "cell_type": "code",
   "execution_count": 31,
   "metadata": {},
   "outputs": [
    {
     "name": "stdout",
     "output_type": "stream",
     "text": [
      "Requirement already satisfied: openpyxl in c:\\users\\jesus\\anaconda3\\envs\\nlp_310\\lib\\site-packages (3.1.2)\n",
      "Requirement already satisfied: et-xmlfile in c:\\users\\jesus\\anaconda3\\envs\\nlp_310\\lib\\site-packages (from openpyxl) (1.1.0)\n"
     ]
    }
   ],
   "source": [
    "import nltk                      # Natural Language Toolkit\n",
    "import scrapy                    # Web scraping   \n",
    "import requests                  # HTTP requests\n",
    "import selenium                  # Web automation\n",
    "import numpy as np               # Numerical computing\n",
    "import pandas as pd              # Data manipulation\n",
    "import seaborn as sns            # Data visualization\n",
    "import tensorflow as tf          # Machine learning\n",
    "import matplotlib.pyplot as plt  # Data visualization\n",
    "import os                        # Operating system\n",
    "\n",
    "!pip install openpyxl\n",
    "import openpyxl                  # Excel files\n",
    "import zipfile                   # Zip files"
   ]
  },
  {
   "cell_type": "markdown",
   "metadata": {},
   "source": [
    "# Automatización en la recogida de variables (dataset Barris)"
   ]
  },
  {
   "cell_type": "markdown",
   "metadata": {},
   "source": [
    "Primero crearemos el diccionario `barrios_dict` donde se haga la asignación entre los nombres de los Barrios y el par distrito-barrio."
   ]
  },
  {
   "cell_type": "code",
   "execution_count": 32,
   "metadata": {},
   "outputs": [],
   "source": [
    "idBarrios = pd.read_csv('./data/barrios/barrios_codigos.csv', delimiter=';')\n",
    "idBarrios = idBarrios[['Nombre', 'Codigo distrito', 'Codigo barrio']]\n",
    "\n",
    "barrios_dict = {}\n",
    "\n",
    "for index, row in idBarrios.iterrows():\n",
    "    nombre = row['Nombre']\n",
    "    codigo_distrito = row['Codigo distrito']\n",
    "    codigo_barrio = row['Codigo barrio']\n",
    "    \n",
    "    barrio_dict = {\n",
    "        'Codigo distrito': codigo_distrito,\n",
    "        'Codigo barrio': codigo_barrio\n",
    "    }\n",
    "    \n",
    "    barrios_dict[nombre] = barrio_dict"
   ]
  },
  {
   "cell_type": "markdown",
   "metadata": {},
   "source": [
    "Definimos la función `get_barrio_name` que nos permite realizar la asignación distrito-barrio -> nombre del barrio."
   ]
  },
  {
   "cell_type": "code",
   "execution_count": 33,
   "metadata": {},
   "outputs": [],
   "source": [
    "def get_barrio_name(codigo_distrito, codigo_barrio):\n",
    "    for nombre, barrio_dict in barrios_dict.items():\n",
    "        if barrio_dict['Codigo distrito'] == codigo_distrito and barrio_dict['Codigo barrio'] == codigo_barrio:\n",
    "            return nombre"
   ]
  },
  {
   "cell_type": "markdown",
   "metadata": {},
   "source": [
    "Definimos a continuación unas funciones que nos ayudarán a extraer correctamente las tablas de las variables deseadas de los distintos excel."
   ]
  },
  {
   "cell_type": "code",
   "execution_count": 34,
   "metadata": {},
   "outputs": [],
   "source": [
    "def find_string_in_df(df, string):\n",
    "    for i in range(len(df)):\n",
    "        if string in str(df.iloc[i, 0]):\n",
    "            return i\n",
    "    return None\n",
    "\n",
    "def find_skip(df, row):\n",
    "    # Encontrar la primera fila que no esté completamente llena de NAs después de la fila especificada\n",
    "    for i in range(row + 2, len(df)): # el +2 en lugar de +1 es para poder ponerlo en castellano xD\n",
    "        if not df.iloc[i].isna().all():\n",
    "            return i - row\n",
    "\n",
    "    return 0  # Si todas las filas después de 'row' están completamente llenas de NAs, skip es 0\n",
    "\n",
    "def extract_df(df, row, skip, n=None):\n",
    "    if n is None:\n",
    "        # Encontrar n dinámicamente.\n",
    "        last_row = row + skip\n",
    "        while last_row < len(df) and not df.iloc[last_row].isna().all():\n",
    "            last_row += 1\n",
    "        n = last_row - row - skip\n",
    "    extracted_df = df.iloc[row + skip:row + skip + n, :]\n",
    "    \n",
    "    # Verificar si TODAS las filas en cada columna son NA\n",
    "    columns_to_drop = extracted_df.columns[extracted_df.isna().all()]\n",
    "    \n",
    "    # Eliminar solo las columnas donde todas las filas son NA\n",
    "    extracted_df = extracted_df.drop(columns_to_drop, axis=1)\n",
    "    \n",
    "    return extracted_df\n",
    "\n",
    "def extract_df_by_string(df, string, n=None):\n",
    "    row = find_string_in_df(df, string)\n",
    "    skip = find_skip(df, row)\n",
    "    return extract_df(df, row, skip, n)"
   ]
  },
  {
   "cell_type": "code",
   "execution_count": 35,
   "metadata": {},
   "outputs": [],
   "source": [
    "#dataframes = { 'dfSup': dfSup,\n",
    "#                    'dfPobSexEdad': dfPobSexEdad,\n",
    "#                    'dfPobSexLugar': dfPobSexLugar,\n",
    "#                    'dfPobExtCont': dfPobExtCont,\n",
    "#                    'dfHojasFamComp': dfHojasFamComp,\n",
    "#                    'dfIndicadoresDemograficosPadron': dfIndicadoresDemograficosPadron,\n",
    "#                    'dfMovPadron': dfMovPadron,\n",
    "#                    'dfIndicadoresDemograficosMovPadron': dfIndicadoresDemograficosMovPadron,\n",
    "#                    'dfVehicTipo': dfVehicTipo,\n",
    "#                    'dfTurismPot': dfTurismPot,\n",
    "#                    'dfBienesInmAno': dfBienesInmAno,\n",
    "#                    'dfBienesInmSup': dfBienesInmSup,\n",
    "#                    'dfBienesInmVal': dfBienesInmVal,\n",
    "#                    'dfBienesValMedio': dfBienesValMedio,\n",
    "#                    'dfSupAparc': dfSupAparc,\n",
    "#                    'dfElecGen': dfElecGen\n",
    "#                 }"
   ]
  },
  {
   "cell_type": "markdown",
   "metadata": {},
   "source": [
    "Se definen a continuación funciones para hacer un preprocesamiento de los diferentes datos que se adquirirán."
   ]
  },
  {
   "cell_type": "code",
   "execution_count": 36,
   "metadata": {},
   "outputs": [],
   "source": [
    "def clean_dataframe(df):\n",
    "    # Eliminar filas y columnas con todos los valores NaN\n",
    "    df = df.dropna(axis=0, how='all').dropna(axis=1, how='all')\n",
    "    # Establecer la primera fila como nombres de columnas y reindexar\n",
    "    df.columns = df.iloc[0]\n",
    "    df = df.iloc[1:].reset_index(drop=True)\n",
    "    return df\n",
    "\n",
    "def modify_first_column_name(df, column_name):\n",
    "    df.columns = [column_name] + list(df.columns[1:])\n",
    "    return df\n",
    "        \n",
    "def extract_dataframes_from_excel(excel_path):\n",
    "    dataframes = {}\n",
    "    sheets = {\n",
    "        'Padrón': ['Superficie y densidad de población', 'Población por sexo y edad (grandes grupos)',\n",
    "                   'Población según lugar de nacimiento y sexo', 'Población extranjera según nacionalidad, por contienentes',\n",
    "                   'Número de hojas familiares según composición', 'Indicadores demográficos'],\n",
    "        'MovPadrón': ['Resumen de movimientos registrados en el Padrón Municipal', 'Indicadores demográficos'],\n",
    "        'Vehículos': ['Vehículos según tipo', 'Turismos según potencia'],\n",
    "        'Catastro': ['Bienes Inmuebles según el año de antigüedad',\n",
    "                     'Bienes Inmuebles construidas después de 1800 según superficie construida',\n",
    "                     'Bienes Inmuebles construidas después de 1800 según valor catastral',\n",
    "                     'Valores catastrales medios', 'Superficie total de los aparcamientos'],\n",
    "        'Elecciones': ['Votos a candidaturas']\n",
    "    }\n",
    "    \n",
    "    for sheet, strings in sheets.items():\n",
    "        df_sheet = pd.read_excel(excel_path, sheet_name=sheet)\n",
    "        for string in strings:\n",
    "            df = extract_df_by_string(df_sheet, string)\n",
    "            if df is not None:\n",
    "                df = clean_dataframe(df)\n",
    "                if sheet == 'Padrón' and string in ['Población por sexo y edad (grandes grupos)', 'Población según lugar de nacimiento y sexo', 'Población extranjera según nacionalidad, por contienentes']:\n",
    "                    modify_first_column_name(df, 'Género')\n",
    "                elif sheet == 'Vehículos' and string == 'Vehículos según tipo':\n",
    "                    modify_first_column_name(df, 'Tipo de vehículo')\n",
    "                elif sheet == \"Vehículos\" and string == \"Turismos según potencia\":\n",
    "                    modify_first_column_name(df, 'Potencia')\n",
    "                elif sheet == 'Elecciones' and string == 'Votos a candidaturas':\n",
    "                    modify_first_column_name(df, 'Partido')\n",
    "                dataframes[f'{sheet}_{string.replace(\" \", \"_\")}'] = df\n",
    "    \n",
    "    return dataframes\n"
   ]
  },
  {
   "cell_type": "markdown",
   "metadata": {},
   "source": [
    "Esta función permite sacar el nombre del barrio infiriéndolo por el nombre del Excel (sigue la estructura de `Distrito_{num_distrito}_Barrio_{num_barrio}.xlsx`)."
   ]
  },
  {
   "cell_type": "code",
   "execution_count": 37,
   "metadata": {},
   "outputs": [],
   "source": [
    "def get_barrio_name_from_filename(filename, barrios_dict):\n",
    "    # Extraer el nombre del distrito y el número de barrio del nombre del archivo\n",
    "    distrito_numero, barrio_numero = os.path.splitext(filename)[0].split('_')[1:4][::2]\n",
    "    \n",
    "    # Buscar el nombre del distrito y el número de barrio en barrios_dict\n",
    "    for nombre, info_barrio in barrios_dict.items():\n",
    "        if info_barrio['Codigo distrito'] == int(distrito_numero) and info_barrio['Codigo barrio'] == int(barrio_numero):\n",
    "            return nombre\n",
    "    \n",
    "    return None"
   ]
  },
  {
   "cell_type": "markdown",
   "metadata": {},
   "source": [
    "Se definen a continuación funciones que nos permitirán realizar el proceso de creación de la carpeta para un año concreto, descarga del zip correspondiente y su descompresión automática."
   ]
  },
  {
   "cell_type": "code",
   "execution_count": 38,
   "metadata": {},
   "outputs": [],
   "source": [
    "def download_zip(year):\n",
    "    url = f'https://www.valencia.es/estadistica/inf_dtba/{year}/Barrios{year}.zip'\n",
    "    response = requests.get(url)\n",
    "    with open(f'./data/barrios/{year}/{year}.zip', 'wb') as file:\n",
    "        file.write(response.content)\n",
    "\n",
    "def create_folder(year):\n",
    "    folder_path = f'./data/barrios/{year}'\n",
    "    if not os.path.exists(folder_path):\n",
    "        os.makedirs(folder_path)\n",
    "        \n",
    "def unzip_file(year):\n",
    "    with zipfile.ZipFile(f'./data/barrios/{year}/{year}.zip', 'r') as zip_ref:\n",
    "        zip_ref.extractall(f'./data/barrios/{year}')\n",
    "        \n",
    "def download_and_unzip(year):\n",
    "    create_folder(year)\n",
    "    download_zip(year)\n",
    "    unzip_file(year)\n",
    "    "
   ]
  },
  {
   "cell_type": "markdown",
   "metadata": {},
   "source": [
    "Finalmente, la función `get_data` permite recibir una lista de años y devuelve los datos correctamente preprocesados ya para las variables que nos interesan."
   ]
  },
  {
   "cell_type": "code",
   "execution_count": 39,
   "metadata": {},
   "outputs": [],
   "source": [
    "def get_data(years):\n",
    "    datos = {}\n",
    "    for year in years:\n",
    "        download_and_unzip(year)\n",
    "        datos[year] = {}\n",
    "        for filename in os.listdir(f'./data/barrios/{year}'):\n",
    "            if filename.endswith('.xlsx'):\n",
    "                excel_path = os.path.join(f'./data/barrios/{year}', filename)\n",
    "                dataframes = extract_dataframes_from_excel(excel_path)\n",
    "                barrio_name = get_barrio_name_from_filename(filename, barrios_dict)\n",
    "                datos[year][barrio_name] = dataframes\n",
    "    return datos"
   ]
  },
  {
   "cell_type": "code",
   "execution_count": 40,
   "metadata": {},
   "outputs": [],
   "source": [
    "# Probar con lista de [2023, 2024] como year\n",
    "\n",
    "years = [2023, 2024]\n",
    "\n",
    "datosBarris = get_data(years)"
   ]
  },
  {
   "cell_type": "code",
   "execution_count": 43,
   "metadata": {},
   "outputs": [
    {
     "data": {
      "text/html": [
       "<div>\n",
       "<style scoped>\n",
       "    .dataframe tbody tr th:only-of-type {\n",
       "        vertical-align: middle;\n",
       "    }\n",
       "\n",
       "    .dataframe tbody tr th {\n",
       "        vertical-align: top;\n",
       "    }\n",
       "\n",
       "    .dataframe thead th {\n",
       "        text-align: right;\n",
       "    }\n",
       "</style>\n",
       "<table border=\"1\" class=\"dataframe\">\n",
       "  <thead>\n",
       "    <tr style=\"text-align: right;\">\n",
       "      <th></th>\n",
       "      <th>Género</th>\n",
       "      <th>Total</th>\n",
       "      <th>0-15</th>\n",
       "      <th>16-64</th>\n",
       "      <th>65 y más</th>\n",
       "    </tr>\n",
       "  </thead>\n",
       "  <tbody>\n",
       "    <tr>\n",
       "      <th>0</th>\n",
       "      <td>Total</td>\n",
       "      <td>42725</td>\n",
       "      <td>6502</td>\n",
       "      <td>28408</td>\n",
       "      <td>7815</td>\n",
       "    </tr>\n",
       "    <tr>\n",
       "      <th>1</th>\n",
       "      <td>Hombres</td>\n",
       "      <td>20663</td>\n",
       "      <td>3336</td>\n",
       "      <td>13950</td>\n",
       "      <td>3377</td>\n",
       "    </tr>\n",
       "    <tr>\n",
       "      <th>2</th>\n",
       "      <td>Mujeres</td>\n",
       "      <td>22062</td>\n",
       "      <td>3166</td>\n",
       "      <td>14458</td>\n",
       "      <td>4438</td>\n",
       "    </tr>\n",
       "  </tbody>\n",
       "</table>\n",
       "</div>"
      ],
      "text/plain": [
       "    Género  Total  0-15  16-64 65 y más\n",
       "0    Total  42725  6502  28408     7815\n",
       "1  Hombres  20663  3336  13950     3377\n",
       "2  Mujeres  22062  3166  14458     4438"
      ]
     },
     "execution_count": 43,
     "metadata": {},
     "output_type": "execute_result"
    }
   ],
   "source": [
    "datosBarris[2023]['BENICALAP']['Padrón_Población_por_sexo_y_edad_(grandes_grupos)']"
   ]
  }
 ],
 "metadata": {
  "kernelspec": {
   "display_name": "NLP_3.10",
   "language": "python",
   "name": "python3"
  },
  "language_info": {
   "codemirror_mode": {
    "name": "ipython",
    "version": 3
   },
   "file_extension": ".py",
   "mimetype": "text/x-python",
   "name": "python",
   "nbconvert_exporter": "python",
   "pygments_lexer": "ipython3",
   "version": "3.10.13"
  }
 },
 "nbformat": 4,
 "nbformat_minor": 2
}
