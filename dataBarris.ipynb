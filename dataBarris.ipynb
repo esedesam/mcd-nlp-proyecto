{
 "cells": [
  {
   "cell_type": "markdown",
   "metadata": {},
   "source": [
    "# Plantilla: Proyecto\n",
    "## Tema 2: Clasificación de barrios en función de su tipología.\n",
    "Documento plantilla para el proyecto con los imports de las librerias más importantes."
   ]
  },
  {
   "cell_type": "code",
   "execution_count": 1,
   "metadata": {
    "metadata": {}
   },
   "outputs": [
    {
     "name": "stdout",
     "output_type": "stream",
     "text": [
      "Requirement already satisfied: openpyxl in c:\\users\\jesus\\anaconda3\\envs\\nlp_310\\lib\\site-packages (3.1.2)\n",
      "Requirement already satisfied: et-xmlfile in c:\\users\\jesus\\anaconda3\\envs\\nlp_310\\lib\\site-packages (from openpyxl) (1.1.0)\n"
     ]
    }
   ],
   "source": [
    "import nltk                      # Natural Language Toolkit\n",
    "import scrapy                    # Web scraping   \n",
    "import requests                  # HTTP requests\n",
    "import selenium                  # Web automation\n",
    "import numpy as np               # Numerical computing\n",
    "import pandas as pd              # Data manipulation\n",
    "import seaborn as sns            # Data visualization\n",
    "import tensorflow as tf          # Machine learning\n",
    "import matplotlib.pyplot as plt  # Data visualization\n",
    "import os                        # Operating system\n",
    "\n",
    "!pip install openpyxl\n",
    "import openpyxl                  # Excel files\n",
    "import zipfile                   # Zip files\n",
    "from copy import deepcopy        # Copy objects"
   ]
  },
  {
   "cell_type": "markdown",
   "metadata": {},
   "source": [
    "# Automatización en la recogida de variables (dataset Barris)"
   ]
  },
  {
   "cell_type": "markdown",
   "metadata": {},
   "source": [
    "Primero crearemos el diccionario `barrios_dict` donde se haga la asignación entre los nombres de los Barrios y el par distrito-barrio."
   ]
  },
  {
   "cell_type": "code",
   "execution_count": 2,
   "metadata": {},
   "outputs": [],
   "source": [
    "idBarrios = pd.read_csv('./data/barrios/barrios_codigos.csv', delimiter=';')\n",
    "idBarrios = idBarrios[['Nombre', 'Codigo distrito', 'Codigo barrio']]\n",
    "\n",
    "barrios_dict = {}\n",
    "\n",
    "for index, row in idBarrios.iterrows():\n",
    "    nombre = row['Nombre']\n",
    "    codigo_distrito = row['Codigo distrito']\n",
    "    codigo_barrio = row['Codigo barrio']\n",
    "    \n",
    "    barrio_dict = {\n",
    "        'Codigo distrito': codigo_distrito,\n",
    "        'Codigo barrio': codigo_barrio\n",
    "    }\n",
    "    \n",
    "    barrios_dict[nombre] = barrio_dict"
   ]
  },
  {
   "cell_type": "markdown",
   "metadata": {},
   "source": [
    "Definimos la función `get_barrio_name` que nos permite realizar la asignación distrito-barrio -> nombre del barrio."
   ]
  },
  {
   "cell_type": "code",
   "execution_count": 3,
   "metadata": {},
   "outputs": [],
   "source": [
    "def get_barrio_name(codigo_distrito, codigo_barrio):\n",
    "    for nombre, barrio_dict in barrios_dict.items():\n",
    "        if barrio_dict['Codigo distrito'] == codigo_distrito and barrio_dict['Codigo barrio'] == codigo_barrio:\n",
    "            return nombre"
   ]
  },
  {
   "cell_type": "markdown",
   "metadata": {},
   "source": [
    "Definimos a continuación unas funciones que nos ayudarán a extraer correctamente las tablas de las variables deseadas de los distintos excel."
   ]
  },
  {
   "cell_type": "code",
   "execution_count": 4,
   "metadata": {},
   "outputs": [],
   "source": [
    "def find_string_in_df(df, string):\n",
    "    for i in range(len(df)):\n",
    "        if string in str(df.iloc[i, 0]):\n",
    "            return i\n",
    "    return None\n",
    "\n",
    "def find_skip(df, row):\n",
    "    # Encontrar la primera fila que no esté completamente llena de NAs después de la fila especificada\n",
    "    for i in range(row + 2, len(df)): # el +2 en lugar de +1 es para poder ponerlo en castellano xD\n",
    "        if not df.iloc[i].isna().all():\n",
    "            return i - row\n",
    "\n",
    "    return 0  # Si todas las filas después de 'row' están completamente llenas de NAs, skip es 0\n",
    "\n",
    "def extract_df(df, row, skip, n=None):\n",
    "    if n is None:\n",
    "        # Encontrar n dinámicamente.\n",
    "        last_row = row + skip\n",
    "        while last_row < len(df) and not df.iloc[last_row].isna().all():\n",
    "            last_row += 1\n",
    "        n = last_row - row - skip\n",
    "    extracted_df = df.iloc[row + skip:row + skip + n, :]\n",
    "    \n",
    "    # Verificar si TODAS las filas en cada columna son NA\n",
    "    columns_to_drop = extracted_df.columns[extracted_df.isna().all()]\n",
    "    \n",
    "    # Eliminar solo las columnas donde todas las filas son NA\n",
    "    extracted_df = extracted_df.drop(columns_to_drop, axis=1)\n",
    "    \n",
    "    return extracted_df\n",
    "\n",
    "def extract_df_by_string(df, string, n=None):\n",
    "    row = find_string_in_df(df, string)\n",
    "    skip = find_skip(df, row)\n",
    "    return extract_df(df, row, skip, n)"
   ]
  },
  {
   "cell_type": "code",
   "execution_count": 5,
   "metadata": {},
   "outputs": [],
   "source": [
    "#dataframes = { 'dfSup': dfSup,\n",
    "#                    'dfPobSexEdad': dfPobSexEdad,\n",
    "#                    'dfPobSexLugar': dfPobSexLugar,\n",
    "#                    'dfPobExtCont': dfPobExtCont,\n",
    "#                    'dfHojasFamComp': dfHojasFamComp,\n",
    "#                    'dfIndicadoresDemograficosPadron': dfIndicadoresDemograficosPadron,\n",
    "#                    'dfMovPadron': dfMovPadron,\n",
    "#                    'dfIndicadoresDemograficosMovPadron': dfIndicadoresDemograficosMovPadron,\n",
    "#                    'dfVehicTipo': dfVehicTipo,\n",
    "#                    'dfTurismPot': dfTurismPot,\n",
    "#                    'dfBienesInmAno': dfBienesInmAno,\n",
    "#                    'dfBienesInmSup': dfBienesInmSup,\n",
    "#                    'dfBienesInmVal': dfBienesInmVal,\n",
    "#                    'dfBienesValMedio': dfBienesValMedio,\n",
    "#                    'dfSupAparc': dfSupAparc,\n",
    "#                    'dfElecGen': dfElecGen\n",
    "#                 }"
   ]
  },
  {
   "cell_type": "markdown",
   "metadata": {},
   "source": [
    "Se definen a continuación funciones para hacer un preprocesamiento de los diferentes datos que se adquirirán."
   ]
  },
  {
   "cell_type": "code",
   "execution_count": 6,
   "metadata": {},
   "outputs": [],
   "source": [
    "def clean_dataframe(df):\n",
    "    # Eliminar filas y columnas con todos los valores NaN\n",
    "    df = df.dropna(axis=0, how='all').dropna(axis=1, how='all')\n",
    "    # Establecer la primera fila como nombres de columnas y reindexar\n",
    "    df.columns = df.iloc[0]\n",
    "    df = df.iloc[1:].reset_index(drop=True)\n",
    "    return df\n",
    "\n",
    "def modify_first_column_name(df, column_name):\n",
    "    df.columns = [column_name] + list(df.columns[1:])\n",
    "    return df\n",
    "        \n",
    "def extract_dataframes_from_excel(excel_path):\n",
    "    dataframes = {}\n",
    "    sheets = {\n",
    "        'Padrón': ['Superficie y densidad de población', 'Población por sexo y edad (grandes grupos)',\n",
    "                   'Población según lugar de nacimiento y sexo', 'Población extranjera según nacionalidad, por contienentes',\n",
    "                   'Número de hojas familiares según composición', 'Indicadores demográficos'],\n",
    "        'MovPadrón': ['Resumen de movimientos registrados en el Padrón Municipal', 'Indicadores demográficos'],\n",
    "        'Vehículos': ['Vehículos según tipo', 'Turismos según potencia'],\n",
    "        'Catastro': ['Bienes Inmuebles según el año de antigüedad',\n",
    "                     'Bienes Inmuebles construidas después de 1800 según superficie construida',\n",
    "                     'Bienes Inmuebles construidas después de 1800 según valor catastral',\n",
    "                     'Valores catastrales medios', 'Superficie total de los aparcamientos'],\n",
    "        'Elecciones': ['Votos a candidaturas']\n",
    "    }\n",
    "    \n",
    "    for sheet, strings in sheets.items():\n",
    "        df_sheet = pd.read_excel(excel_path, sheet_name=sheet)\n",
    "        for string in strings:\n",
    "            df = extract_df_by_string(df_sheet, string)\n",
    "            if df is not None:\n",
    "                df = clean_dataframe(df)\n",
    "                if sheet == 'Padrón' and string in ['Población por sexo y edad (grandes grupos)', 'Población según lugar de nacimiento y sexo', 'Población extranjera según nacionalidad, por contienentes']:\n",
    "                    modify_first_column_name(df, 'Género')\n",
    "                elif sheet == 'Vehículos' and string == 'Vehículos según tipo':\n",
    "                    modify_first_column_name(df, 'Tipo de vehículo')\n",
    "                elif sheet == \"Vehículos\" and string == \"Turismos según potencia\":\n",
    "                    modify_first_column_name(df, 'Potencia')\n",
    "                elif sheet == 'Elecciones' and string == 'Votos a candidaturas':\n",
    "                    modify_first_column_name(df, 'Partido')\n",
    "                dataframes[f'{sheet}_{string.replace(\" \", \"_\")}'] = df\n",
    "    \n",
    "    return dataframes\n"
   ]
  },
  {
   "cell_type": "markdown",
   "metadata": {},
   "source": [
    "Esta función permite sacar el nombre del barrio infiriéndolo por el nombre del Excel (sigue la estructura de `Distrito_{num_distrito}_Barrio_{num_barrio}.xlsx`)."
   ]
  },
  {
   "cell_type": "code",
   "execution_count": 7,
   "metadata": {},
   "outputs": [],
   "source": [
    "def get_barrio_name_from_filename(filename, barrios_dict):\n",
    "    # Extraer el nombre del distrito y el número de barrio del nombre del archivo\n",
    "    distrito_numero, barrio_numero = os.path.splitext(filename)[0].split('_')[1:4][::2]\n",
    "    \n",
    "    # Buscar el nombre del distrito y el número de barrio en barrios_dict\n",
    "    for nombre, info_barrio in barrios_dict.items():\n",
    "        if info_barrio['Codigo distrito'] == int(distrito_numero) and info_barrio['Codigo barrio'] == int(barrio_numero):\n",
    "            return nombre\n",
    "    \n",
    "    return None"
   ]
  },
  {
   "cell_type": "markdown",
   "metadata": {},
   "source": [
    "Se definen a continuación funciones que nos permitirán realizar el proceso de creación de la carpeta para un año concreto, descarga del zip correspondiente y su descompresión automática."
   ]
  },
  {
   "cell_type": "code",
   "execution_count": 8,
   "metadata": {},
   "outputs": [],
   "source": [
    "def download_zip(year):\n",
    "    url = f'https://www.valencia.es/estadistica/inf_dtba/{year}/Barrios{year}.zip'\n",
    "    response = requests.get(url)\n",
    "    with open(f'./data/barrios/{year}/{year}.zip', 'wb') as file:\n",
    "        file.write(response.content)\n",
    "\n",
    "def create_folder(year):\n",
    "    folder_path = f'./data/barrios/{year}'\n",
    "    if not os.path.exists(folder_path):\n",
    "        os.makedirs(folder_path)\n",
    "        \n",
    "def unzip_file(year):\n",
    "    with zipfile.ZipFile(f'./data/barrios/{year}/{year}.zip', 'r') as zip_ref:\n",
    "        zip_ref.extractall(f'./data/barrios/{year}')\n",
    "        \n",
    "def download_and_unzip(year):\n",
    "    create_folder(year)\n",
    "    download_zip(year)\n",
    "    unzip_file(year)\n",
    "    "
   ]
  },
  {
   "cell_type": "markdown",
   "metadata": {},
   "source": [
    "Finalmente, la función `get_data` permite recibir una lista de años y devuelve los datos correctamente preprocesados ya para las variables que nos interesan."
   ]
  },
  {
   "cell_type": "code",
   "execution_count": 9,
   "metadata": {},
   "outputs": [],
   "source": [
    "def get_data(years):\n",
    "    datos = {}\n",
    "    for year in years:\n",
    "        download_and_unzip(year)\n",
    "        datos[year] = {}\n",
    "        for filename in os.listdir(f'./data/barrios/{year}'):\n",
    "            if filename.endswith('.xlsx'):\n",
    "                excel_path = os.path.join(f'./data/barrios/{year}', filename)\n",
    "                dataframes = extract_dataframes_from_excel(excel_path)\n",
    "                barrio_name = get_barrio_name_from_filename(filename, barrios_dict)\n",
    "                datos[year][barrio_name] = dataframes\n",
    "    return datos"
   ]
  },
  {
   "cell_type": "code",
   "execution_count": 10,
   "metadata": {
    "metadata": {}
   },
   "outputs": [],
   "source": [
    "# Probar con lista de [2023, 2024] como year\n",
    "\n",
    "years = [2023]\n",
    "\n",
    "datosBarris = get_data(years)"
   ]
  },
  {
   "cell_type": "code",
   "execution_count": 11,
   "metadata": {
    "metadata": {}
   },
   "outputs": [
    {
     "data": {
      "text/html": [
       "<div>\n",
       "<style scoped>\n",
       "    .dataframe tbody tr th:only-of-type {\n",
       "        vertical-align: middle;\n",
       "    }\n",
       "\n",
       "    .dataframe tbody tr th {\n",
       "        vertical-align: top;\n",
       "    }\n",
       "\n",
       "    .dataframe thead th {\n",
       "        text-align: right;\n",
       "    }\n",
       "</style>\n",
       "<table border=\"1\" class=\"dataframe\">\n",
       "  <thead>\n",
       "    <tr style=\"text-align: right;\">\n",
       "      <th></th>\n",
       "      <th>Potencia</th>\n",
       "      <th>Turismos / Turismes</th>\n",
       "    </tr>\n",
       "  </thead>\n",
       "  <tbody>\n",
       "    <tr>\n",
       "      <th>0</th>\n",
       "      <td>Total</td>\n",
       "      <td>2316</td>\n",
       "    </tr>\n",
       "    <tr>\n",
       "      <th>1</th>\n",
       "      <td>Menos de 8 CV</td>\n",
       "      <td>113</td>\n",
       "    </tr>\n",
       "    <tr>\n",
       "      <th>2</th>\n",
       "      <td>De 8 a 11,99 CV</td>\n",
       "      <td>1051</td>\n",
       "    </tr>\n",
       "    <tr>\n",
       "      <th>3</th>\n",
       "      <td>De 12 a 15,99 CV</td>\n",
       "      <td>975</td>\n",
       "    </tr>\n",
       "    <tr>\n",
       "      <th>4</th>\n",
       "      <td>De 16 CV a 19,99 CV</td>\n",
       "      <td>148</td>\n",
       "    </tr>\n",
       "    <tr>\n",
       "      <th>5</th>\n",
       "      <td>De 20 CV y más</td>\n",
       "      <td>29</td>\n",
       "    </tr>\n",
       "  </tbody>\n",
       "</table>\n",
       "</div>"
      ],
      "text/plain": [
       "              Potencia Turismos / Turismes\n",
       "0                Total                2316\n",
       "1        Menos de 8 CV                 113\n",
       "2      De 8 a 11,99 CV                1051\n",
       "3     De 12 a 15,99 CV                 975\n",
       "4  De 16 CV a 19,99 CV                 148\n",
       "5       De 20 CV y más                  29"
      ]
     },
     "execution_count": 11,
     "metadata": {},
     "output_type": "execute_result"
    }
   ],
   "source": [
    "datosBarris[2023]['LA SEU']['Vehículos_Turismos_según_potencia']"
   ]
  },
  {
   "cell_type": "code",
   "execution_count": 13,
   "metadata": {
    "metadata": {}
   },
   "outputs": [
    {
     "data": {
      "text/html": [
       "<div>\n",
       "<style scoped>\n",
       "    .dataframe tbody tr th:only-of-type {\n",
       "        vertical-align: middle;\n",
       "    }\n",
       "\n",
       "    .dataframe tbody tr th {\n",
       "        vertical-align: top;\n",
       "    }\n",
       "\n",
       "    .dataframe thead th {\n",
       "        text-align: right;\n",
       "    }\n",
       "</style>\n",
       "<table border=\"1\" class=\"dataframe\">\n",
       "  <thead>\n",
       "    <tr style=\"text-align: right;\">\n",
       "      <th></th>\n",
       "      <th>Partido</th>\n",
       "      <th>Total</th>\n",
       "    </tr>\n",
       "  </thead>\n",
       "  <tbody>\n",
       "    <tr>\n",
       "      <th>0</th>\n",
       "      <td>PARTIDO POPULAR</td>\n",
       "      <td>6553</td>\n",
       "    </tr>\n",
       "    <tr>\n",
       "      <th>1</th>\n",
       "      <td>COMPROMÍS PER VALÈNCIA: ACORD PER GUANYAR</td>\n",
       "      <td>4880</td>\n",
       "    </tr>\n",
       "    <tr>\n",
       "      <th>2</th>\n",
       "      <td>PARTIDO SOCIALISTA OBRERO ESPAÑOL</td>\n",
       "      <td>4689</td>\n",
       "    </tr>\n",
       "    <tr>\n",
       "      <th>3</th>\n",
       "      <td>VOX</td>\n",
       "      <td>2676</td>\n",
       "    </tr>\n",
       "    <tr>\n",
       "      <th>4</th>\n",
       "      <td>UNIDES PODEM-ESQUERRA UNIDA</td>\n",
       "      <td>448</td>\n",
       "    </tr>\n",
       "    <tr>\n",
       "      <th>5</th>\n",
       "      <td>CIUDADANOS-PARTIDO DE LA CIUDADANIA</td>\n",
       "      <td>408</td>\n",
       "    </tr>\n",
       "    <tr>\n",
       "      <th>6</th>\n",
       "      <td>PARTIDO ANIMALISTA CON EL MEDIO AMBIENTE (PACMA)</td>\n",
       "      <td>216</td>\n",
       "    </tr>\n",
       "    <tr>\n",
       "      <th>7</th>\n",
       "      <td>VALENCIA UNIDA</td>\n",
       "      <td>96</td>\n",
       "    </tr>\n",
       "    <tr>\n",
       "      <th>8</th>\n",
       "      <td>ESCAÑOS EN BLANCO PARA DEJAR ESCAÑOS VACÍOS</td>\n",
       "      <td>30</td>\n",
       "    </tr>\n",
       "    <tr>\n",
       "      <th>9</th>\n",
       "      <td>PARTIDO COMUNISTA DE LOS PUEBLOS DE ESPAÑA</td>\n",
       "      <td>27</td>\n",
       "    </tr>\n",
       "    <tr>\n",
       "      <th>10</th>\n",
       "      <td>POR UN MUNDO MAS JUSTO</td>\n",
       "      <td>27</td>\n",
       "    </tr>\n",
       "    <tr>\n",
       "      <th>11</th>\n",
       "      <td>VALENCIA DECIDIX</td>\n",
       "      <td>20</td>\n",
       "    </tr>\n",
       "    <tr>\n",
       "      <th>12</th>\n",
       "      <td>ACTUANDO CONTIGO PARTIDO PARA LA SOCIEDAD</td>\n",
       "      <td>19</td>\n",
       "    </tr>\n",
       "    <tr>\n",
       "      <th>13</th>\n",
       "      <td>ESQUERRA REPUBLICANA DEL PAIS VALENCIÀ - ACORD...</td>\n",
       "      <td>12</td>\n",
       "    </tr>\n",
       "    <tr>\n",
       "      <th>14</th>\n",
       "      <td>FALANGE ESPAÑOLA DE LAS J.O.N.S.</td>\n",
       "      <td>6</td>\n",
       "    </tr>\n",
       "  </tbody>\n",
       "</table>\n",
       "</div>"
      ],
      "text/plain": [
       "                                              Partido Total\n",
       "0                                     PARTIDO POPULAR  6553\n",
       "1           COMPROMÍS PER VALÈNCIA: ACORD PER GUANYAR  4880\n",
       "2                   PARTIDO SOCIALISTA OBRERO ESPAÑOL  4689\n",
       "3                                                 VOX  2676\n",
       "4                         UNIDES PODEM-ESQUERRA UNIDA   448\n",
       "5                 CIUDADANOS-PARTIDO DE LA CIUDADANIA   408\n",
       "6    PARTIDO ANIMALISTA CON EL MEDIO AMBIENTE (PACMA)   216\n",
       "7                                      VALENCIA UNIDA    96\n",
       "8         ESCAÑOS EN BLANCO PARA DEJAR ESCAÑOS VACÍOS    30\n",
       "9          PARTIDO COMUNISTA DE LOS PUEBLOS DE ESPAÑA    27\n",
       "10                             POR UN MUNDO MAS JUSTO    27\n",
       "11                                   VALENCIA DECIDIX    20\n",
       "12          ACTUANDO CONTIGO PARTIDO PARA LA SOCIEDAD    19\n",
       "13  ESQUERRA REPUBLICANA DEL PAIS VALENCIÀ - ACORD...    12\n",
       "14                   FALANGE ESPAÑOLA DE LAS J.O.N.S.     6"
      ]
     },
     "execution_count": 13,
     "metadata": {},
     "output_type": "execute_result"
    }
   ],
   "source": [
    "datosBarris[2023]['BENICALAP']['Elecciones_Votos_a_candidaturas']"
   ]
  },
  {
   "cell_type": "markdown",
   "metadata": {},
   "source": [
    "# Tidyficación para introducción en modelos"
   ]
  },
  {
   "cell_type": "code",
   "execution_count": 14,
   "metadata": {
    "metadata": {}
   },
   "outputs": [
    {
     "data": {
      "text/plain": [
       "dict_keys(['Padrón_Superficie_y_densidad_de_población', 'Padrón_Población_por_sexo_y_edad_(grandes_grupos)', 'Padrón_Población_según_lugar_de_nacimiento_y_sexo', 'Padrón_Población_extranjera_según_nacionalidad,_por_contienentes', 'Padrón_Número_de_hojas_familiares_según_composición', 'Padrón_Indicadores_demográficos', 'MovPadrón_Resumen_de_movimientos_registrados_en_el_Padrón_Municipal', 'MovPadrón_Indicadores_demográficos', 'Vehículos_Vehículos_según_tipo', 'Vehículos_Turismos_según_potencia', 'Catastro_Bienes_Inmuebles_según_el_año_de_antigüedad', 'Catastro_Bienes_Inmuebles_construidas_después_de_1800_según_superficie_construida', 'Catastro_Bienes_Inmuebles_construidas_después_de_1800_según_valor_catastral', 'Catastro_Valores_catastrales_medios', 'Catastro_Superficie_total_de_los_aparcamientos', 'Elecciones_Votos_a_candidaturas'])"
      ]
     },
     "execution_count": 14,
     "metadata": {},
     "output_type": "execute_result"
    }
   ],
   "source": [
    "# Mirar keys de datosBarris\n",
    "datosBarris[2023]['LA SEU'].keys()"
   ]
  },
  {
   "cell_type": "code",
   "execution_count": 39,
   "metadata": {
    "metadata": {}
   },
   "outputs": [],
   "source": [
    "datosBarris_tidy = deepcopy(datosBarris) # deepcopy es para que no se modifique el original, aplicable a objetos que contienen referencias a otros objetos\n",
    "\n",
    "for year in years:\n",
    "    for barrio in datosBarris_tidy[year].keys():\n",
    "        \n",
    "        # Padrón_Superficie_y_densidad_de_población --> hecho, cada variable está en una columna\n",
    "        \n",
    "        # Padrón_Población_por_sexo_y_edad_(grandes_grupos)\n",
    "        \n",
    "        df_aux = deepcopy(datosBarris_tidy[year][barrio]['Padrón_Población_por_sexo_y_edad_(grandes_grupos)'])\n",
    "        df_aux['Porcentaje +65 años'] = df_aux['65 y más'] / df_aux['Total'] * 100\n",
    "        datosBarris_tidy[year][barrio]['Padrón_Población_por_sexo_y_edad_(grandes_grupos)'] = df_aux[['Porcentaje +65 años']].head(1)\n",
    "        \n",
    "        # Padrón_Población_según_lugar_de_nacimiento_y_sexo -> nada relevante, en principio (borrar, ese dataframe de dentro de datosBarris_tidy)\n",
    "        \n",
    "        del datosBarris_tidy[year][barrio]['Padrón_Población_según_lugar_de_nacimiento_y_sexo']\n",
    "        \n",
    "        # Padrón_Población_extranjera_según_nacionalidad,_por_contienentes -> nada relevante, en principio\n",
    "        \n",
    "        del datosBarris_tidy[year][barrio]['Padrón_Población_extranjera_según_nacionalidad,_por_contienentes']\n",
    "        \n",
    "        # Padrón_Número_de_hojas_familiares_según_composición -> nada relevante, en principio\n",
    "        \n",
    "        del datosBarris_tidy[year][barrio]['Padrón_Número_de_hojas_familiares_según_composición']\n",
    "        \n",
    "        # Padrón_Indicadores_demográficos\n",
    "        posiciones_variables = {\n",
    "        'Edad media': 1,\n",
    "        'Índice de envejecimiento': 2,\n",
    "        'Índice de sobreenvejecimiento': 3,\n",
    "        'Índice de estructura de la población activa': 5,\n",
    "        'Porcentaje de población extranjera': 8\n",
    "        }\n",
    "\n",
    "        df_aux = deepcopy(datosBarris_tidy[year][barrio]['Padrón_Indicadores_demográficos'])\n",
    "        df_aux['Edad media'] = df_aux.iloc[posiciones_variables['Edad media'], 1]\n",
    "        df_aux['Índice de envejecimiento'] = df_aux.iloc[posiciones_variables['Índice de envejecimiento'], 1]\n",
    "        df_aux['Índice de sobreenvejecimiento'] = df_aux.iloc[posiciones_variables['Índice de sobreenvejecimiento'], 1]\n",
    "        df_aux['Índice de estructura de la población activa'] = df_aux.iloc[posiciones_variables['Índice de estructura de la población activa'], 1]\n",
    "        df_aux['Porcentaje de población extranjera'] = df_aux.iloc[posiciones_variables['Porcentaje de población extranjera'], 1]\n",
    "        \n",
    "        df_aux = df_aux.drop(df_aux.columns[[0, 1]], axis=1).head(1)\n",
    "        datosBarris_tidy[year][barrio]['Padrón_Indicadores_demográficos'] = df_aux\n",
    "        \n",
    "        # MovPadrón_Resumen_de_movimientos_registrados_en_el_Padrón_Municipal -> nada relevante, en principio\n",
    "        \n",
    "        del datosBarris_tidy[year][barrio]['MovPadrón_Resumen_de_movimientos_registrados_en_el_Padrón_Municipal']\n",
    "        # MovPadrón_Indicadores_demográficos -> nada relevante, en principio\n",
    "        \n",
    "        del datosBarris_tidy[year][barrio]['MovPadrón_Indicadores_demográficos']\n",
    "        \n",
    "        # Vehículos_Vehículos_según_tipo -> difícil de interpretar, no le veo del todo utilidad\n",
    "        \n",
    "        del datosBarris_tidy[year][barrio]['Vehículos_Vehículos_según_tipo']\n",
    "        \n",
    "        # Vehículos_Turismos_según_potencia -> difícil de interpretar\n",
    "        \n",
    "        del datosBarris_tidy[year][barrio]['Vehículos_Turismos_según_potencia']\n",
    "\n",
    "        # Catastro_Bienes_Inmuebles_según_el_año_de_antigüedad, necesito \n",
    "        df_aux = deepcopy(datosBarris_tidy[year][barrio]['Catastro_Bienes_Inmuebles_según_el_año_de_antigüedad'])\n",
    "        df_aux = df_aux.drop(columns = ['Total'])\n",
    "        max_column = df_aux.iloc[0].idxmax()\n",
    "        df_aux[\"AñoInmuebleFrec\"] = max_column\n",
    "        \n",
    "        datosBarris_tidy[year][barrio]['Catastro_Bienes_Inmuebles_según_el_año_de_antigüedad'] = df_aux[['AñoInmuebleFrec']].head(1)\n",
    "        \n",
    "        # Catastro_Bienes_Inmuebles_construidas_después_de_1800_según_superficie_construida\n",
    "        df_aux = deepcopy(datosBarris_tidy[year][barrio]['Catastro_Bienes_Inmuebles_construidas_después_de_1800_según_superficie_construida'])[['Sup. construida media (m²)']]\n",
    "        \n",
    "        datosBarris_tidy[year][barrio]['Catastro_Bienes_Inmuebles_construidas_después_de_1800_según_superficie_construida'] = df_aux.head(1)\n",
    "        \n",
    "        # Catastro_Bienes_Inmuebles_construidas_después_de_1800_según_valor_catastral\n",
    "        # Hacer algo similar que lo de hallar término con más frecuencia\n",
    "        df_aux = deepcopy(datosBarris_tidy[year][barrio]['Catastro_Bienes_Inmuebles_construidas_después_de_1800_según_valor_catastral'])\n",
    "        df_aux = df_aux.drop(columns = ['Total'])\n",
    "        max_column = df_aux.iloc[0].idxmax()\n",
    "        df_aux[\"ValorCatastralFrec\"] = max_column\n",
    "        \n",
    "        datosBarris_tidy[year][barrio]['Catastro_Bienes_Inmuebles_construidas_después_de_1800_según_valor_catastral'] = df_aux[['ValorCatastralFrec']].head(1)\n",
    "        \n",
    "        # Catastro_Valores_catastrales_medios\n",
    "        df_aux = deepcopy(datosBarris_tidy[year][barrio]['Catastro_Valores_catastrales_medios'])[['Valor por m²']]\n",
    "        \n",
    "        datosBarris_tidy[year][barrio]['Catastro_Valores_catastrales_medios'] = df_aux.head(1)\n",
    "        \n",
    "        # Catastro_Superficie_total_de_los_aparcamientos -> no la veo muy relevante\n",
    "        \n",
    "        del datosBarris_tidy[year][barrio]['Catastro_Superficie_total_de_los_aparcamientos']\n",
    "        \n",
    "        # Elecciones_Votos_a_candidaturas\n",
    "        df_aux = deepcopy(datosBarris_tidy[year][barrio]['Elecciones_Votos_a_candidaturas'])\n",
    "        # Sacar el partido con más votos (fila 0), columna 'Partido'\n",
    "        df_aux = df_aux.drop(columns = ['Total'])\n",
    "        \n",
    "        datosBarris_tidy[year][barrio]['Elecciones_Votos_a_candidaturas'] = df_aux.head(1)\n",
    "        \n",
    "        # MERGE de todos los dataframes anteriores\n",
    "        \n",
    "        datosBarris_tidy[year][barrio] = pd.concat([datosBarris_tidy[year][barrio][key] for key in datosBarris_tidy[year][barrio].keys()], axis=1)"
   ]
  },
  {
   "cell_type": "code",
   "execution_count": 42,
   "metadata": {
    "metadata": {}
   },
   "outputs": [
    {
     "data": {
      "text/html": [
       "<div>\n",
       "<style scoped>\n",
       "    .dataframe tbody tr th:only-of-type {\n",
       "        vertical-align: middle;\n",
       "    }\n",
       "\n",
       "    .dataframe tbody tr th {\n",
       "        vertical-align: top;\n",
       "    }\n",
       "\n",
       "    .dataframe thead th {\n",
       "        text-align: right;\n",
       "    }\n",
       "</style>\n",
       "<table border=\"1\" class=\"dataframe\">\n",
       "  <thead>\n",
       "    <tr style=\"text-align: right;\">\n",
       "      <th></th>\n",
       "      <th>Personas / Persones</th>\n",
       "      <th>Superficie / Superfície</th>\n",
       "      <th>Densidad de población / Densitat de població</th>\n",
       "      <th>Porcentaje +65 años</th>\n",
       "      <th>Edad media</th>\n",
       "      <th>Índice de envejecimiento</th>\n",
       "      <th>Índice de sobreenvejecimiento</th>\n",
       "      <th>Índice de estructura de la población activa</th>\n",
       "      <th>Porcentaje de población extranjera</th>\n",
       "      <th>AñoInmuebleFrec</th>\n",
       "      <th>Sup. construida media (m²)</th>\n",
       "      <th>ValorCatastralFrec</th>\n",
       "      <th>Valor por m²</th>\n",
       "      <th>Partido</th>\n",
       "    </tr>\n",
       "  </thead>\n",
       "  <tbody>\n",
       "    <tr>\n",
       "      <th>0</th>\n",
       "      <td>42725</td>\n",
       "      <td>171.895</td>\n",
       "      <td>248.552896</td>\n",
       "      <td>18.291398</td>\n",
       "      <td>43</td>\n",
       "      <td>120.2</td>\n",
       "      <td>13.9</td>\n",
       "      <td>137.9</td>\n",
       "      <td>16.5</td>\n",
       "      <td>1961-80</td>\n",
       "      <td>104.176912</td>\n",
       "      <td>36-48</td>\n",
       "      <td>408.03034</td>\n",
       "      <td>PARTIDO POPULAR</td>\n",
       "    </tr>\n",
       "  </tbody>\n",
       "</table>\n",
       "</div>"
      ],
      "text/plain": [
       "  Personas / Persones Superficie / Superfície  \\\n",
       "0               42725                 171.895   \n",
       "\n",
       "  Densidad de población / Densitat de població Porcentaje +65 años  \\\n",
       "0                                   248.552896           18.291398   \n",
       "\n",
       "   Edad media  Índice de envejecimiento  Índice de sobreenvejecimiento  \\\n",
       "0          43                     120.2                           13.9   \n",
       "\n",
       "   Índice de estructura de la población activa  \\\n",
       "0                                        137.9   \n",
       "\n",
       "   Porcentaje de población extranjera AñoInmuebleFrec  \\\n",
       "0                                16.5         1961-80   \n",
       "\n",
       "  Sup. construida media (m²) ValorCatastralFrec Valor por m²          Partido  \n",
       "0                 104.176912              36-48    408.03034  PARTIDO POPULAR  "
      ]
     },
     "execution_count": 42,
     "metadata": {},
     "output_type": "execute_result"
    }
   ],
   "source": [
    "datosBarris_tidy[2023]['BENICALAP']"
   ]
  },
  {
   "cell_type": "markdown",
   "metadata": {},
   "source": [
    "## Visualización de algunas variables"
   ]
  },
  {
   "cell_type": "code",
   "execution_count": 48,
   "metadata": {
    "metadata": {}
   },
   "outputs": [],
   "source": [
    "def plot_histogram(datos, year, variable, bins=20, kde = True, color='skyblue', title=None):\n",
    "    # Obtener todos los valores de la columna 'Personas / Persones' en todos los barrios\n",
    "    valores = []\n",
    "    for barrio in datos[year].keys():\n",
    "        valores.extend(datos[year][barrio][variable])\n",
    "\n",
    "    # Crear el histograma\n",
    "    plt.figure(figsize=(10, 6))\n",
    "    sns.histplot(valores, bins=bins, kde=kde, color=color)\n",
    "\n",
    "    # Añadir etiquetas y título\n",
    "    plt.xlabel(variable)\n",
    "    plt.ylabel('Frecuencia')\n",
    "    if title is None:\n",
    "        plt.title(f'Histograma de {variable} por Barrio')\n",
    "    else:\n",
    "        plt.title(title)\n",
    "\n",
    "    plt.show()"
   ]
  },
  {
   "cell_type": "code",
   "execution_count": 49,
   "metadata": {
    "metadata": {}
   },
   "outputs": [
    {
     "name": "stderr",
     "output_type": "stream",
     "text": [
      "c:\\Users\\jesus\\anaconda3\\envs\\NLP_310\\lib\\site-packages\\seaborn\\_oldcore.py:1119: FutureWarning: use_inf_as_na option is deprecated and will be removed in a future version. Convert inf values to NaN before operating instead.\n",
      "  with pd.option_context('mode.use_inf_as_na', True):\n"
     ]
    },
    {
     "data": {
      "image/png": "[encoded data removed]",
      "text/plain": [
       "<Figure size 1000x600 with 1 Axes>"
      ]
     },
     "metadata": {},
     "output_type": "display_data"
    }
   ],
   "source": [
    "plot_histogram(datosBarris_tidy, 2023, 'Personas / Persones', bins = 20, kde = True, color = 'skyblue', title = 'Histograma de Personas por Barrio')"
   ]
  }
 ],
 "metadata": {
  "kernelspec": {
   "display_name": "NLP_3.10",
   "language": "python",
   "name": "python3"
  },
  "language_info": {
   "codemirror_mode": {
    "name": "ipython",
    "version": 3
   },
   "file_extension": ".py",
   "mimetype": "text/x-python",
   "name": "python",
   "nbconvert_exporter": "python",
   "pygments_lexer": "ipython3",
   "version": "3.10.13"
  }
 },
 "nbformat": 4,
 "nbformat_minor": 2
}
