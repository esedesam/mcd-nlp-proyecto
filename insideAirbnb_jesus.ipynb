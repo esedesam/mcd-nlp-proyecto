{
 "cells": [
  {
   "cell_type": "markdown",
   "metadata": {},
   "source": [
    "# Notebook en el que se obtienen las opiniones de Inside Airbnb\n",
    "\n",
    "by jemarle 🐷"
   ]
  },
  {
   "cell_type": "markdown",
   "metadata": {},
   "source": [
    "Enlace que tengo que usar: https://insideairbnb.com/get-the-data"
   ]
  },
  {
   "cell_type": "code",
   "execution_count": 1,
   "metadata": {},
   "outputs": [],
   "source": [
    "import pandas as pd\n",
    "import numpy as np\n",
    "import matplotlib.pyplot as plt\n",
    "import seaborn as sns\n",
    "import os\n",
    "import requests\n",
    "import shutil\n",
    "import zipfile"
   ]
  },
  {
   "cell_type": "code",
   "execution_count": 2,
   "metadata": {},
   "outputs": [],
   "source": [
    "urlListings = \"https://data.insideairbnb.com/spain/vc/valencia/2024-03-24/data/listings.csv.gz\"\n",
    "destination_folder = \"./data/inside_airbnb\"\n",
    "\n",
    "if not os.path.exists(destination_folder):\n",
    "    os.makedirs(destination_folder)\n",
    "\n",
    "filename_gz_listings = os.path.join(destination_folder, \"listings.csv.gz\")\n",
    "response = requests.get(urlListings)\n",
    "with open(filename_gz_listings, 'wb') as file:\n",
    "    file.write(response.content)\n",
    "    \n",
    "urlReviews = \"https://data.insideairbnb.com/spain/vc/valencia/2024-03-24/data/reviews.csv.gz\"\n",
    "\n",
    "filename_gz_reviews = os.path.join(destination_folder, \"reviews.csv.gz\")\n",
    "response = requests.get(urlReviews)\n",
    "with open(filename_gz_reviews, 'wb') as file:\n",
    "    file.write(response.content)"
   ]
  },
  {
   "cell_type": "code",
   "execution_count": 3,
   "metadata": {},
   "outputs": [
    {
     "data": {
      "text/plain": [
       "['listings.csv.gz', 'reviews.csv.gz']"
      ]
     },
     "execution_count": 3,
     "metadata": {},
     "output_type": "execute_result"
    }
   ],
   "source": [
    "files = os.listdir(destination_folder)\n",
    "files"
   ]
  },
  {
   "cell_type": "markdown",
   "metadata": {},
   "source": [
    "En detailedReviews tenemos todas las Reviews por separado, repitiéndose por cada alojamiento (listing) igual."
   ]
  },
  {
   "cell_type": "code",
   "execution_count": 4,
   "metadata": {},
   "outputs": [
    {
     "data": {
      "text/html": [
       "<div>\n",
       "<style scoped>\n",
       "    .dataframe tbody tr th:only-of-type {\n",
       "        vertical-align: middle;\n",
       "    }\n",
       "\n",
       "    .dataframe tbody tr th {\n",
       "        vertical-align: top;\n",
       "    }\n",
       "\n",
       "    .dataframe thead th {\n",
       "        text-align: right;\n",
       "    }\n",
       "</style>\n",
       "<table border=\"1\" class=\"dataframe\">\n",
       "  <thead>\n",
       "    <tr style=\"text-align: right;\">\n",
       "      <th></th>\n",
       "      <th>listing_id</th>\n",
       "      <th>id</th>\n",
       "      <th>date</th>\n",
       "      <th>reviewer_id</th>\n",
       "      <th>reviewer_name</th>\n",
       "      <th>comments</th>\n",
       "    </tr>\n",
       "  </thead>\n",
       "  <tbody>\n",
       "    <tr>\n",
       "      <th>0</th>\n",
       "      <td>48154</td>\n",
       "      <td>117554</td>\n",
       "      <td>2010-10-12</td>\n",
       "      <td>180238</td>\n",
       "      <td>Martha</td>\n",
       "      <td>Toni's place was perfect in so many ways.  It ...</td>\n",
       "    </tr>\n",
       "    <tr>\n",
       "      <th>1</th>\n",
       "      <td>48154</td>\n",
       "      <td>145645</td>\n",
       "      <td>2010-11-28</td>\n",
       "      <td>204240</td>\n",
       "      <td>Mark</td>\n",
       "      <td>Awesome stay!! We'd recommend Toni's apartment...</td>\n",
       "    </tr>\n",
       "    <tr>\n",
       "      <th>2</th>\n",
       "      <td>48154</td>\n",
       "      <td>190572</td>\n",
       "      <td>2011-03-01</td>\n",
       "      <td>258565</td>\n",
       "      <td>Domenico</td>\n",
       "      <td>really nice house in a wonderfull position! yo...</td>\n",
       "    </tr>\n",
       "    <tr>\n",
       "      <th>3</th>\n",
       "      <td>48154</td>\n",
       "      <td>195081</td>\n",
       "      <td>2011-03-08</td>\n",
       "      <td>213496</td>\n",
       "      <td>Romina &amp; Martín</td>\n",
       "      <td>Apartamento muy agradable, al igual que su pro...</td>\n",
       "    </tr>\n",
       "    <tr>\n",
       "      <th>4</th>\n",
       "      <td>48154</td>\n",
       "      <td>218435</td>\n",
       "      <td>2011-04-05</td>\n",
       "      <td>340330</td>\n",
       "      <td>Jenna</td>\n",
       "      <td>Was a great apartment, easy access to the site...</td>\n",
       "    </tr>\n",
       "  </tbody>\n",
       "</table>\n",
       "</div>"
      ],
      "text/plain": [
       "   listing_id      id        date  reviewer_id    reviewer_name  \\\n",
       "0       48154  117554  2010-10-12       180238           Martha   \n",
       "1       48154  145645  2010-11-28       204240             Mark   \n",
       "2       48154  190572  2011-03-01       258565         Domenico   \n",
       "3       48154  195081  2011-03-08       213496  Romina & Martín   \n",
       "4       48154  218435  2011-04-05       340330            Jenna   \n",
       "\n",
       "                                            comments  \n",
       "0  Toni's place was perfect in so many ways.  It ...  \n",
       "1  Awesome stay!! We'd recommend Toni's apartment...  \n",
       "2  really nice house in a wonderfull position! yo...  \n",
       "3  Apartamento muy agradable, al igual que su pro...  \n",
       "4  Was a great apartment, easy access to the site...  "
      ]
     },
     "execution_count": 4,
     "metadata": {},
     "output_type": "execute_result"
    }
   ],
   "source": [
    "detailedReviews = pd.read_csv('./data/inside_airbnb/reviews.csv.gz', compression='gzip', low_memory=False)\n",
    "detailedReviews.head()"
   ]
  },
  {
   "cell_type": "markdown",
   "metadata": {},
   "source": [
    "En detailedListings aparece cada alojamiento (id única). Aparece un neighborhood_overview, donde supongo que habrán hecho la extracción de características de antemano ya ellos."
   ]
  },
  {
   "cell_type": "code",
   "execution_count": 5,
   "metadata": {},
   "outputs": [
    {
     "data": {
      "text/html": [
       "<div>\n",
       "<style scoped>\n",
       "    .dataframe tbody tr th:only-of-type {\n",
       "        vertical-align: middle;\n",
       "    }\n",
       "\n",
       "    .dataframe tbody tr th {\n",
       "        vertical-align: top;\n",
       "    }\n",
       "\n",
       "    .dataframe thead th {\n",
       "        text-align: right;\n",
       "    }\n",
       "</style>\n",
       "<table border=\"1\" class=\"dataframe\">\n",
       "  <thead>\n",
       "    <tr style=\"text-align: right;\">\n",
       "      <th></th>\n",
       "      <th>id</th>\n",
       "      <th>listing_url</th>\n",
       "      <th>scrape_id</th>\n",
       "      <th>last_scraped</th>\n",
       "      <th>source</th>\n",
       "      <th>name</th>\n",
       "      <th>description</th>\n",
       "      <th>neighborhood_overview</th>\n",
       "      <th>picture_url</th>\n",
       "      <th>host_id</th>\n",
       "      <th>...</th>\n",
       "      <th>review_scores_communication</th>\n",
       "      <th>review_scores_location</th>\n",
       "      <th>review_scores_value</th>\n",
       "      <th>license</th>\n",
       "      <th>instant_bookable</th>\n",
       "      <th>calculated_host_listings_count</th>\n",
       "      <th>calculated_host_listings_count_entire_homes</th>\n",
       "      <th>calculated_host_listings_count_private_rooms</th>\n",
       "      <th>calculated_host_listings_count_shared_rooms</th>\n",
       "      <th>reviews_per_month</th>\n",
       "    </tr>\n",
       "  </thead>\n",
       "  <tbody>\n",
       "    <tr>\n",
       "      <th>0</th>\n",
       "      <td>26405420</td>\n",
       "      <td>https://www.airbnb.com/rooms/26405420</td>\n",
       "      <td>20240324214747</td>\n",
       "      <td>2024-03-24</td>\n",
       "      <td>city scrape</td>\n",
       "      <td>Ca María</td>\n",
       "      <td>2mts from the beach. Jacuzzi terrace A&lt;br /&gt;&lt;b...</td>\n",
       "      <td>It is a very quiet and residential neighborhoo...</td>\n",
       "      <td>https://a0.muscache.com/pictures/fbb3dfe2-d1f0...</td>\n",
       "      <td>198185545</td>\n",
       "      <td>...</td>\n",
       "      <td>4.99</td>\n",
       "      <td>4.75</td>\n",
       "      <td>4.67</td>\n",
       "      <td>vt-46858 v</td>\n",
       "      <td>f</td>\n",
       "      <td>2</td>\n",
       "      <td>2</td>\n",
       "      <td>0</td>\n",
       "      <td>0</td>\n",
       "      <td>1.83</td>\n",
       "    </tr>\n",
       "    <tr>\n",
       "      <th>1</th>\n",
       "      <td>1110191981989532950</td>\n",
       "      <td>https://www.airbnb.com/rooms/1110191981989532950</td>\n",
       "      <td>20240324214747</td>\n",
       "      <td>2024-03-25</td>\n",
       "      <td>city scrape</td>\n",
       "      <td>Feliz casa!</td>\n",
       "      <td>2 km to city center, good transportation, supe...</td>\n",
       "      <td>NaN</td>\n",
       "      <td>https://a0.muscache.com/pictures/hosting/Hosti...</td>\n",
       "      <td>312158352</td>\n",
       "      <td>...</td>\n",
       "      <td>NaN</td>\n",
       "      <td>NaN</td>\n",
       "      <td>NaN</td>\n",
       "      <td>NaN</td>\n",
       "      <td>t</td>\n",
       "      <td>1</td>\n",
       "      <td>0</td>\n",
       "      <td>0</td>\n",
       "      <td>1</td>\n",
       "      <td>NaN</td>\n",
       "    </tr>\n",
       "    <tr>\n",
       "      <th>2</th>\n",
       "      <td>970202040703865678</td>\n",
       "      <td>https://www.airbnb.com/rooms/970202040703865678</td>\n",
       "      <td>20240324214747</td>\n",
       "      <td>2024-03-25</td>\n",
       "      <td>city scrape</td>\n",
       "      <td>apartamento completo 4</td>\n",
       "      <td>The apartment does not have a kitchen and does...</td>\n",
       "      <td>NaN</td>\n",
       "      <td>https://a0.muscache.com/pictures/4457bfe1-47da...</td>\n",
       "      <td>474489305</td>\n",
       "      <td>...</td>\n",
       "      <td>NaN</td>\n",
       "      <td>NaN</td>\n",
       "      <td>NaN</td>\n",
       "      <td>NaN</td>\n",
       "      <td>f</td>\n",
       "      <td>24</td>\n",
       "      <td>4</td>\n",
       "      <td>20</td>\n",
       "      <td>0</td>\n",
       "      <td>NaN</td>\n",
       "    </tr>\n",
       "    <tr>\n",
       "      <th>3</th>\n",
       "      <td>1110200636787207468</td>\n",
       "      <td>https://www.airbnb.com/rooms/1110200636787207468</td>\n",
       "      <td>20240324214747</td>\n",
       "      <td>2024-03-25</td>\n",
       "      <td>city scrape</td>\n",
       "      <td>Eco Suite mediterránea</td>\n",
       "      <td>Forget the worries in this great home - it's a...</td>\n",
       "      <td>NaN</td>\n",
       "      <td>https://a0.muscache.com/pictures/miso/Hosting-...</td>\n",
       "      <td>425428991</td>\n",
       "      <td>...</td>\n",
       "      <td>NaN</td>\n",
       "      <td>NaN</td>\n",
       "      <td>NaN</td>\n",
       "      <td>NaN</td>\n",
       "      <td>t</td>\n",
       "      <td>10</td>\n",
       "      <td>10</td>\n",
       "      <td>0</td>\n",
       "      <td>0</td>\n",
       "      <td>NaN</td>\n",
       "    </tr>\n",
       "    <tr>\n",
       "      <th>4</th>\n",
       "      <td>1093325332010686347</td>\n",
       "      <td>https://www.airbnb.com/rooms/1093325332010686347</td>\n",
       "      <td>20240324214747</td>\n",
       "      <td>2024-03-25</td>\n",
       "      <td>previous scrape</td>\n",
       "      <td>Apartment close to the Turia</td>\n",
       "      <td>Enjoy a stylish experience at this centrally-l...</td>\n",
       "      <td>NaN</td>\n",
       "      <td>https://a0.muscache.com/pictures/hosting/Hosti...</td>\n",
       "      <td>287097266</td>\n",
       "      <td>...</td>\n",
       "      <td>NaN</td>\n",
       "      <td>NaN</td>\n",
       "      <td>NaN</td>\n",
       "      <td>NaN</td>\n",
       "      <td>f</td>\n",
       "      <td>1</td>\n",
       "      <td>1</td>\n",
       "      <td>0</td>\n",
       "      <td>0</td>\n",
       "      <td>NaN</td>\n",
       "    </tr>\n",
       "  </tbody>\n",
       "</table>\n",
       "<p>5 rows × 75 columns</p>\n",
       "</div>"
      ],
      "text/plain": [
       "                    id                                       listing_url  \\\n",
       "0             26405420             https://www.airbnb.com/rooms/26405420   \n",
       "1  1110191981989532950  https://www.airbnb.com/rooms/1110191981989532950   \n",
       "2   970202040703865678   https://www.airbnb.com/rooms/970202040703865678   \n",
       "3  1110200636787207468  https://www.airbnb.com/rooms/1110200636787207468   \n",
       "4  1093325332010686347  https://www.airbnb.com/rooms/1093325332010686347   \n",
       "\n",
       "        scrape_id last_scraped           source                          name  \\\n",
       "0  20240324214747   2024-03-24      city scrape                      Ca María   \n",
       "1  20240324214747   2024-03-25      city scrape                   Feliz casa!   \n",
       "2  20240324214747   2024-03-25      city scrape        apartamento completo 4   \n",
       "3  20240324214747   2024-03-25      city scrape        Eco Suite mediterránea   \n",
       "4  20240324214747   2024-03-25  previous scrape  Apartment close to the Turia   \n",
       "\n",
       "                                         description  \\\n",
       "0  2mts from the beach. Jacuzzi terrace A<br /><b...   \n",
       "1  2 km to city center, good transportation, supe...   \n",
       "2  The apartment does not have a kitchen and does...   \n",
       "3  Forget the worries in this great home - it's a...   \n",
       "4  Enjoy a stylish experience at this centrally-l...   \n",
       "\n",
       "                               neighborhood_overview  \\\n",
       "0  It is a very quiet and residential neighborhoo...   \n",
       "1                                                NaN   \n",
       "2                                                NaN   \n",
       "3                                                NaN   \n",
       "4                                                NaN   \n",
       "\n",
       "                                         picture_url    host_id  ...  \\\n",
       "0  https://a0.muscache.com/pictures/fbb3dfe2-d1f0...  198185545  ...   \n",
       "1  https://a0.muscache.com/pictures/hosting/Hosti...  312158352  ...   \n",
       "2  https://a0.muscache.com/pictures/4457bfe1-47da...  474489305  ...   \n",
       "3  https://a0.muscache.com/pictures/miso/Hosting-...  425428991  ...   \n",
       "4  https://a0.muscache.com/pictures/hosting/Hosti...  287097266  ...   \n",
       "\n",
       "  review_scores_communication review_scores_location review_scores_value  \\\n",
       "0                        4.99                   4.75                4.67   \n",
       "1                         NaN                    NaN                 NaN   \n",
       "2                         NaN                    NaN                 NaN   \n",
       "3                         NaN                    NaN                 NaN   \n",
       "4                         NaN                    NaN                 NaN   \n",
       "\n",
       "      license instant_bookable calculated_host_listings_count  \\\n",
       "0  vt-46858 v                f                              2   \n",
       "1         NaN                t                              1   \n",
       "2         NaN                f                             24   \n",
       "3         NaN                t                             10   \n",
       "4         NaN                f                              1   \n",
       "\n",
       "  calculated_host_listings_count_entire_homes  \\\n",
       "0                                           2   \n",
       "1                                           0   \n",
       "2                                           4   \n",
       "3                                          10   \n",
       "4                                           1   \n",
       "\n",
       "  calculated_host_listings_count_private_rooms  \\\n",
       "0                                            0   \n",
       "1                                            0   \n",
       "2                                           20   \n",
       "3                                            0   \n",
       "4                                            0   \n",
       "\n",
       "  calculated_host_listings_count_shared_rooms reviews_per_month  \n",
       "0                                           0              1.83  \n",
       "1                                           1               NaN  \n",
       "2                                           0               NaN  \n",
       "3                                           0               NaN  \n",
       "4                                           0               NaN  \n",
       "\n",
       "[5 rows x 75 columns]"
      ]
     },
     "execution_count": 5,
     "metadata": {},
     "output_type": "execute_result"
    }
   ],
   "source": [
    "# Leer el archivo listings.csv.gz, donde dentro hay un csv llamado listings.csv\n",
    "detailedListings = pd.read_csv(destination_folder + '/listings.csv.gz', compression='gzip', low_memory=False)\n",
    "detailedListings.head()"
   ]
  },
  {
   "cell_type": "code",
   "execution_count": 6,
   "metadata": {},
   "outputs": [
    {
     "data": {
      "text/plain": [
       "Index(['id', 'listing_url', 'scrape_id', 'last_scraped', 'source', 'name',\n",
       "       'description', 'neighborhood_overview', 'picture_url', 'host_id',\n",
       "       'host_url', 'host_name', 'host_since', 'host_location', 'host_about',\n",
       "       'host_response_time', 'host_response_rate', 'host_acceptance_rate',\n",
       "       'host_is_superhost', 'host_thumbnail_url', 'host_picture_url',\n",
       "       'host_neighbourhood', 'host_listings_count',\n",
       "       'host_total_listings_count', 'host_verifications',\n",
       "       'host_has_profile_pic', 'host_identity_verified', 'neighbourhood',\n",
       "       'neighbourhood_cleansed', 'neighbourhood_group_cleansed', 'latitude',\n",
       "       'longitude', 'property_type', 'room_type', 'accommodates', 'bathrooms',\n",
       "       'bathrooms_text', 'bedrooms', 'beds', 'amenities', 'price',\n",
       "       'minimum_nights', 'maximum_nights', 'minimum_minimum_nights',\n",
       "       'maximum_minimum_nights', 'minimum_maximum_nights',\n",
       "       'maximum_maximum_nights', 'minimum_nights_avg_ntm',\n",
       "       'maximum_nights_avg_ntm', 'calendar_updated', 'has_availability',\n",
       "       'availability_30', 'availability_60', 'availability_90',\n",
       "       'availability_365', 'calendar_last_scraped', 'number_of_reviews',\n",
       "       'number_of_reviews_ltm', 'number_of_reviews_l30d', 'first_review',\n",
       "       'last_review', 'review_scores_rating', 'review_scores_accuracy',\n",
       "       'review_scores_cleanliness', 'review_scores_checkin',\n",
       "       'review_scores_communication', 'review_scores_location',\n",
       "       'review_scores_value', 'license', 'instant_bookable',\n",
       "       'calculated_host_listings_count',\n",
       "       'calculated_host_listings_count_entire_homes',\n",
       "       'calculated_host_listings_count_private_rooms',\n",
       "       'calculated_host_listings_count_shared_rooms', 'reviews_per_month'],\n",
       "      dtype='object')"
      ]
     },
     "execution_count": 6,
     "metadata": {},
     "output_type": "execute_result"
    }
   ],
   "source": [
    "detailedListings.columns"
   ]
  },
  {
   "cell_type": "code",
   "execution_count": 7,
   "metadata": {},
   "outputs": [
    {
     "data": {
      "text/plain": [
       "8829"
      ]
     },
     "execution_count": 7,
     "metadata": {},
     "output_type": "execute_result"
    }
   ],
   "source": [
    "detailedListings['id'].nunique()"
   ]
  },
  {
   "cell_type": "code",
   "execution_count": 8,
   "metadata": {},
   "outputs": [
    {
     "data": {
      "text/plain": [
       "19"
      ]
     },
     "execution_count": 8,
     "metadata": {},
     "output_type": "execute_result"
    }
   ],
   "source": [
    "detailedListings['neighbourhood_group_cleansed'].unique()\n",
    "\n",
    "# contar los únicos\n",
    "\n",
    "detailedListings['neighbourhood_group_cleansed'].nunique()"
   ]
  },
  {
   "cell_type": "code",
   "execution_count": 9,
   "metadata": {},
   "outputs": [
    {
     "data": {
      "text/plain": [
       "3420"
      ]
     },
     "execution_count": 9,
     "metadata": {},
     "output_type": "execute_result"
    }
   ],
   "source": [
    "# valores distintos de NA count en la columna neighborhood_overview\n",
    "\n",
    "detailedListings['neighborhood_overview'].nunique()"
   ]
  },
  {
   "cell_type": "code",
   "execution_count": 10,
   "metadata": {},
   "outputs": [
    {
     "data": {
      "text/plain": [
       "0     It is a very quiet and residential neighborhoo...\n",
       "5     UBICADO Entre las Av. del Puerto y de Francia,...\n",
       "6     Estamos a un paso de todo, a 5 minutos a pie d...\n",
       "14    Valencia is a famous Spanish city visited by t...\n",
       "15    The Botànic and El Carmen neighborhoods are tw...\n",
       "19    La ubicación de la calle esta bien estudiada e...\n",
       "23    El Barrio es encantador, muy bien comunicado a...\n",
       "28    Un Barrio tranquilo, muy cerca de supermercado...\n",
       "30    Estamos en un barrio tradicional valenciano. ....\n",
       "32    El Cabanyal, located in Valencia, is a vibrant...\n",
       "Name: neighborhood_overview, dtype: object"
      ]
     },
     "execution_count": 10,
     "metadata": {},
     "output_type": "execute_result"
    }
   ],
   "source": [
    "# Msotrar primeros de detailedListings que no sean NA\n",
    "\n",
    "detailedListings['neighborhood_overview'].dropna().head(n = 10)"
   ]
  },
  {
   "cell_type": "code",
   "execution_count": 11,
   "metadata": {},
   "outputs": [
    {
     "data": {
      "text/plain": [
       "<Axes: xlabel='neighbourhood_group_cleansed'>"
      ]
     },
     "execution_count": 11,
     "metadata": {},
     "output_type": "execute_result"
    },
    {
     "data": {
      "image/png": "[encoded data removed]",
      "text/plain": [
       "<Figure size 640x480 with 1 Axes>"
      ]
     },
     "metadata": {},
     "output_type": "display_data"
    }
   ],
   "source": [
    "detailedListings.groupby('neighbourhood_group_cleansed')['neighborhood_overview'].count()\n",
    "detailedListings.groupby('neighbourhood_group_cleansed')['neighborhood_overview'].count().plot(kind = 'bar')"
   ]
  },
  {
   "cell_type": "code",
   "execution_count": 12,
   "metadata": {},
   "outputs": [
    {
     "data": {
      "text/html": [
       "<div>\n",
       "<style scoped>\n",
       "    .dataframe tbody tr th:only-of-type {\n",
       "        vertical-align: middle;\n",
       "    }\n",
       "\n",
       "    .dataframe tbody tr th {\n",
       "        vertical-align: top;\n",
       "    }\n",
       "\n",
       "    .dataframe thead th {\n",
       "        text-align: right;\n",
       "    }\n",
       "</style>\n",
       "<table border=\"1\" class=\"dataframe\">\n",
       "  <thead>\n",
       "    <tr style=\"text-align: right;\">\n",
       "      <th></th>\n",
       "      <th>objectid</th>\n",
       "      <th>Nombre</th>\n",
       "      <th>Código distrito</th>\n",
       "      <th>gis.gis.DISTRITOS.area</th>\n",
       "      <th>geo_shape</th>\n",
       "      <th>geo_point_2d</th>\n",
       "      <th>latitud</th>\n",
       "      <th>longitud</th>\n",
       "    </tr>\n",
       "  </thead>\n",
       "  <tbody>\n",
       "    <tr>\n",
       "      <th>0</th>\n",
       "      <td>8</td>\n",
       "      <td>EL PLA DEL REAL</td>\n",
       "      <td>6</td>\n",
       "      <td>1692712.875</td>\n",
       "      <td>{\"coordinates\": [[[-0.3622859877164847, 39.484...</td>\n",
       "      <td>39.4745936913893, -0.3603780274174357</td>\n",
       "      <td>39.474594</td>\n",
       "      <td>-0.360378</td>\n",
       "    </tr>\n",
       "    <tr>\n",
       "      <th>1</th>\n",
       "      <td>10</td>\n",
       "      <td>EXTRAMURS</td>\n",
       "      <td>3</td>\n",
       "      <td>1971616.250</td>\n",
       "      <td>{\"coordinates\": [[[-0.3833952362210292, 39.481...</td>\n",
       "      <td>39.469024187643456, -0.385780005864596</td>\n",
       "      <td>39.469024</td>\n",
       "      <td>-0.385780</td>\n",
       "    </tr>\n",
       "    <tr>\n",
       "      <th>2</th>\n",
       "      <td>12</td>\n",
       "      <td>L'EIXAMPLE</td>\n",
       "      <td>2</td>\n",
       "      <td>1733140.500</td>\n",
       "      <td>{\"coordinates\": [[[-0.36453615919605226, 39.47...</td>\n",
       "      <td>39.46411452334249, -0.3704292703233094</td>\n",
       "      <td>39.464115</td>\n",
       "      <td>-0.370429</td>\n",
       "    </tr>\n",
       "    <tr>\n",
       "      <th>3</th>\n",
       "      <td>71</td>\n",
       "      <td>ALGIROS</td>\n",
       "      <td>13</td>\n",
       "      <td>NaN</td>\n",
       "      <td>{\"coordinates\": [[[-0.342757228635524, 39.4870...</td>\n",
       "      <td>39.47762702932769, -0.3427393297488325</td>\n",
       "      <td>39.477627</td>\n",
       "      <td>-0.342739</td>\n",
       "    </tr>\n",
       "    <tr>\n",
       "      <th>4</th>\n",
       "      <td>135</td>\n",
       "      <td>RASCANYA</td>\n",
       "      <td>15</td>\n",
       "      <td>NaN</td>\n",
       "      <td>{\"coordinates\": [[[-0.36769572194284833, 39.50...</td>\n",
       "      <td>39.495738628061105, -0.3676525156959352</td>\n",
       "      <td>39.495739</td>\n",
       "      <td>-0.367653</td>\n",
       "    </tr>\n",
       "  </tbody>\n",
       "</table>\n",
       "</div>"
      ],
      "text/plain": [
       "   objectid           Nombre  Código distrito  gis.gis.DISTRITOS.area  \\\n",
       "0         8  EL PLA DEL REAL                6             1692712.875   \n",
       "1        10        EXTRAMURS                3             1971616.250   \n",
       "2        12       L'EIXAMPLE                2             1733140.500   \n",
       "3        71          ALGIROS               13                     NaN   \n",
       "4       135         RASCANYA               15                     NaN   \n",
       "\n",
       "                                           geo_shape  \\\n",
       "0  {\"coordinates\": [[[-0.3622859877164847, 39.484...   \n",
       "1  {\"coordinates\": [[[-0.3833952362210292, 39.481...   \n",
       "2  {\"coordinates\": [[[-0.36453615919605226, 39.47...   \n",
       "3  {\"coordinates\": [[[-0.342757228635524, 39.4870...   \n",
       "4  {\"coordinates\": [[[-0.36769572194284833, 39.50...   \n",
       "\n",
       "                              geo_point_2d    latitud  longitud  \n",
       "0    39.4745936913893, -0.3603780274174357  39.474594 -0.360378  \n",
       "1   39.469024187643456, -0.385780005864596  39.469024 -0.385780  \n",
       "2   39.46411452334249, -0.3704292703233094  39.464115 -0.370429  \n",
       "3   39.47762702932769, -0.3427393297488325  39.477627 -0.342739  \n",
       "4  39.495738628061105, -0.3676525156959352  39.495739 -0.367653  "
      ]
     },
     "execution_count": 12,
     "metadata": {},
     "output_type": "execute_result"
    }
   ],
   "source": [
    "idDistritos = pd.read_csv('./data/barrios/districtes-distritos.csv', delimiter=';')\n",
    "idDistritos.head()"
   ]
  },
  {
   "cell_type": "code",
   "execution_count": 13,
   "metadata": {},
   "outputs": [
    {
     "data": {
      "text/plain": [
       "True"
      ]
     },
     "execution_count": 13,
     "metadata": {},
     "output_type": "execute_result"
    }
   ],
   "source": [
    "# Ver si hay una equivalencia entre los valores de idDistritos['Nombre']  y detailedListings['neighbourhood_group_cleansed'] (en el sentido de que haya una equivalencia uno a uno entre los valores de ambas columnas)\n",
    "\n",
    "idDistritos['Nombre'].nunique()\n",
    "\n",
    "detailedListings['neighbourhood_group_cleansed'].nunique()\n",
    "\n",
    "# Ver si hay una equivalencia uno a uno entre los valores de ambas columnas\n",
    "\n",
    "set(idDistritos['Nombre']) == set(detailedListings['neighbourhood_group_cleansed'])"
   ]
  },
  {
   "cell_type": "code",
   "execution_count": 14,
   "metadata": {},
   "outputs": [],
   "source": [
    "# guardar un dataframe con detailedReviews_neigh en el que se cojan solo las filas en las que neighborhood_overview no sea NA\n",
    "\n",
    "detailedListings_neigh = detailedListings[detailedListings['neighborhood_overview'].notna()]"
   ]
  },
  {
   "cell_type": "code",
   "execution_count": 15,
   "metadata": {},
   "outputs": [
    {
     "name": "stdout",
     "output_type": "stream",
     "text": [
      "Requirement already satisfied: langdetect in c:\\users\\jesus\\anaconda3\\envs\\nlp_310\\lib\\site-packages (1.0.9)\n",
      "Requirement already satisfied: six in c:\\users\\jesus\\anaconda3\\envs\\nlp_310\\lib\\site-packages (from langdetect) (1.16.0)\n"
     ]
    }
   ],
   "source": [
    "!pip install langdetect\n",
    "from langdetect import detect\n",
    "\n",
    "def detect_language(text):\n",
    "    try:\n",
    "        return detect(text)\n",
    "    except:\n",
    "        return 'unknown'\n",
    "\n",
    "# Aplicar la detección de idioma a cada reseña en el DataFrame detailedReviews\n",
    "detailedListings['language'] = detailedListings['neighborhood_overview'].apply(detect_language)"
   ]
  },
  {
   "cell_type": "code",
   "execution_count": 16,
   "metadata": {},
   "outputs": [
    {
     "data": {
      "image/png": "[encoded data removed]",
      "text/plain": [
       "<Figure size 800x600 with 1 Axes>"
      ]
     },
     "metadata": {},
     "output_type": "display_data"
    }
   ],
   "source": [
    "# Filtrar las descripciones de los listados que no son 'unknown'\n",
    "filtered_descriptions = detailedListings[detailedListings['language'] != 'unknown']\n",
    "\n",
    "# Contar la frecuencia de cada idioma\n",
    "language_counts = filtered_descriptions['language'].value_counts()\n",
    "\n",
    "top_languages = language_counts.head(3)\n",
    "total_filtered_descriptions = len(filtered_descriptions)\n",
    "top_languages_percentage = (top_languages / total_filtered_descriptions) * 100\n",
    "\n",
    "plt.figure(figsize=(8, 6))\n",
    "plt.pie(top_languages_percentage, labels=top_languages.index, autopct='%1.1f%%', startangle=140)\n",
    "plt.title('Distribución de idiomas en las descripciones de los listados')\n",
    "plt.axis('equal')  # Equal aspect ratio ensures that pie is drawn as a circle.\n",
    "plt.show()"
   ]
  },
  {
   "cell_type": "code",
   "execution_count": 17,
   "metadata": {},
   "outputs": [
    {
     "data": {
      "text/plain": [
       "<Figure size 1200x800 with 0 Axes>"
      ]
     },
     "metadata": {},
     "output_type": "display_data"
    },
    {
     "data": {
      "image/png": "[encoded data removed]",
      "text/plain": [
       "<Figure size 640x480 with 1 Axes>"
      ]
     },
     "metadata": {},
     "output_type": "display_data"
    }
   ],
   "source": [
    "filtered_descriptions = detailedListings[detailedListings['language'].isin(['en', 'es'])]\n",
    "\n",
    "# Agrupar por distrito e idioma y contar la cantidad de descripciones para cada grupo\n",
    "grouped_counts = filtered_descriptions.groupby(['neighbourhood_group_cleansed', 'language']).size().unstack(fill_value=0)\n",
    "\n",
    "plt.figure(figsize=(12, 8))\n",
    "grouped_counts.plot(kind='bar', stacked=True, color=['blue', 'orange'])\n",
    "plt.title('Cantidad de descripciones por distrito y idioma')\n",
    "plt.xlabel('Distrito')\n",
    "plt.ylabel('Cantidad de descripciones')\n",
    "plt.xticks(rotation=45, ha='right')\n",
    "plt.legend(title='Idioma')\n",
    "plt.show()"
   ]
  },
  {
   "cell_type": "code",
   "execution_count": 20,
   "metadata": {},
   "outputs": [
    {
     "data": {
      "text/html": [
       "<div>\n",
       "<style scoped>\n",
       "    .dataframe tbody tr th:only-of-type {\n",
       "        vertical-align: middle;\n",
       "    }\n",
       "\n",
       "    .dataframe tbody tr th {\n",
       "        vertical-align: top;\n",
       "    }\n",
       "\n",
       "    .dataframe thead th {\n",
       "        text-align: right;\n",
       "    }\n",
       "</style>\n",
       "<table border=\"1\" class=\"dataframe\">\n",
       "  <thead>\n",
       "    <tr style=\"text-align: right;\">\n",
       "      <th></th>\n",
       "      <th>id</th>\n",
       "      <th>listing_url</th>\n",
       "      <th>scrape_id</th>\n",
       "      <th>last_scraped</th>\n",
       "      <th>source</th>\n",
       "      <th>name</th>\n",
       "      <th>description</th>\n",
       "      <th>neighborhood_overview</th>\n",
       "      <th>picture_url</th>\n",
       "      <th>host_id</th>\n",
       "      <th>...</th>\n",
       "      <th>review_scores_location</th>\n",
       "      <th>review_scores_value</th>\n",
       "      <th>license</th>\n",
       "      <th>instant_bookable</th>\n",
       "      <th>calculated_host_listings_count</th>\n",
       "      <th>calculated_host_listings_count_entire_homes</th>\n",
       "      <th>calculated_host_listings_count_private_rooms</th>\n",
       "      <th>calculated_host_listings_count_shared_rooms</th>\n",
       "      <th>reviews_per_month</th>\n",
       "      <th>language</th>\n",
       "    </tr>\n",
       "  </thead>\n",
       "  <tbody>\n",
       "    <tr>\n",
       "      <th>0</th>\n",
       "      <td>26405420</td>\n",
       "      <td>https://www.airbnb.com/rooms/26405420</td>\n",
       "      <td>20240324214747</td>\n",
       "      <td>2024-03-24</td>\n",
       "      <td>city scrape</td>\n",
       "      <td>Ca María</td>\n",
       "      <td>2mts from the beach. Jacuzzi terrace A&lt;br /&gt;&lt;b...</td>\n",
       "      <td>It is a very quiet and residential neighborhoo...</td>\n",
       "      <td>https://a0.muscache.com/pictures/fbb3dfe2-d1f0...</td>\n",
       "      <td>198185545</td>\n",
       "      <td>...</td>\n",
       "      <td>4.75</td>\n",
       "      <td>4.67</td>\n",
       "      <td>vt-46858 v</td>\n",
       "      <td>f</td>\n",
       "      <td>2</td>\n",
       "      <td>2</td>\n",
       "      <td>0</td>\n",
       "      <td>0</td>\n",
       "      <td>1.83</td>\n",
       "      <td>en</td>\n",
       "    </tr>\n",
       "    <tr>\n",
       "      <th>1</th>\n",
       "      <td>1110191981989532950</td>\n",
       "      <td>https://www.airbnb.com/rooms/1110191981989532950</td>\n",
       "      <td>20240324214747</td>\n",
       "      <td>2024-03-25</td>\n",
       "      <td>city scrape</td>\n",
       "      <td>Feliz casa!</td>\n",
       "      <td>2 km to city center, good transportation, supe...</td>\n",
       "      <td>NaN</td>\n",
       "      <td>https://a0.muscache.com/pictures/hosting/Hosti...</td>\n",
       "      <td>312158352</td>\n",
       "      <td>...</td>\n",
       "      <td>NaN</td>\n",
       "      <td>NaN</td>\n",
       "      <td>NaN</td>\n",
       "      <td>t</td>\n",
       "      <td>1</td>\n",
       "      <td>0</td>\n",
       "      <td>0</td>\n",
       "      <td>1</td>\n",
       "      <td>NaN</td>\n",
       "      <td>unknown</td>\n",
       "    </tr>\n",
       "    <tr>\n",
       "      <th>2</th>\n",
       "      <td>970202040703865678</td>\n",
       "      <td>https://www.airbnb.com/rooms/970202040703865678</td>\n",
       "      <td>20240324214747</td>\n",
       "      <td>2024-03-25</td>\n",
       "      <td>city scrape</td>\n",
       "      <td>apartamento completo 4</td>\n",
       "      <td>The apartment does not have a kitchen and does...</td>\n",
       "      <td>NaN</td>\n",
       "      <td>https://a0.muscache.com/pictures/4457bfe1-47da...</td>\n",
       "      <td>474489305</td>\n",
       "      <td>...</td>\n",
       "      <td>NaN</td>\n",
       "      <td>NaN</td>\n",
       "      <td>NaN</td>\n",
       "      <td>f</td>\n",
       "      <td>24</td>\n",
       "      <td>4</td>\n",
       "      <td>20</td>\n",
       "      <td>0</td>\n",
       "      <td>NaN</td>\n",
       "      <td>unknown</td>\n",
       "    </tr>\n",
       "    <tr>\n",
       "      <th>3</th>\n",
       "      <td>1110200636787207468</td>\n",
       "      <td>https://www.airbnb.com/rooms/1110200636787207468</td>\n",
       "      <td>20240324214747</td>\n",
       "      <td>2024-03-25</td>\n",
       "      <td>city scrape</td>\n",
       "      <td>Eco Suite mediterránea</td>\n",
       "      <td>Forget the worries in this great home - it's a...</td>\n",
       "      <td>NaN</td>\n",
       "      <td>https://a0.muscache.com/pictures/miso/Hosting-...</td>\n",
       "      <td>425428991</td>\n",
       "      <td>...</td>\n",
       "      <td>NaN</td>\n",
       "      <td>NaN</td>\n",
       "      <td>NaN</td>\n",
       "      <td>t</td>\n",
       "      <td>10</td>\n",
       "      <td>10</td>\n",
       "      <td>0</td>\n",
       "      <td>0</td>\n",
       "      <td>NaN</td>\n",
       "      <td>unknown</td>\n",
       "    </tr>\n",
       "    <tr>\n",
       "      <th>4</th>\n",
       "      <td>1093325332010686347</td>\n",
       "      <td>https://www.airbnb.com/rooms/1093325332010686347</td>\n",
       "      <td>20240324214747</td>\n",
       "      <td>2024-03-25</td>\n",
       "      <td>previous scrape</td>\n",
       "      <td>Apartment close to the Turia</td>\n",
       "      <td>Enjoy a stylish experience at this centrally-l...</td>\n",
       "      <td>NaN</td>\n",
       "      <td>https://a0.muscache.com/pictures/hosting/Hosti...</td>\n",
       "      <td>287097266</td>\n",
       "      <td>...</td>\n",
       "      <td>NaN</td>\n",
       "      <td>NaN</td>\n",
       "      <td>NaN</td>\n",
       "      <td>f</td>\n",
       "      <td>1</td>\n",
       "      <td>1</td>\n",
       "      <td>0</td>\n",
       "      <td>0</td>\n",
       "      <td>NaN</td>\n",
       "      <td>unknown</td>\n",
       "    </tr>\n",
       "  </tbody>\n",
       "</table>\n",
       "<p>5 rows × 76 columns</p>\n",
       "</div>"
      ],
      "text/plain": [
       "                    id                                       listing_url  \\\n",
       "0             26405420             https://www.airbnb.com/rooms/26405420   \n",
       "1  1110191981989532950  https://www.airbnb.com/rooms/1110191981989532950   \n",
       "2   970202040703865678   https://www.airbnb.com/rooms/970202040703865678   \n",
       "3  1110200636787207468  https://www.airbnb.com/rooms/1110200636787207468   \n",
       "4  1093325332010686347  https://www.airbnb.com/rooms/1093325332010686347   \n",
       "\n",
       "        scrape_id last_scraped           source                          name  \\\n",
       "0  20240324214747   2024-03-24      city scrape                      Ca María   \n",
       "1  20240324214747   2024-03-25      city scrape                   Feliz casa!   \n",
       "2  20240324214747   2024-03-25      city scrape        apartamento completo 4   \n",
       "3  20240324214747   2024-03-25      city scrape        Eco Suite mediterránea   \n",
       "4  20240324214747   2024-03-25  previous scrape  Apartment close to the Turia   \n",
       "\n",
       "                                         description  \\\n",
       "0  2mts from the beach. Jacuzzi terrace A<br /><b...   \n",
       "1  2 km to city center, good transportation, supe...   \n",
       "2  The apartment does not have a kitchen and does...   \n",
       "3  Forget the worries in this great home - it's a...   \n",
       "4  Enjoy a stylish experience at this centrally-l...   \n",
       "\n",
       "                               neighborhood_overview  \\\n",
       "0  It is a very quiet and residential neighborhoo...   \n",
       "1                                                NaN   \n",
       "2                                                NaN   \n",
       "3                                                NaN   \n",
       "4                                                NaN   \n",
       "\n",
       "                                         picture_url    host_id  ...  \\\n",
       "0  https://a0.muscache.com/pictures/fbb3dfe2-d1f0...  198185545  ...   \n",
       "1  https://a0.muscache.com/pictures/hosting/Hosti...  312158352  ...   \n",
       "2  https://a0.muscache.com/pictures/4457bfe1-47da...  474489305  ...   \n",
       "3  https://a0.muscache.com/pictures/miso/Hosting-...  425428991  ...   \n",
       "4  https://a0.muscache.com/pictures/hosting/Hosti...  287097266  ...   \n",
       "\n",
       "  review_scores_location review_scores_value     license instant_bookable  \\\n",
       "0                   4.75                4.67  vt-46858 v                f   \n",
       "1                    NaN                 NaN         NaN                t   \n",
       "2                    NaN                 NaN         NaN                f   \n",
       "3                    NaN                 NaN         NaN                t   \n",
       "4                    NaN                 NaN         NaN                f   \n",
       "\n",
       "  calculated_host_listings_count calculated_host_listings_count_entire_homes  \\\n",
       "0                              2                                           2   \n",
       "1                              1                                           0   \n",
       "2                             24                                           4   \n",
       "3                             10                                          10   \n",
       "4                              1                                           1   \n",
       "\n",
       "  calculated_host_listings_count_private_rooms  \\\n",
       "0                                            0   \n",
       "1                                            0   \n",
       "2                                           20   \n",
       "3                                            0   \n",
       "4                                            0   \n",
       "\n",
       "  calculated_host_listings_count_shared_rooms reviews_per_month language  \n",
       "0                                           0              1.83       en  \n",
       "1                                           1               NaN  unknown  \n",
       "2                                           0               NaN  unknown  \n",
       "3                                           0               NaN  unknown  \n",
       "4                                           0               NaN  unknown  \n",
       "\n",
       "[5 rows x 76 columns]"
      ]
     },
     "execution_count": 20,
     "metadata": {},
     "output_type": "execute_result"
    }
   ],
   "source": [
    "detailedListings.head()"
   ]
  },
  {
   "cell_type": "code",
   "execution_count": 19,
   "metadata": {},
   "outputs": [],
   "source": [
    "detailedListings.to_csv('./data/insideListings.csv', index = False)"
   ]
  }
 ],
 "metadata": {
  "kernelspec": {
   "display_name": "NLP_310",
   "language": "python",
   "name": "python3"
  },
  "language_info": {
   "codemirror_mode": {
    "name": "ipython",
    "version": 3
   },
   "file_extension": ".py",
   "mimetype": "text/x-python",
   "name": "python",
   "nbconvert_exporter": "python",
   "pygments_lexer": "ipython3",
   "version": "3.10.13"
  }
 },
 "nbformat": 4,
 "nbformat_minor": 2
}
