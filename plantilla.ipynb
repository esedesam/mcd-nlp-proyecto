{
 "cells": [
  {
   "cell_type": "markdown",
   "metadata": {},
   "source": [
    "# Plantilla: Proyecto\n",
    "## Tema 2: Clasificación de barrios en función de su tipología.\n",
    "Documento plantilla para el proyecto con los imports de las librerias más importantes."
   ]
  },
  {
   "cell_type": "code",
   "execution_count": 2,
   "metadata": {},
   "outputs": [],
   "source": [
    "import nltk                      # Natural Language Toolkit\n",
    "import scrapy                    # Web scraping   \n",
    "import requests                  # HTTP requests\n",
    "import selenium                  # Web automation\n",
    "import numpy as np               # Numerical computing\n",
    "import pandas as pd              # Data manipulation\n",
    "import seaborn as sns            # Data visualization\n",
    "import tensorflow as tf          # Machine learning\n",
    "import matplotlib.pyplot as plt  # Data visualization\n"
   ]
  },
  {
   "cell_type": "code",
   "execution_count": null,
   "metadata": {},
   "outputs": [],
   "source": []
  }
 ],
 "metadata": {
  "kernelspec": {
   "display_name": "NLP_3.10",
   "language": "python",
   "name": "python3"
  },
  "language_info": {
   "codemirror_mode": {
    "name": "ipython",
    "version": 3
   },
   "file_extension": ".py",
   "mimetype": "text/x-python",
   "name": "python",
   "nbconvert_exporter": "python",
   "pygments_lexer": "ipython3",
   "version": "3.10.13"
  }
 },
 "nbformat": 4,
 "nbformat_minor": 2
}
