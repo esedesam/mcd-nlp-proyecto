{
 "cells": [
  {
   "cell_type": "markdown",
   "metadata": {},
   "source": [
    "# Plantilla: Proyecto\n",
    "## Tema 2: Clasificación de barrios en función de su tipología.\n",
    "Documento plantilla para el proyecto con los imports de las librerias más importantes."
   ]
  },
  {
   "cell_type": "code",
   "execution_count": 1,
   "metadata": {},
   "outputs": [
    {
     "name": "stdout",
     "output_type": "stream",
     "text": [
      "Requirement already satisfied: openpyxl in c:\\users\\jesus\\anaconda3\\envs\\nlp_310\\lib\\site-packages (3.1.2)\n",
      "Requirement already satisfied: et-xmlfile in c:\\users\\jesus\\anaconda3\\envs\\nlp_310\\lib\\site-packages (from openpyxl) (1.1.0)\n"
     ]
    }
   ],
   "source": [
    "import nltk                      # Natural Language Toolkit\n",
    "import scrapy                    # Web scraping   \n",
    "import requests                  # HTTP requests\n",
    "import selenium                  # Web automation\n",
    "import numpy as np               # Numerical computing\n",
    "import pandas as pd              # Data manipulation\n",
    "import seaborn as sns            # Data visualization\n",
    "import tensorflow as tf          # Machine learning\n",
    "import matplotlib.pyplot as plt  # Data visualization\n",
    "import os                        # Operating system\n",
    "\n",
    "!pip install openpyxl\n",
    "import openpyxl                  # Excel files"
   ]
  },
  {
   "cell_type": "markdown",
   "metadata": {},
   "source": [
    "# Automatización en la recogida de variables (dataset Barris)"
   ]
  },
  {
   "cell_type": "code",
   "execution_count": 2,
   "metadata": {},
   "outputs": [],
   "source": [
    "# tengo un .csv en el path ./data/barrios/barrios_codigos.csv. Me interesan las columnas Nombre, Codigo distrito y Codigo barrio, quédate con esas.\n",
    "\n",
    "idBarrios = pd.read_csv('./data/barrios/barrios_codigos.csv', delimiter=';')\n",
    "idBarrios = idBarrios[['Nombre', 'Codigo distrito', 'Codigo barrio']]\n",
    "\n",
    "barrios_dict = {}\n",
    "\n",
    "for index, row in idBarrios.iterrows():\n",
    "    nombre = row['Nombre']\n",
    "    codigo_distrito = row['Codigo distrito']\n",
    "    codigo_barrio = row['Codigo barrio']\n",
    "    \n",
    "    barrio_dict = {\n",
    "        'Codigo distrito': codigo_distrito,\n",
    "        'Codigo barrio': codigo_barrio\n",
    "    }\n",
    "    \n",
    "    barrios_dict[nombre] = barrio_dict"
   ]
  },
  {
   "cell_type": "code",
   "execution_count": 3,
   "metadata": {},
   "outputs": [],
   "source": [
    "def get_barrio_name(codigo_distrito, codigo_barrio):\n",
    "    for nombre, barrio_dict in barrios_dict.items():\n",
    "        if barrio_dict['Codigo distrito'] == codigo_distrito and barrio_dict['Codigo barrio'] == codigo_barrio:\n",
    "            return nombre"
   ]
  },
  {
   "cell_type": "code",
   "execution_count": 4,
   "metadata": {},
   "outputs": [
    {
     "name": "stdout",
     "output_type": "stream",
     "text": [
      "['Padrón', 'MovPadrón', 'Censo', 'Vehículos', 'Catastro', 'ActEconom', 'Elecciones']\n"
     ]
    }
   ],
   "source": [
    "sheets = pd.ExcelFile('./data/barrios/2024/Districte_01_Barri_1.xlsx').sheet_names\n",
    "print(sheets)"
   ]
  },
  {
   "cell_type": "code",
   "execution_count": 5,
   "metadata": {},
   "outputs": [],
   "source": [
    "def find_string_in_df(df, string):\n",
    "    for i in range(len(df)):\n",
    "        if string in str(df.iloc[i, 0]):\n",
    "            return i\n",
    "    return None\n",
    "\n",
    "def extract_df(df, row, skip, n = None):\n",
    "    if n is None:\n",
    "        # Encontrar n dinámicamente.\n",
    "        last_row = row + skip\n",
    "        while last_row < len(df) and not df.iloc[last_row].isna().all():\n",
    "            last_row += 1\n",
    "        n = last_row - row - skip\n",
    "    extracted_df = df.iloc[row + skip:row + skip + n, :]\n",
    "    \n",
    "    # Verificar si TODAS las filas en cada columna son NA\n",
    "    columns_to_drop = extracted_df.columns[extracted_df.isna().all()]\n",
    "    \n",
    "    # Eliminar solo las columnas donde todas las filas son NA\n",
    "    extracted_df = extracted_df.drop(columns_to_drop, axis=1)\n",
    "    \n",
    "    return extracted_df\n",
    "\n",
    "def extract_df_by_string(df, string, skip, n=None):\n",
    "    row = find_string_in_df(df, string)\n",
    "    return extract_df(df, row, skip, n)\n"
   ]
  },
  {
   "cell_type": "code",
   "execution_count": 6,
   "metadata": {},
   "outputs": [],
   "source": [
    "def find_string_in_df(df, string):\n",
    "    for i in range(len(df)):\n",
    "        if string in str(df.iloc[i, 0]):\n",
    "            return i\n",
    "    return None\n",
    "\n",
    "def find_skip(df, row):\n",
    "    # Encontrar la primera fila que no esté completamente llena de NAs después de la fila especificada\n",
    "    for i in range(row + 2, len(df)):\n",
    "        if not df.iloc[i].isna().all():\n",
    "            return i - row\n",
    "\n",
    "    return 0  # Si todas las filas después de 'row' están completamente llenas de NAs, skip es 0\n",
    "\n",
    "def extract_df(df, row, skip, n=None):\n",
    "    if n is None:\n",
    "        # Encontrar n dinámicamente.\n",
    "        last_row = row + skip\n",
    "        while last_row < len(df) and not df.iloc[last_row].isna().all():\n",
    "            last_row += 1\n",
    "        n = last_row - row - skip\n",
    "    extracted_df = df.iloc[row + skip:row + skip + n, :]\n",
    "    \n",
    "    # Verificar si TODAS las filas en cada columna son NA\n",
    "    columns_to_drop = extracted_df.columns[extracted_df.isna().all()]\n",
    "    \n",
    "    # Eliminar solo las columnas donde todas las filas son NA\n",
    "    extracted_df = extracted_df.drop(columns_to_drop, axis=1)\n",
    "    \n",
    "    return extracted_df\n",
    "\n",
    "def extract_df_by_string(df, string, n=None):\n",
    "    row = find_string_in_df(df, string)\n",
    "    skip = find_skip(df, row)\n",
    "    return extract_df(df, row, skip, n)"
   ]
  },
  {
   "cell_type": "code",
   "execution_count": 13,
   "metadata": {},
   "outputs": [],
   "source": [
    "barrioPadron = pd.read_excel('./data/barrios/2024/Districte_01_Barri_1.xlsx', sheet_name = 'Padrón')\n",
    "barrioMovPadron = pd.read_excel('./data/barrios/2024/Districte_01_Barri_1.xlsx', sheet_name = 'MovPadrón')\n",
    "barrioVehiculos = pd.read_excel('./data/barrios/2024/Districte_01_Barri_1.xlsx', sheet_name = 'Vehículos')\n",
    "barrioCatastro = pd.read_excel('./data/barrios/2024/Districte_01_Barri_1.xlsx', sheet_name = 'Catastro')\n",
    "barrioElecciones = pd.read_excel('./data/barrios/2024/Districte_01_Barri_1.xlsx', sheet_name = 'Elecciones')"
   ]
  },
  {
   "cell_type": "code",
   "execution_count": 8,
   "metadata": {},
   "outputs": [
    {
     "ename": "TypeError",
     "evalue": "extract_df_by_string() got an unexpected keyword argument 'skip'",
     "output_type": "error",
     "traceback": [
      "\u001b[1;31m---------------------------------------------------------------------------\u001b[0m",
      "\u001b[1;31mTypeError\u001b[0m                                 Traceback (most recent call last)",
      "Cell \u001b[1;32mIn[8], line 2\u001b[0m\n\u001b[0;32m      1\u001b[0m dfSup \u001b[38;5;241m=\u001b[39m extract_df_by_string(barrioPadron, string\u001b[38;5;241m=\u001b[39m\u001b[38;5;124m'\u001b[39m\u001b[38;5;124mSuperficie y densidad de población\u001b[39m\u001b[38;5;124m'\u001b[39m)\n\u001b[1;32m----> 2\u001b[0m dfPobSexEdad \u001b[38;5;241m=\u001b[39m \u001b[43mextract_df_by_string\u001b[49m\u001b[43m(\u001b[49m\u001b[43mbarrioPadron\u001b[49m\u001b[43m,\u001b[49m\u001b[43m \u001b[49m\u001b[43mstring\u001b[49m\u001b[38;5;241;43m=\u001b[39;49m\u001b[38;5;124;43m'\u001b[39;49m\u001b[38;5;124;43mPoblación por sexo y edad (grandes grupos)\u001b[39;49m\u001b[38;5;124;43m'\u001b[39;49m\u001b[43m,\u001b[49m\u001b[43m \u001b[49m\u001b[43mskip\u001b[49m\u001b[43m \u001b[49m\u001b[38;5;241;43m=\u001b[39;49m\u001b[43m \u001b[49m\u001b[38;5;241;43m3\u001b[39;49m\u001b[43m,\u001b[49m\u001b[43m \u001b[49m\u001b[43mn\u001b[49m\u001b[43m \u001b[49m\u001b[38;5;241;43m=\u001b[39;49m\u001b[43m \u001b[49m\u001b[38;5;241;43m4\u001b[39;49m\u001b[43m)\u001b[49m\n\u001b[0;32m      3\u001b[0m dfPobSexLugar \u001b[38;5;241m=\u001b[39m extract_df_by_string(barrioPadron, string\u001b[38;5;241m=\u001b[39m\u001b[38;5;124m'\u001b[39m\u001b[38;5;124mPoblación según lugar de nacimiento y sexo\u001b[39m\u001b[38;5;124m'\u001b[39m, skip \u001b[38;5;241m=\u001b[39m \u001b[38;5;241m3\u001b[39m, n \u001b[38;5;241m=\u001b[39m \u001b[38;5;241m4\u001b[39m)\n\u001b[0;32m      4\u001b[0m dfPobExtCont \u001b[38;5;241m=\u001b[39m extract_df_by_string(barrioPadron, string\u001b[38;5;241m=\u001b[39m\u001b[38;5;124m'\u001b[39m\u001b[38;5;124mPoblación extranjera según nacionalidad, por contienentes\u001b[39m\u001b[38;5;124m'\u001b[39m, skip \u001b[38;5;241m=\u001b[39m \u001b[38;5;241m3\u001b[39m, n \u001b[38;5;241m=\u001b[39m \u001b[38;5;241m4\u001b[39m)\n",
      "\u001b[1;31mTypeError\u001b[0m: extract_df_by_string() got an unexpected keyword argument 'skip'"
     ]
    }
   ],
   "source": [
    "dfSup = extract_df_by_string(barrioPadron, string='Superficie y densidad de población')\n",
    "dfPobSexEdad = extract_df_by_string(barrioPadron, string='Población por sexo y edad (grandes grupos)', skip = 3, n = 4)\n",
    "dfPobSexLugar = extract_df_by_string(barrioPadron, string='Población según lugar de nacimiento y sexo', skip = 3, n = 4)\n",
    "dfPobExtCont = extract_df_by_string(barrioPadron, string='Población extranjera según nacionalidad, por contienentes', skip = 3, n = 4)\n",
    "dfHojasFamComp = extract_df_by_string(barrioPadron, string='Número de hojas familiares según composición', skip = 3, n = 2)\n",
    "dfIndicadoresDemograficosPadron = extract_df_by_string(barrioPadron, string='Indicadores demográficos', skip = 4, n = None)\n",
    "\n",
    "\n",
    "dfMovPadron = extract_df_by_string(barrioMovPadron, string='Resumen de movimientos registrados en el Padrón Municipal', skip = 3, n = 2)\n",
    "dfIndicadoresDemograficosMovPadron = extract_df_by_string(barrioMovPadron, string='Indicadores demográficos', skip = 4, n = None)\n",
    "\n",
    "\n",
    "\n",
    "dfVehicTipo = extract_df_by_string(barrioVehiculos, string='Vehículos según tipo', skip = 3, n = None)\n",
    "dfTurismPot = extract_df_by_string(barrioVehiculos, string='Turismos según potencia', skip = 3, n = None)\n",
    "\n",
    "\n",
    "\n",
    "dfBienesInmAno = extract_df_by_string(barrioCatastro, string='Bienes Inmuebles según el año de antigüedad', skip = 3, n = 2)\n",
    "dfBienesInmSup = extract_df_by_string(barrioCatastro, string='Bienes Inmuebles construidas después de 1800 según superficie construida', skip = 3, n = 2)"
   ]
  },
  {
   "cell_type": "code",
   "execution_count": 14,
   "metadata": {},
   "outputs": [],
   "source": [
    "# Pon todo lo mismo que antes pero quitando en todas el skip y el n en las llamadas.\n",
    "\n",
    "dfSup = extract_df_by_string(barrioPadron, string='Superficie y densidad de población')\n",
    "dfPobSexEdad = extract_df_by_string(barrioPadron, string='Población por sexo y edad (grandes grupos)')\n",
    "dfPobSexLugar = extract_df_by_string(barrioPadron, string='Población según lugar de nacimiento y sexo')\n",
    "dfPobExtCont = extract_df_by_string(barrioPadron, string='Población extranjera según nacionalidad, por contienentes')\n",
    "dfHojasFamComp = extract_df_by_string(barrioPadron, string='Número de hojas familiares según composición')\n",
    "dfIndicadoresDemograficosPadron = extract_df_by_string(barrioPadron, string='Indicadores demográficos')\n",
    "\n",
    "dfMovPadron = extract_df_by_string(barrioMovPadron, string='Resumen de movimientos registrados en el Padrón Municipal')\n",
    "dfIndicadoresDemograficosMovPadron = extract_df_by_string(barrioMovPadron, string='Indicadores demográficos')\n",
    "\n",
    "dfVehicTipo = extract_df_by_string(barrioVehiculos, string='Vehículos según tipo')\n",
    "dfTurismPot = extract_df_by_string(barrioVehiculos, string='Turismos según potencia')\n",
    "\n",
    "dfBienesInmAno = extract_df_by_string(barrioCatastro, string='Bienes Inmuebles según el año de antigüedad')\n",
    "dfBienesInmSup = extract_df_by_string(barrioCatastro, string='Bienes Inmuebles construidas después de 1800 según superficie construida')\n",
    "dfBienesInmVal = extract_df_by_string(barrioCatastro, string='Bienes Inmuebles construidas después de 1800 según valor catastral')\n",
    "dfBienesValMedio = extract_df_by_string(barrioCatastro, string='Valores catastrales medios')\n",
    "dfSupAparc = extract_df_by_string(barrioCatastro, string='Superficie total de los aparcamientos')\n",
    "\n",
    "dfElecGen = extract_df_by_string(barrioElecciones, string='Votos a candidaturas')\n",
    "\n",
    "# Mete eso de arriba en una función que reciba un nombre del diccionario a crearse con todo ello, va a ser un diccionario de dataframes.\n",
    "    \n"
   ]
  },
  {
   "cell_type": "code",
   "execution_count": 23,
   "metadata": {},
   "outputs": [],
   "source": [
    "# Mete los dataframes de arriba en un diccionario de dataframes, donde la clave sea el nombre del dataframe y el valor sea el dataframe.\n",
    "\n",
    "def extract_dataframes_from_excel(excel_path):\n",
    "    barrioPadron = pd.read_excel(excel_path, sheet_name = 'Padrón')\n",
    "    barrioMovPadron = pd.read_excel(excel_path, sheet_name = 'MovPadrón')\n",
    "    barrioVehiculos = pd.read_excel(excel_path, sheet_name = 'Vehículos')\n",
    "    barrioCatastro = pd.read_excel(excel_path, sheet_name = 'Catastro')\n",
    "    barrioElecciones = pd.read_excel(excel_path, sheet_name = 'Elecciones')\n",
    "\n",
    "    dfSup = extract_df_by_string(barrioPadron, string='Superficie y densidad de población')\n",
    "    dfPobSexEdad = extract_df_by_string(barrioPadron, string='Población por sexo y edad (grandes grupos)')\n",
    "    dfPobSexLugar = extract_df_by_string(barrioPadron, string='Población según lugar de nacimiento y sexo')\n",
    "    dfPobExtCont = extract_df_by_string(barrioPadron, string='Población extranjera según nacionalidad, por contienentes')\n",
    "    dfHojasFamComp = extract_df_by_string(barrioPadron, string='Número de hojas familiares según composición')\n",
    "    dfIndicadoresDemograficosPadron = extract_df_by_string(barrioPadron, string='Indicadores demográficos')\n",
    "\n",
    "    dfMovPadron = extract_df_by_string(barrioMovPadron, string='Resumen de movimientos registrados en el Padrón Municipal')\n",
    "    dfIndicadoresDemograficosMovPadron = extract_df_by_string(barrioMovPadron, string='Indicadores demográficos')\n",
    "\n",
    "    dfVehicTipo = extract_df_by_string(barrioVehiculos, string='Vehículos según tipo')\n",
    "    dfTurismPot = extract_df_by_string(barrioVehiculos, string='Turismos según potencia')\n",
    "\n",
    "    dfBienesInmAno = extract_df_by_string(barrioCatastro, string='Bienes Inmuebles según el año de antigüedad')\n",
    "    dfBienesInmSup = extract_df_by_string(barrioCatastro, string='Bienes Inmuebles construidas después de 1800 según superficie construida')\n",
    "    dfBienesInmVal = extract_df_by_string(barrioCatastro, string='Bienes Inmuebles construidas después de 1800 según valor catastral')\n",
    "    dfBienesValMedio = extract_df_by_string(barrioCatastro, string='Valores catastrales medios')\n",
    "    dfSupAparc = extract_df_by_string(barrioCatastro, string='Superficie total de los aparcamientos')\n",
    "    \n",
    "    dfElecGen = extract_df_by_string(barrioElecciones, string='Votos a candidaturas')\n",
    "    \n",
    "    dataframes = { 'dfSup': dfSup,\n",
    "                     'dfPobSexEdad': dfPobSexEdad,\n",
    "                     'dfPobSexLugar': dfPobSexLugar,\n",
    "                     'dfPobExtCont': dfPobExtCont,\n",
    "                     'dfHojasFamComp': dfHojasFamComp,\n",
    "                     'dfIndicadoresDemograficosPadron': dfIndicadoresDemograficosPadron,\n",
    "                     'dfMovPadron': dfMovPadron,\n",
    "                     'dfIndicadoresDemograficosMovPadron': dfIndicadoresDemograficosMovPadron,\n",
    "                     'dfVehicTipo': dfVehicTipo,\n",
    "                     'dfTurismPot': dfTurismPot,\n",
    "                     'dfBienesInmAno': dfBienesInmAno,\n",
    "                     'dfBienesInmSup': dfBienesInmSup,\n",
    "                     'dfBienesInmVal': dfBienesInmVal,\n",
    "                     'dfBienesValMedio': dfBienesValMedio,\n",
    "                     'dfSupAparc': dfSupAparc,\n",
    "                     'dfElecGen': dfElecGen\n",
    "                  }\n",
    "    \n",
    "    return dataframes\n",
    "\n",
    "Seu_2024 = extract_dataframes_from_excel('./data/barrios/2024/Districte_01_Barri_1.xlsx')"
   ]
  },
  {
   "cell_type": "code",
   "execution_count": 26,
   "metadata": {},
   "outputs": [
    {
     "data": {
      "text/html": [
       "<div>\n",
       "<style scoped>\n",
       "    .dataframe tbody tr th:only-of-type {\n",
       "        vertical-align: middle;\n",
       "    }\n",
       "\n",
       "    .dataframe tbody tr th {\n",
       "        vertical-align: top;\n",
       "    }\n",
       "\n",
       "    .dataframe thead th {\n",
       "        text-align: right;\n",
       "    }\n",
       "</style>\n",
       "<table border=\"1\" class=\"dataframe\">\n",
       "  <thead>\n",
       "    <tr style=\"text-align: right;\">\n",
       "      <th></th>\n",
       "      <th>Unnamed: 0</th>\n",
       "      <th>Unnamed: 1</th>\n",
       "      <th>Unnamed: 2</th>\n",
       "      <th>Unnamed: 3</th>\n",
       "      <th>Unnamed: 4</th>\n",
       "    </tr>\n",
       "  </thead>\n",
       "  <tbody>\n",
       "    <tr>\n",
       "      <th>26</th>\n",
       "      <td>NaN</td>\n",
       "      <td>Total</td>\n",
       "      <td>0-15</td>\n",
       "      <td>16-64</td>\n",
       "      <td>65 i més</td>\n",
       "    </tr>\n",
       "    <tr>\n",
       "      <th>27</th>\n",
       "      <td>Total</td>\n",
       "      <td>3151</td>\n",
       "      <td>350</td>\n",
       "      <td>2183</td>\n",
       "      <td>618</td>\n",
       "    </tr>\n",
       "    <tr>\n",
       "      <th>28</th>\n",
       "      <td>Homes</td>\n",
       "      <td>1514</td>\n",
       "      <td>177</td>\n",
       "      <td>1065</td>\n",
       "      <td>272</td>\n",
       "    </tr>\n",
       "    <tr>\n",
       "      <th>29</th>\n",
       "      <td>Dones</td>\n",
       "      <td>1637</td>\n",
       "      <td>173</td>\n",
       "      <td>1118</td>\n",
       "      <td>346</td>\n",
       "    </tr>\n",
       "  </tbody>\n",
       "</table>\n",
       "</div>"
      ],
      "text/plain": [
       "   Unnamed: 0 Unnamed: 1 Unnamed: 2 Unnamed: 3 Unnamed: 4\n",
       "26        NaN      Total       0-15      16-64   65 i més\n",
       "27      Total       3151        350       2183        618\n",
       "28      Homes       1514        177       1065        272\n",
       "29      Dones       1637        173       1118        346"
      ]
     },
     "execution_count": 26,
     "metadata": {},
     "output_type": "execute_result"
    }
   ],
   "source": [
    "Seu_2024['dfPobSexEdad']"
   ]
  }
 ],
 "metadata": {
  "kernelspec": {
   "display_name": "NLP_3.10",
   "language": "python",
   "name": "python3"
  },
  "language_info": {
   "codemirror_mode": {
    "name": "ipython",
    "version": 3
   },
   "file_extension": ".py",
   "mimetype": "text/x-python",
   "name": "python",
   "nbconvert_exporter": "python",
   "pygments_lexer": "ipython3",
   "version": "3.10.13"
  }
 },
 "nbformat": 4,
 "nbformat_minor": 2
}
