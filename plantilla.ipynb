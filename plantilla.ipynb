{
 "cells": [
  {
   "cell_type": "markdown",
   "metadata": {},
   "source": [
    "# Plantilla: Proyecto\n",
    "## Tema 2: Clasificación de barrios en función de su tipología.\n",
    "Documento plantilla para el proyecto con los imports de las librerias más importantes."
   ]
  },
  {
   "cell_type": "code",
   "execution_count": 1,
   "metadata": {},
   "outputs": [],
   "source": [
    "import nltk                      # Natural Language Toolkit\n",
    "import scrapy                    # Web scraping  \n",
    "import requests                  # HTTP requests\n",
    "import selenium                  # Web automation\n",
    "import numpy as np               # Numerical computing\n",
    "import pandas as pd              # Data manipulation\n",
    "import seaborn as sns            # Data visualization\n",
    "import tensorflow as tf          # Machine learning\n",
    "import matplotlib.pyplot as plt  # Data visualization\n",
    "\n",
    "from bs4 import BeautifulSoup    # HTML parsing"
   ]
  },
  {
   "cell_type": "code",
   "execution_count": 2,
   "metadata": {},
   "outputs": [
    {
     "name": "stdout",
     "output_type": "stream",
     "text": [
      "Requirement already satisfied: openpyxl in c:\\users\\carlo\\anaconda3\\envs\\nlp_3.10\\lib\\site-packages (3.1.2)\n",
      "Requirement already satisfied: et-xmlfile in c:\\users\\carlo\\anaconda3\\envs\\nlp_3.10\\lib\\site-packages (from openpyxl) (1.1.0)\n",
      "Note: you may need to restart the kernel to use updated packages.\n"
     ]
    }
   ],
   "source": [
    "# Carga la página P.19.1 del documento \\docs_Carlos\\Distritos23.xlsx. Las primeras 10 líneas son de encabezado.\n",
    "\n",
    "%pip install openpyxl\n"
   ]
  },
  {
   "cell_type": "code",
   "execution_count": 3,
   "metadata": {},
   "outputs": [
    {
     "data": {
      "text/html": [
       "<div>\n",
       "<style scoped>\n",
       "    .dataframe tbody tr th:only-of-type {\n",
       "        vertical-align: middle;\n",
       "    }\n",
       "\n",
       "    .dataframe tbody tr th {\n",
       "        vertical-align: top;\n",
       "    }\n",
       "\n",
       "    .dataframe thead th {\n",
       "        text-align: right;\n",
       "    }\n",
       "</style>\n",
       "<table border=\"1\" class=\"dataframe\">\n",
       "  <thead>\n",
       "    <tr style=\"text-align: right;\">\n",
       "      <th></th>\n",
       "      <th>Distrito</th>\n",
       "      <th>Seguridad</th>\n",
       "    </tr>\n",
       "  </thead>\n",
       "  <tbody>\n",
       "    <tr>\n",
       "      <th>0</th>\n",
       "      <td>Total</td>\n",
       "      <td>0.675763</td>\n",
       "    </tr>\n",
       "    <tr>\n",
       "      <th>1</th>\n",
       "      <td>1. Ciutat Vella</td>\n",
       "      <td>0.715789</td>\n",
       "    </tr>\n",
       "    <tr>\n",
       "      <th>2</th>\n",
       "      <td>2. l'Eixample</td>\n",
       "      <td>0.741270</td>\n",
       "    </tr>\n",
       "    <tr>\n",
       "      <th>3</th>\n",
       "      <td>3. Extramurs</td>\n",
       "      <td>0.754198</td>\n",
       "    </tr>\n",
       "    <tr>\n",
       "      <th>4</th>\n",
       "      <td>4. Campanar</td>\n",
       "      <td>0.699153</td>\n",
       "    </tr>\n",
       "    <tr>\n",
       "      <th>5</th>\n",
       "      <td>5. la Saïdia</td>\n",
       "      <td>0.535156</td>\n",
       "    </tr>\n",
       "    <tr>\n",
       "      <th>6</th>\n",
       "      <td>6. el Pla del Real</td>\n",
       "      <td>0.745299</td>\n",
       "    </tr>\n",
       "    <tr>\n",
       "      <th>7</th>\n",
       "      <td>7. l'Olivereta</td>\n",
       "      <td>0.668462</td>\n",
       "    </tr>\n",
       "    <tr>\n",
       "      <th>8</th>\n",
       "      <td>8. Patraix</td>\n",
       "      <td>0.734559</td>\n",
       "    </tr>\n",
       "    <tr>\n",
       "      <th>9</th>\n",
       "      <td>9. Jesús</td>\n",
       "      <td>0.672932</td>\n",
       "    </tr>\n",
       "    <tr>\n",
       "      <th>10</th>\n",
       "      <td>10. Quatre Carreres</td>\n",
       "      <td>0.700680</td>\n",
       "    </tr>\n",
       "    <tr>\n",
       "      <th>11</th>\n",
       "      <td>11. Poblats Marítims</td>\n",
       "      <td>0.566418</td>\n",
       "    </tr>\n",
       "    <tr>\n",
       "      <th>12</th>\n",
       "      <td>12. Camins al Grau</td>\n",
       "      <td>0.671429</td>\n",
       "    </tr>\n",
       "    <tr>\n",
       "      <th>13</th>\n",
       "      <td>13. Algirós</td>\n",
       "      <td>0.681356</td>\n",
       "    </tr>\n",
       "    <tr>\n",
       "      <th>14</th>\n",
       "      <td>14. Benimaclet</td>\n",
       "      <td>0.726316</td>\n",
       "    </tr>\n",
       "    <tr>\n",
       "      <th>15</th>\n",
       "      <td>15. Rascanya</td>\n",
       "      <td>0.648092</td>\n",
       "    </tr>\n",
       "    <tr>\n",
       "      <th>16</th>\n",
       "      <td>16. Benicalap</td>\n",
       "      <td>0.585938</td>\n",
       "    </tr>\n",
       "    <tr>\n",
       "      <th>17</th>\n",
       "      <td>17. Pobles del Nord</td>\n",
       "      <td>0.750538</td>\n",
       "    </tr>\n",
       "    <tr>\n",
       "      <th>18</th>\n",
       "      <td>18. Pobles de l'Oest</td>\n",
       "      <td>0.655769</td>\n",
       "    </tr>\n",
       "  </tbody>\n",
       "</table>\n",
       "</div>"
      ],
      "text/plain": [
       "                Distrito  Seguridad\n",
       "0                  Total   0.675763\n",
       "1        1. Ciutat Vella   0.715789\n",
       "2          2. l'Eixample   0.741270\n",
       "3           3. Extramurs   0.754198\n",
       "4            4. Campanar   0.699153\n",
       "5           5. la Saïdia   0.535156\n",
       "6     6. el Pla del Real   0.745299\n",
       "7         7. l'Olivereta   0.668462\n",
       "8             8. Patraix   0.734559\n",
       "9               9. Jesús   0.672932\n",
       "10   10. Quatre Carreres   0.700680\n",
       "11  11. Poblats Marítims   0.566418\n",
       "12    12. Camins al Grau   0.671429\n",
       "13           13. Algirós   0.681356\n",
       "14        14. Benimaclet   0.726316\n",
       "15          15. Rascanya   0.648092\n",
       "16         16. Benicalap   0.585938\n",
       "17   17. Pobles del Nord   0.750538\n",
       "18  18. Pobles de l'Oest   0.655769"
      ]
     },
     "execution_count": 3,
     "metadata": {},
     "output_type": "execute_result"
    }
   ],
   "source": [
    "#\n",
    "\n",
    "df_seguridad = pd.read_excel('docs_Carlos/Distritos23.xlsx', sheet_name=' P.19.1', header=8)\n",
    "# cambiar el nombre de la primera columna que hace de header a 'Distrito':\n",
    "df_seguridad.rename(columns={'Unnamed: 0':'Distrito'}, inplace=True)\n",
    "df_seguridad.rename(columns={'Unnamed: 15':'Seguridad'}, inplace=True)\n",
    "df_seguridad.rename(columns={'Unnamed: 16':'Desviación'}, inplace=True)\n",
    "df_seguridad.rename(columns={'Unnamed: 17':'Mediana'}, inplace=True)\n",
    "#eliminar las columans 1 a 14\n",
    "df_seguridad = df_seguridad.drop(df_seguridad.columns[1:15], axis=1)\n",
    "df_seguridad = df_seguridad.drop(df_seguridad.columns[2:], axis=1)\n",
    "\n",
    "df_seguridad['Seguridad'] = df_seguridad['Seguridad']/10\n",
    "df_seguridad.head(19)\n"
   ]
  },
  {
   "cell_type": "code",
   "execution_count": 4,
   "metadata": {},
   "outputs": [
    {
     "data": {
      "text/html": [
       "<div>\n",
       "<style scoped>\n",
       "    .dataframe tbody tr th:only-of-type {\n",
       "        vertical-align: middle;\n",
       "    }\n",
       "\n",
       "    .dataframe tbody tr th {\n",
       "        vertical-align: top;\n",
       "    }\n",
       "\n",
       "    .dataframe thead th {\n",
       "        text-align: right;\n",
       "    }\n",
       "</style>\n",
       "<table border=\"1\" class=\"dataframe\">\n",
       "  <thead>\n",
       "    <tr style=\"text-align: right;\">\n",
       "      <th></th>\n",
       "      <th>Distrito</th>\n",
       "      <th>Discriminacion</th>\n",
       "    </tr>\n",
       "  </thead>\n",
       "  <tbody>\n",
       "    <tr>\n",
       "      <th>0</th>\n",
       "      <td>Total</td>\n",
       "      <td>0.135579</td>\n",
       "    </tr>\n",
       "    <tr>\n",
       "      <th>1</th>\n",
       "      <td>1. Ciutat Vella</td>\n",
       "      <td>0.149123</td>\n",
       "    </tr>\n",
       "    <tr>\n",
       "      <th>2</th>\n",
       "      <td>2. l'Eixample</td>\n",
       "      <td>0.150794</td>\n",
       "    </tr>\n",
       "    <tr>\n",
       "      <th>3</th>\n",
       "      <td>3. Extramurs</td>\n",
       "      <td>0.152672</td>\n",
       "    </tr>\n",
       "    <tr>\n",
       "      <th>4</th>\n",
       "      <td>4. Campanar</td>\n",
       "      <td>0.152542</td>\n",
       "    </tr>\n",
       "    <tr>\n",
       "      <th>5</th>\n",
       "      <td>5. la Saïdia</td>\n",
       "      <td>0.109375</td>\n",
       "    </tr>\n",
       "    <tr>\n",
       "      <th>6</th>\n",
       "      <td>6. el Pla del Real</td>\n",
       "      <td>0.136752</td>\n",
       "    </tr>\n",
       "    <tr>\n",
       "      <th>7</th>\n",
       "      <td>7. l'Olivereta</td>\n",
       "      <td>0.215385</td>\n",
       "    </tr>\n",
       "    <tr>\n",
       "      <th>8</th>\n",
       "      <td>8. Patraix</td>\n",
       "      <td>0.139706</td>\n",
       "    </tr>\n",
       "    <tr>\n",
       "      <th>9</th>\n",
       "      <td>9. Jesús</td>\n",
       "      <td>0.067669</td>\n",
       "    </tr>\n",
       "    <tr>\n",
       "      <th>10</th>\n",
       "      <td>10. Quatre Carreres</td>\n",
       "      <td>0.163265</td>\n",
       "    </tr>\n",
       "    <tr>\n",
       "      <th>11</th>\n",
       "      <td>11. Poblats Marítims</td>\n",
       "      <td>0.141791</td>\n",
       "    </tr>\n",
       "    <tr>\n",
       "      <th>12</th>\n",
       "      <td>12. Camins al Grau</td>\n",
       "      <td>0.114286</td>\n",
       "    </tr>\n",
       "    <tr>\n",
       "      <th>13</th>\n",
       "      <td>13. Algirós</td>\n",
       "      <td>0.101695</td>\n",
       "    </tr>\n",
       "    <tr>\n",
       "      <th>14</th>\n",
       "      <td>14. Benimaclet</td>\n",
       "      <td>0.105263</td>\n",
       "    </tr>\n",
       "    <tr>\n",
       "      <th>15</th>\n",
       "      <td>15. Rascanya</td>\n",
       "      <td>0.030303</td>\n",
       "    </tr>\n",
       "    <tr>\n",
       "      <th>16</th>\n",
       "      <td>16. Benicalap</td>\n",
       "      <td>0.125000</td>\n",
       "    </tr>\n",
       "    <tr>\n",
       "      <th>17</th>\n",
       "      <td>17. Pobles del Nord</td>\n",
       "      <td>0.268817</td>\n",
       "    </tr>\n",
       "    <tr>\n",
       "      <th>18</th>\n",
       "      <td>18. Pobles de l'Oest</td>\n",
       "      <td>0.230769</td>\n",
       "    </tr>\n",
       "  </tbody>\n",
       "</table>\n",
       "</div>"
      ],
      "text/plain": [
       "                Distrito  Discriminacion\n",
       "0                  Total        0.135579\n",
       "1        1. Ciutat Vella        0.149123\n",
       "2          2. l'Eixample        0.150794\n",
       "3           3. Extramurs        0.152672\n",
       "4            4. Campanar        0.152542\n",
       "5           5. la Saïdia        0.109375\n",
       "6     6. el Pla del Real        0.136752\n",
       "7         7. l'Olivereta        0.215385\n",
       "8             8. Patraix        0.139706\n",
       "9               9. Jesús        0.067669\n",
       "10   10. Quatre Carreres        0.163265\n",
       "11  11. Poblats Marítims        0.141791\n",
       "12    12. Camins al Grau        0.114286\n",
       "13           13. Algirós        0.101695\n",
       "14        14. Benimaclet        0.105263\n",
       "15          15. Rascanya        0.030303\n",
       "16         16. Benicalap        0.125000\n",
       "17   17. Pobles del Nord        0.268817\n",
       "18  18. Pobles de l'Oest        0.230769"
      ]
     },
     "execution_count": 4,
     "metadata": {},
     "output_type": "execute_result"
    }
   ],
   "source": [
    "df_discrimin = pd.read_excel('docs_Carlos/Distritos23.xlsx', sheet_name=' P.31.1', header=8)\n",
    "# cambiar el nombre de la primera columna que hace de header a 'Distrito':\n",
    "df_discrimin.rename(columns={'Unnamed: 0':'Distrito'}, inplace=True)\n",
    "df_discrimin.rename(columns={' Sí':'Discriminacion'}, inplace=True)\n",
    "#elimino la última columna que no tiene datos\n",
    "df_discrimin = df_discrimin.iloc[:, :-1]\n",
    "df_discrimin = df_discrimin.drop(df_discrimin.columns[2:], axis=1)\n",
    "df_discrimin['Discriminacion'] = df_discrimin['Discriminacion']/100\n",
    "df_discrimin.head(19)\n"
   ]
  },
  {
   "cell_type": "code",
   "execution_count": 5,
   "metadata": {},
   "outputs": [
    {
     "data": {
      "text/html": [
       "<div>\n",
       "<style scoped>\n",
       "    .dataframe tbody tr th:only-of-type {\n",
       "        vertical-align: middle;\n",
       "    }\n",
       "\n",
       "    .dataframe tbody tr th {\n",
       "        vertical-align: top;\n",
       "    }\n",
       "\n",
       "    .dataframe thead th {\n",
       "        text-align: right;\n",
       "    }\n",
       "</style>\n",
       "<table border=\"1\" class=\"dataframe\">\n",
       "  <thead>\n",
       "    <tr style=\"text-align: right;\">\n",
       "      <th></th>\n",
       "      <th>Distrito</th>\n",
       "      <th>Convivencia</th>\n",
       "    </tr>\n",
       "  </thead>\n",
       "  <tbody>\n",
       "    <tr>\n",
       "      <th>0</th>\n",
       "      <td>Total</td>\n",
       "      <td>0.675763</td>\n",
       "    </tr>\n",
       "    <tr>\n",
       "      <th>1</th>\n",
       "      <td>1. Ciutat Vella</td>\n",
       "      <td>0.715789</td>\n",
       "    </tr>\n",
       "    <tr>\n",
       "      <th>2</th>\n",
       "      <td>2. l'Eixample</td>\n",
       "      <td>0.741270</td>\n",
       "    </tr>\n",
       "    <tr>\n",
       "      <th>3</th>\n",
       "      <td>3. Extramurs</td>\n",
       "      <td>0.754198</td>\n",
       "    </tr>\n",
       "    <tr>\n",
       "      <th>4</th>\n",
       "      <td>4. Campanar</td>\n",
       "      <td>0.699153</td>\n",
       "    </tr>\n",
       "    <tr>\n",
       "      <th>5</th>\n",
       "      <td>5. la Saïdia</td>\n",
       "      <td>0.535156</td>\n",
       "    </tr>\n",
       "    <tr>\n",
       "      <th>6</th>\n",
       "      <td>6. el Pla del Real</td>\n",
       "      <td>0.745299</td>\n",
       "    </tr>\n",
       "    <tr>\n",
       "      <th>7</th>\n",
       "      <td>7. l'Olivereta</td>\n",
       "      <td>0.668462</td>\n",
       "    </tr>\n",
       "    <tr>\n",
       "      <th>8</th>\n",
       "      <td>8. Patraix</td>\n",
       "      <td>0.734559</td>\n",
       "    </tr>\n",
       "    <tr>\n",
       "      <th>9</th>\n",
       "      <td>9. Jesús</td>\n",
       "      <td>0.672932</td>\n",
       "    </tr>\n",
       "    <tr>\n",
       "      <th>10</th>\n",
       "      <td>10. Quatre Carreres</td>\n",
       "      <td>0.700680</td>\n",
       "    </tr>\n",
       "    <tr>\n",
       "      <th>11</th>\n",
       "      <td>11. Poblats Marítims</td>\n",
       "      <td>0.566418</td>\n",
       "    </tr>\n",
       "    <tr>\n",
       "      <th>12</th>\n",
       "      <td>12. Camins al Grau</td>\n",
       "      <td>0.671429</td>\n",
       "    </tr>\n",
       "    <tr>\n",
       "      <th>13</th>\n",
       "      <td>13. Algirós</td>\n",
       "      <td>0.681356</td>\n",
       "    </tr>\n",
       "    <tr>\n",
       "      <th>14</th>\n",
       "      <td>14. Benimaclet</td>\n",
       "      <td>0.726316</td>\n",
       "    </tr>\n",
       "    <tr>\n",
       "      <th>15</th>\n",
       "      <td>15. Rascanya</td>\n",
       "      <td>0.648092</td>\n",
       "    </tr>\n",
       "    <tr>\n",
       "      <th>16</th>\n",
       "      <td>16. Benicalap</td>\n",
       "      <td>0.585938</td>\n",
       "    </tr>\n",
       "    <tr>\n",
       "      <th>17</th>\n",
       "      <td>17. Pobles del Nord</td>\n",
       "      <td>0.750538</td>\n",
       "    </tr>\n",
       "    <tr>\n",
       "      <th>18</th>\n",
       "      <td>18. Pobles de l'Oest</td>\n",
       "      <td>0.655769</td>\n",
       "    </tr>\n",
       "  </tbody>\n",
       "</table>\n",
       "</div>"
      ],
      "text/plain": [
       "                Distrito  Convivencia\n",
       "0                  Total     0.675763\n",
       "1        1. Ciutat Vella     0.715789\n",
       "2          2. l'Eixample     0.741270\n",
       "3           3. Extramurs     0.754198\n",
       "4            4. Campanar     0.699153\n",
       "5           5. la Saïdia     0.535156\n",
       "6     6. el Pla del Real     0.745299\n",
       "7         7. l'Olivereta     0.668462\n",
       "8             8. Patraix     0.734559\n",
       "9               9. Jesús     0.672932\n",
       "10   10. Quatre Carreres     0.700680\n",
       "11  11. Poblats Marítims     0.566418\n",
       "12    12. Camins al Grau     0.671429\n",
       "13           13. Algirós     0.681356\n",
       "14        14. Benimaclet     0.726316\n",
       "15          15. Rascanya     0.648092\n",
       "16         16. Benicalap     0.585938\n",
       "17   17. Pobles del Nord     0.750538\n",
       "18  18. Pobles de l'Oest     0.655769"
      ]
     },
     "execution_count": 5,
     "metadata": {},
     "output_type": "execute_result"
    }
   ],
   "source": [
    "df_convivenc = pd.read_excel('docs_Carlos/Distritos23.xlsx', sheet_name=' P.19.1', header=8)\n",
    "# cambiar el nombre de la primera columna que hace de header a 'Distrito':\n",
    "df_convivenc.rename(columns={'Unnamed: 0':'Distrito'}, inplace=True)\n",
    "df_convivenc.rename(columns={'Unnamed: 15':'Convivencia'}, inplace=True)\n",
    "df_convivenc.rename(columns={'Unnamed: 16':'Desviación'}, inplace=True)\n",
    "df_convivenc.rename(columns={'Unnamed: 17':'Mediana'}, inplace=True)\n",
    "\n",
    "#eliminar las columans 1 a 14\n",
    "df_convivenc = df_convivenc.drop(df_convivenc.columns[1:15], axis=1)\n",
    "df_convivenc = df_convivenc.drop(df_convivenc.columns[2:], axis=1)\n",
    "df_convivenc['Convivencia'] = df_convivenc['Convivencia']/10\n",
    "df_convivenc.head(19)\n"
   ]
  },
  {
   "cell_type": "code",
   "execution_count": 6,
   "metadata": {},
   "outputs": [
    {
     "data": {
      "text/html": [
       "<div>\n",
       "<style scoped>\n",
       "    .dataframe tbody tr th:only-of-type {\n",
       "        vertical-align: middle;\n",
       "    }\n",
       "\n",
       "    .dataframe tbody tr th {\n",
       "        vertical-align: top;\n",
       "    }\n",
       "\n",
       "    .dataframe thead th {\n",
       "        text-align: right;\n",
       "    }\n",
       "</style>\n",
       "<table border=\"1\" class=\"dataframe\">\n",
       "  <thead>\n",
       "    <tr style=\"text-align: right;\">\n",
       "      <th></th>\n",
       "      <th>Distrito</th>\n",
       "      <th>Extranjeros</th>\n",
       "    </tr>\n",
       "  </thead>\n",
       "  <tbody>\n",
       "    <tr>\n",
       "      <th>0</th>\n",
       "      <td>Total</td>\n",
       "      <td>0.183847</td>\n",
       "    </tr>\n",
       "    <tr>\n",
       "      <th>1</th>\n",
       "      <td>1. Ciutat Vella</td>\n",
       "      <td>0.140351</td>\n",
       "    </tr>\n",
       "    <tr>\n",
       "      <th>2</th>\n",
       "      <td>2. l'Eixample</td>\n",
       "      <td>0.055556</td>\n",
       "    </tr>\n",
       "    <tr>\n",
       "      <th>3</th>\n",
       "      <td>3. Extramurs</td>\n",
       "      <td>0.152672</td>\n",
       "    </tr>\n",
       "    <tr>\n",
       "      <th>4</th>\n",
       "      <td>4. Campanar</td>\n",
       "      <td>0.177966</td>\n",
       "    </tr>\n",
       "    <tr>\n",
       "      <th>5</th>\n",
       "      <td>5. la Saïdia</td>\n",
       "      <td>0.242188</td>\n",
       "    </tr>\n",
       "    <tr>\n",
       "      <th>6</th>\n",
       "      <td>6. el Pla del Real</td>\n",
       "      <td>0.000000</td>\n",
       "    </tr>\n",
       "    <tr>\n",
       "      <th>7</th>\n",
       "      <td>7. l'Olivereta</td>\n",
       "      <td>0.230769</td>\n",
       "    </tr>\n",
       "    <tr>\n",
       "      <th>8</th>\n",
       "      <td>8. Patraix</td>\n",
       "      <td>0.308824</td>\n",
       "    </tr>\n",
       "    <tr>\n",
       "      <th>9</th>\n",
       "      <td>9. Jesús</td>\n",
       "      <td>0.218045</td>\n",
       "    </tr>\n",
       "    <tr>\n",
       "      <th>10</th>\n",
       "      <td>10. Quatre Carreres</td>\n",
       "      <td>0.190476</td>\n",
       "    </tr>\n",
       "    <tr>\n",
       "      <th>11</th>\n",
       "      <td>11. Poblats Marítims</td>\n",
       "      <td>0.186567</td>\n",
       "    </tr>\n",
       "    <tr>\n",
       "      <th>12</th>\n",
       "      <td>12. Camins al Grau</td>\n",
       "      <td>0.178571</td>\n",
       "    </tr>\n",
       "    <tr>\n",
       "      <th>13</th>\n",
       "      <td>13. Algirós</td>\n",
       "      <td>0.059322</td>\n",
       "    </tr>\n",
       "    <tr>\n",
       "      <th>14</th>\n",
       "      <td>14. Benimaclet</td>\n",
       "      <td>0.140351</td>\n",
       "    </tr>\n",
       "    <tr>\n",
       "      <th>15</th>\n",
       "      <td>15. Rascanya</td>\n",
       "      <td>0.280303</td>\n",
       "    </tr>\n",
       "    <tr>\n",
       "      <th>16</th>\n",
       "      <td>16. Benicalap</td>\n",
       "      <td>0.234375</td>\n",
       "    </tr>\n",
       "    <tr>\n",
       "      <th>17</th>\n",
       "      <td>17. Pobles del Nord</td>\n",
       "      <td>0.053763</td>\n",
       "    </tr>\n",
       "    <tr>\n",
       "      <th>18</th>\n",
       "      <td>18. Pobles de l'Oest</td>\n",
       "      <td>0.153846</td>\n",
       "    </tr>\n",
       "  </tbody>\n",
       "</table>\n",
       "</div>"
      ],
      "text/plain": [
       "                Distrito  Extranjeros\n",
       "0                  Total     0.183847\n",
       "1        1. Ciutat Vella     0.140351\n",
       "2          2. l'Eixample     0.055556\n",
       "3           3. Extramurs     0.152672\n",
       "4            4. Campanar     0.177966\n",
       "5           5. la Saïdia     0.242188\n",
       "6     6. el Pla del Real     0.000000\n",
       "7         7. l'Olivereta     0.230769\n",
       "8             8. Patraix     0.308824\n",
       "9               9. Jesús     0.218045\n",
       "10   10. Quatre Carreres     0.190476\n",
       "11  11. Poblats Marítims     0.186567\n",
       "12    12. Camins al Grau     0.178571\n",
       "13           13. Algirós     0.059322\n",
       "14        14. Benimaclet     0.140351\n",
       "15          15. Rascanya     0.280303\n",
       "16         16. Benicalap     0.234375\n",
       "17   17. Pobles del Nord     0.053763\n",
       "18  18. Pobles de l'Oest     0.153846"
      ]
     },
     "execution_count": 6,
     "metadata": {},
     "output_type": "execute_result"
    }
   ],
   "source": [
    "df_extranjer = pd.read_excel('docs_Carlos/Distritos23.xlsx', sheet_name=' P.36', header=7)\n",
    "# cambiar el nombre de la primera columna que hace de header a 'Distrito':\n",
    "df_extranjer.rename(columns={'Unnamed: 0':'Distrito'}, inplace=True)\n",
    "# añadir una columna que sea: \"true Valencia\" y condensar en ella las columnas 2 y 3 en una sola que sume los valores por fila\n",
    "df_extranjer['Españoles'] = df_extranjer.iloc[:, 1] + df_extranjer.iloc[:, 2] + df_extranjer.iloc[:, 3] + df_extranjer.iloc[:, 4]\n",
    "# añadir una columna que sea: \"Extranjeros\" y condensar en ella las columnas 4, 5 y 6 en una sola que sume los valores por fila\n",
    "df_extranjer['Extranjeros'] = df_extranjer.iloc[:, 5] \n",
    "# Eliminar las columnas 2 a 8\n",
    "df_extranjer = df_extranjer.drop(df_extranjer.columns[1:9], axis=1)\n",
    "#eliminar columna 1 y 3\n",
    "df_extranjer = df_extranjer.drop(df_extranjer.columns[1], axis=1)\n",
    "df_extranjer['Extranjeros'] = df_extranjer['Extranjeros']/100\n",
    "df_extranjer.head(19)\n"
   ]
  },
  {
   "cell_type": "code",
   "execution_count": 7,
   "metadata": {},
   "outputs": [
    {
     "data": {
      "text/html": [
       "<div>\n",
       "<style scoped>\n",
       "    .dataframe tbody tr th:only-of-type {\n",
       "        vertical-align: middle;\n",
       "    }\n",
       "\n",
       "    .dataframe tbody tr th {\n",
       "        vertical-align: top;\n",
       "    }\n",
       "\n",
       "    .dataframe thead th {\n",
       "        text-align: right;\n",
       "    }\n",
       "</style>\n",
       "<table border=\"1\" class=\"dataframe\">\n",
       "  <thead>\n",
       "    <tr style=\"text-align: right;\">\n",
       "      <th></th>\n",
       "      <th>Distrito</th>\n",
       "      <th>Política</th>\n",
       "    </tr>\n",
       "  </thead>\n",
       "  <tbody>\n",
       "    <tr>\n",
       "      <th>0</th>\n",
       "      <td>Total</td>\n",
       "      <td>0.534791</td>\n",
       "    </tr>\n",
       "    <tr>\n",
       "      <th>1</th>\n",
       "      <td>1. Ciutat Vella</td>\n",
       "      <td>0.593814</td>\n",
       "    </tr>\n",
       "    <tr>\n",
       "      <th>2</th>\n",
       "      <td>2. l'Eixample</td>\n",
       "      <td>0.638938</td>\n",
       "    </tr>\n",
       "    <tr>\n",
       "      <th>3</th>\n",
       "      <td>3. Extramurs</td>\n",
       "      <td>0.562037</td>\n",
       "    </tr>\n",
       "    <tr>\n",
       "      <th>4</th>\n",
       "      <td>4. Campanar</td>\n",
       "      <td>0.533708</td>\n",
       "    </tr>\n",
       "    <tr>\n",
       "      <th>5</th>\n",
       "      <td>5. la Saïdia</td>\n",
       "      <td>0.516071</td>\n",
       "    </tr>\n",
       "    <tr>\n",
       "      <th>6</th>\n",
       "      <td>6. el Pla del Real</td>\n",
       "      <td>0.724138</td>\n",
       "    </tr>\n",
       "    <tr>\n",
       "      <th>7</th>\n",
       "      <td>7. l'Olivereta</td>\n",
       "      <td>0.476106</td>\n",
       "    </tr>\n",
       "    <tr>\n",
       "      <th>8</th>\n",
       "      <td>8. Patraix</td>\n",
       "      <td>0.521774</td>\n",
       "    </tr>\n",
       "    <tr>\n",
       "      <th>9</th>\n",
       "      <td>9. Jesús</td>\n",
       "      <td>0.500000</td>\n",
       "    </tr>\n",
       "    <tr>\n",
       "      <th>10</th>\n",
       "      <td>10. Quatre Carreres</td>\n",
       "      <td>0.462069</td>\n",
       "    </tr>\n",
       "    <tr>\n",
       "      <th>11</th>\n",
       "      <td>11. Poblats Marítims</td>\n",
       "      <td>0.574000</td>\n",
       "    </tr>\n",
       "    <tr>\n",
       "      <th>12</th>\n",
       "      <td>12. Camins al Grau</td>\n",
       "      <td>0.440179</td>\n",
       "    </tr>\n",
       "    <tr>\n",
       "      <th>13</th>\n",
       "      <td>13. Algirós</td>\n",
       "      <td>0.604348</td>\n",
       "    </tr>\n",
       "    <tr>\n",
       "      <th>14</th>\n",
       "      <td>14. Benimaclet</td>\n",
       "      <td>0.443396</td>\n",
       "    </tr>\n",
       "    <tr>\n",
       "      <th>15</th>\n",
       "      <td>15. Rascanya</td>\n",
       "      <td>0.605376</td>\n",
       "    </tr>\n",
       "    <tr>\n",
       "      <th>16</th>\n",
       "      <td>16. Benicalap</td>\n",
       "      <td>0.493103</td>\n",
       "    </tr>\n",
       "    <tr>\n",
       "      <th>17</th>\n",
       "      <td>17. Pobles del Nord</td>\n",
       "      <td>0.475862</td>\n",
       "    </tr>\n",
       "    <tr>\n",
       "      <th>18</th>\n",
       "      <td>18. Pobles de l'Oest</td>\n",
       "      <td>0.463492</td>\n",
       "    </tr>\n",
       "  </tbody>\n",
       "</table>\n",
       "</div>"
      ],
      "text/plain": [
       "                Distrito  Política\n",
       "0                  Total  0.534791\n",
       "1        1. Ciutat Vella  0.593814\n",
       "2          2. l'Eixample  0.638938\n",
       "3           3. Extramurs  0.562037\n",
       "4            4. Campanar  0.533708\n",
       "5           5. la Saïdia  0.516071\n",
       "6     6. el Pla del Real  0.724138\n",
       "7         7. l'Olivereta  0.476106\n",
       "8             8. Patraix  0.521774\n",
       "9               9. Jesús  0.500000\n",
       "10   10. Quatre Carreres  0.462069\n",
       "11  11. Poblats Marítims  0.574000\n",
       "12    12. Camins al Grau  0.440179\n",
       "13           13. Algirós  0.604348\n",
       "14        14. Benimaclet  0.443396\n",
       "15          15. Rascanya  0.605376\n",
       "16         16. Benicalap  0.493103\n",
       "17   17. Pobles del Nord  0.475862\n",
       "18  18. Pobles de l'Oest  0.463492"
      ]
     },
     "execution_count": 7,
     "metadata": {},
     "output_type": "execute_result"
    }
   ],
   "source": [
    "df_op_politi  = pd.read_excel('docs_Carlos/Distritos23.xlsx', sheet_name=' P.37', header=8)\n",
    "# cambiar el nombre de la primera columna que hace de header a 'Distrito':\n",
    "df_op_politi.rename(columns={'Unnamed: 0':'Distrito'}, inplace=True)\n",
    "df_op_politi.rename(columns={'Unnamed: 14':'Política'}, inplace=True)\n",
    "df_op_politi.rename(columns={'Unnamed: 15':'Desviación'}, inplace=True)\n",
    "df_op_politi.rename(columns={'Unnamed: 16':'Mediana'}, inplace=True)\n",
    "#eliminar las columans 1 a 13\n",
    "df_op_politi = df_op_politi.drop(df_op_politi.columns[1:14], axis=1)\n",
    "df_op_politi = df_op_politi.drop(df_op_politi.columns[2:], axis=1)\n",
    "df_op_politi['Política'] = df_op_politi['Política']/10\n",
    "df_op_politi.head(19)"
   ]
  },
  {
   "cell_type": "code",
   "execution_count": 8,
   "metadata": {},
   "outputs": [
    {
     "data": {
      "text/html": [
       "<div>\n",
       "<style scoped>\n",
       "    .dataframe tbody tr th:only-of-type {\n",
       "        vertical-align: middle;\n",
       "    }\n",
       "\n",
       "    .dataframe tbody tr th {\n",
       "        vertical-align: top;\n",
       "    }\n",
       "\n",
       "    .dataframe thead th {\n",
       "        text-align: right;\n",
       "    }\n",
       "</style>\n",
       "<table border=\"1\" class=\"dataframe\">\n",
       "  <thead>\n",
       "    <tr style=\"text-align: right;\">\n",
       "      <th></th>\n",
       "      <th>Distrito</th>\n",
       "      <th>Empleados</th>\n",
       "      <th>Estudiantes</th>\n",
       "      <th>Desempleados</th>\n",
       "    </tr>\n",
       "  </thead>\n",
       "  <tbody>\n",
       "    <tr>\n",
       "      <th>0</th>\n",
       "      <td>Total</td>\n",
       "      <td>0.506947</td>\n",
       "      <td>0.081897</td>\n",
       "      <td>0.077091</td>\n",
       "    </tr>\n",
       "    <tr>\n",
       "      <th>1</th>\n",
       "      <td>1. Ciutat Vella</td>\n",
       "      <td>0.570175</td>\n",
       "      <td>0.166667</td>\n",
       "      <td>0.052632</td>\n",
       "    </tr>\n",
       "    <tr>\n",
       "      <th>2</th>\n",
       "      <td>2. l'Eixample</td>\n",
       "      <td>0.507937</td>\n",
       "      <td>0.087302</td>\n",
       "      <td>0.055556</td>\n",
       "    </tr>\n",
       "    <tr>\n",
       "      <th>3</th>\n",
       "      <td>3. Extramurs</td>\n",
       "      <td>0.534351</td>\n",
       "      <td>0.061069</td>\n",
       "      <td>0.053435</td>\n",
       "    </tr>\n",
       "    <tr>\n",
       "      <th>4</th>\n",
       "      <td>4. Campanar</td>\n",
       "      <td>0.516949</td>\n",
       "      <td>0.067797</td>\n",
       "      <td>0.059322</td>\n",
       "    </tr>\n",
       "    <tr>\n",
       "      <th>5</th>\n",
       "      <td>5. la Saïdia</td>\n",
       "      <td>0.492188</td>\n",
       "      <td>0.070312</td>\n",
       "      <td>0.078125</td>\n",
       "    </tr>\n",
       "    <tr>\n",
       "      <th>6</th>\n",
       "      <td>6. el Pla del Real</td>\n",
       "      <td>0.487179</td>\n",
       "      <td>0.273504</td>\n",
       "      <td>0.034188</td>\n",
       "    </tr>\n",
       "    <tr>\n",
       "      <th>7</th>\n",
       "      <td>7. l'Olivereta</td>\n",
       "      <td>0.507692</td>\n",
       "      <td>0.046154</td>\n",
       "      <td>0.092308</td>\n",
       "    </tr>\n",
       "    <tr>\n",
       "      <th>8</th>\n",
       "      <td>8. Patraix</td>\n",
       "      <td>0.470588</td>\n",
       "      <td>0.051471</td>\n",
       "      <td>0.095588</td>\n",
       "    </tr>\n",
       "    <tr>\n",
       "      <th>9</th>\n",
       "      <td>9. Jesús</td>\n",
       "      <td>0.481203</td>\n",
       "      <td>0.067669</td>\n",
       "      <td>0.090226</td>\n",
       "    </tr>\n",
       "    <tr>\n",
       "      <th>10</th>\n",
       "      <td>10. Quatre Carreres</td>\n",
       "      <td>0.517007</td>\n",
       "      <td>0.068027</td>\n",
       "      <td>0.102041</td>\n",
       "    </tr>\n",
       "    <tr>\n",
       "      <th>11</th>\n",
       "      <td>11. Poblats Marítims</td>\n",
       "      <td>0.470149</td>\n",
       "      <td>0.082090</td>\n",
       "      <td>0.104478</td>\n",
       "    </tr>\n",
       "    <tr>\n",
       "      <th>12</th>\n",
       "      <td>12. Camins al Grau</td>\n",
       "      <td>0.485714</td>\n",
       "      <td>0.057143</td>\n",
       "      <td>0.064286</td>\n",
       "    </tr>\n",
       "    <tr>\n",
       "      <th>13</th>\n",
       "      <td>13. Algirós</td>\n",
       "      <td>0.508475</td>\n",
       "      <td>0.254237</td>\n",
       "      <td>0.067797</td>\n",
       "    </tr>\n",
       "    <tr>\n",
       "      <th>14</th>\n",
       "      <td>14. Benimaclet</td>\n",
       "      <td>0.517544</td>\n",
       "      <td>0.070175</td>\n",
       "      <td>0.061404</td>\n",
       "    </tr>\n",
       "    <tr>\n",
       "      <th>15</th>\n",
       "      <td>15. Rascanya</td>\n",
       "      <td>0.560606</td>\n",
       "      <td>0.045455</td>\n",
       "      <td>0.083333</td>\n",
       "    </tr>\n",
       "    <tr>\n",
       "      <th>16</th>\n",
       "      <td>16. Benicalap</td>\n",
       "      <td>0.523438</td>\n",
       "      <td>0.031250</td>\n",
       "      <td>0.078125</td>\n",
       "    </tr>\n",
       "    <tr>\n",
       "      <th>17</th>\n",
       "      <td>17. Pobles del Nord</td>\n",
       "      <td>0.537634</td>\n",
       "      <td>0.032258</td>\n",
       "      <td>0.043011</td>\n",
       "    </tr>\n",
       "    <tr>\n",
       "      <th>18</th>\n",
       "      <td>18. Pobles de l'Oest</td>\n",
       "      <td>0.509615</td>\n",
       "      <td>0.076923</td>\n",
       "      <td>0.076923</td>\n",
       "    </tr>\n",
       "  </tbody>\n",
       "</table>\n",
       "</div>"
      ],
      "text/plain": [
       "                Distrito  Empleados  Estudiantes  Desempleados\n",
       "0                  Total   0.506947     0.081897      0.077091\n",
       "1        1. Ciutat Vella   0.570175     0.166667      0.052632\n",
       "2          2. l'Eixample   0.507937     0.087302      0.055556\n",
       "3           3. Extramurs   0.534351     0.061069      0.053435\n",
       "4            4. Campanar   0.516949     0.067797      0.059322\n",
       "5           5. la Saïdia   0.492188     0.070312      0.078125\n",
       "6     6. el Pla del Real   0.487179     0.273504      0.034188\n",
       "7         7. l'Olivereta   0.507692     0.046154      0.092308\n",
       "8             8. Patraix   0.470588     0.051471      0.095588\n",
       "9               9. Jesús   0.481203     0.067669      0.090226\n",
       "10   10. Quatre Carreres   0.517007     0.068027      0.102041\n",
       "11  11. Poblats Marítims   0.470149     0.082090      0.104478\n",
       "12    12. Camins al Grau   0.485714     0.057143      0.064286\n",
       "13           13. Algirós   0.508475     0.254237      0.067797\n",
       "14        14. Benimaclet   0.517544     0.070175      0.061404\n",
       "15          15. Rascanya   0.560606     0.045455      0.083333\n",
       "16         16. Benicalap   0.523438     0.031250      0.078125\n",
       "17   17. Pobles del Nord   0.537634     0.032258      0.043011\n",
       "18  18. Pobles de l'Oest   0.509615     0.076923      0.076923"
      ]
     },
     "execution_count": 8,
     "metadata": {},
     "output_type": "execute_result"
    }
   ],
   "source": [
    "df_s_laboral  = pd.read_excel('docs_Carlos/Distritos23.xlsx', sheet_name=' P.39', header=7)\n",
    "# cambiar el nombre de la primera columna que hace de header a 'Distrito':\n",
    "df_s_laboral.rename(columns={'Unnamed: 0':'Distrito'}, inplace=True)\n",
    "# Remombrar la segunda columna como \"Empleados\" (acceder a ella por indice)\n",
    "df_s_laboral.rename(columns={df_s_laboral.columns[1]:'Empleados'}, inplace=True)\n",
    "df_s_laboral.rename(columns={' Estudiante':'Estudiantes'}, inplace=True)\n",
    "# Crear columna Extra llamada \"parados_b\" que sea la suma de las columnas 2 y 3\n",
    "df_s_laboral['Desempleados'] = df_s_laboral.iloc[:, 2] + df_s_laboral.iloc[:, 3]\n",
    "#eliminar columnas 2 y 3\n",
    "df_s_laboral = df_s_laboral.drop(df_s_laboral.columns[2:4], axis=1)\n",
    "#eliminar columnas 3, 4 5 y 6\n",
    "df_s_laboral = df_s_laboral.drop(df_s_laboral.columns[3:7], axis=1)\n",
    "df_s_laboral['Desempleados'] = df_s_laboral['Desempleados']/100\n",
    "df_s_laboral['Empleados'] = df_s_laboral['Empleados']/100\n",
    "df_s_laboral['Estudiantes'] = df_s_laboral['Estudiantes']/100\n",
    "df_s_laboral.head(19)\n",
    "\n",
    "\n",
    "#df_extranjer['Españoles'] = df_extranjer.iloc[:, 1] + df_extranjer.iloc[:, 2]"
   ]
  },
  {
   "cell_type": "code",
   "execution_count": 9,
   "metadata": {},
   "outputs": [
    {
     "data": {
      "text/html": [
       "<div>\n",
       "<style scoped>\n",
       "    .dataframe tbody tr th:only-of-type {\n",
       "        vertical-align: middle;\n",
       "    }\n",
       "\n",
       "    .dataframe tbody tr th {\n",
       "        vertical-align: top;\n",
       "    }\n",
       "\n",
       "    .dataframe thead th {\n",
       "        text-align: right;\n",
       "    }\n",
       "</style>\n",
       "<table border=\"1\" class=\"dataframe\">\n",
       "  <thead>\n",
       "    <tr style=\"text-align: right;\">\n",
       "      <th></th>\n",
       "      <th>Distrito</th>\n",
       "      <th>Ingresos Mes</th>\n",
       "    </tr>\n",
       "  </thead>\n",
       "  <tbody>\n",
       "    <tr>\n",
       "      <th>0</th>\n",
       "      <td>Total</td>\n",
       "      <td>1875.070412</td>\n",
       "    </tr>\n",
       "    <tr>\n",
       "      <th>1</th>\n",
       "      <td>1. Ciutat Vella</td>\n",
       "      <td>2741.228070</td>\n",
       "    </tr>\n",
       "    <tr>\n",
       "      <th>2</th>\n",
       "      <td>2. l'Eixample</td>\n",
       "      <td>1908.730159</td>\n",
       "    </tr>\n",
       "    <tr>\n",
       "      <th>3</th>\n",
       "      <td>3. Extramurs</td>\n",
       "      <td>2022.900763</td>\n",
       "    </tr>\n",
       "    <tr>\n",
       "      <th>4</th>\n",
       "      <td>4. Campanar</td>\n",
       "      <td>993.644068</td>\n",
       "    </tr>\n",
       "    <tr>\n",
       "      <th>5</th>\n",
       "      <td>5. la Saïdia</td>\n",
       "      <td>0.000000</td>\n",
       "    </tr>\n",
       "    <tr>\n",
       "      <th>6</th>\n",
       "      <td>6. el Pla del Real</td>\n",
       "      <td>2525.641026</td>\n",
       "    </tr>\n",
       "    <tr>\n",
       "      <th>7</th>\n",
       "      <td>7. l'Olivereta</td>\n",
       "      <td>2275.000000</td>\n",
       "    </tr>\n",
       "    <tr>\n",
       "      <th>8</th>\n",
       "      <td>8. Patraix</td>\n",
       "      <td>3200.367647</td>\n",
       "    </tr>\n",
       "    <tr>\n",
       "      <th>9</th>\n",
       "      <td>9. Jesús</td>\n",
       "      <td>1979.323308</td>\n",
       "    </tr>\n",
       "    <tr>\n",
       "      <th>10</th>\n",
       "      <td>10. Quatre Carreres</td>\n",
       "      <td>3093.537415</td>\n",
       "    </tr>\n",
       "    <tr>\n",
       "      <th>11</th>\n",
       "      <td>11. Poblats Marítims</td>\n",
       "      <td>309.701493</td>\n",
       "    </tr>\n",
       "    <tr>\n",
       "      <th>12</th>\n",
       "      <td>12. Camins al Grau</td>\n",
       "      <td>1450.000000</td>\n",
       "    </tr>\n",
       "    <tr>\n",
       "      <th>13</th>\n",
       "      <td>13. Algirós</td>\n",
       "      <td>2277.542373</td>\n",
       "    </tr>\n",
       "    <tr>\n",
       "      <th>14</th>\n",
       "      <td>14. Benimaclet</td>\n",
       "      <td>1513.157895</td>\n",
       "    </tr>\n",
       "    <tr>\n",
       "      <th>15</th>\n",
       "      <td>15. Rascanya</td>\n",
       "      <td>3842.803030</td>\n",
       "    </tr>\n",
       "    <tr>\n",
       "      <th>16</th>\n",
       "      <td>16. Benicalap</td>\n",
       "      <td>238.281250</td>\n",
       "    </tr>\n",
       "    <tr>\n",
       "      <th>17</th>\n",
       "      <td>17. Pobles del Nord</td>\n",
       "      <td>2338.709677</td>\n",
       "    </tr>\n",
       "    <tr>\n",
       "      <th>18</th>\n",
       "      <td>18. Pobles de l'Oest</td>\n",
       "      <td>0.000000</td>\n",
       "    </tr>\n",
       "  </tbody>\n",
       "</table>\n",
       "</div>"
      ],
      "text/plain": [
       "                Distrito  Ingresos Mes\n",
       "0                  Total   1875.070412\n",
       "1        1. Ciutat Vella   2741.228070\n",
       "2          2. l'Eixample   1908.730159\n",
       "3           3. Extramurs   2022.900763\n",
       "4            4. Campanar    993.644068\n",
       "5           5. la Saïdia      0.000000\n",
       "6     6. el Pla del Real   2525.641026\n",
       "7         7. l'Olivereta   2275.000000\n",
       "8             8. Patraix   3200.367647\n",
       "9               9. Jesús   1979.323308\n",
       "10   10. Quatre Carreres   3093.537415\n",
       "11  11. Poblats Marítims    309.701493\n",
       "12    12. Camins al Grau   1450.000000\n",
       "13           13. Algirós   2277.542373\n",
       "14        14. Benimaclet   1513.157895\n",
       "15          15. Rascanya   3842.803030\n",
       "16         16. Benicalap    238.281250\n",
       "17   17. Pobles del Nord   2338.709677\n",
       "18  18. Pobles de l'Oest      0.000000"
      ]
     },
     "execution_count": 9,
     "metadata": {},
     "output_type": "execute_result"
    }
   ],
   "source": [
    "df_ingresos = pd.read_excel('docs_Carlos/Distritos23.xlsx', sheet_name=' P.43', header=8)\n",
    "df_ingresos.rename(columns={'Unnamed: 0':'Distrito'}, inplace=True)\n",
    "\n",
    "medias = [0, 250, 750, 1250, 2000, 3750, 6000]\n",
    "\n",
    "# Calcular el valor esperado de los ingresos. Para cada fila, multiplicar cada valor de la columna [i] (a partir de la 1) por el valor de medias[i] y sumarlo\n",
    "df_ingresos['Ingresos Mes'] = sum([df_ingresos.iloc[:, i] * medias[i]/100 for i in range(1, 7)])\n",
    "\n",
    "#eliminar las columnas 1 a 10\n",
    "df_ingresos = df_ingresos.drop(df_ingresos.columns[1:11], axis=1)\n",
    "\n",
    "# cambiar el valor de la media de la fila 5 por \n",
    "\n",
    "df_ingresos.head(19)\n"
   ]
  },
  {
   "cell_type": "code",
   "execution_count": 10,
   "metadata": {},
   "outputs": [
    {
     "data": {
      "text/html": [
       "<div>\n",
       "<style scoped>\n",
       "    .dataframe tbody tr th:only-of-type {\n",
       "        vertical-align: middle;\n",
       "    }\n",
       "\n",
       "    .dataframe tbody tr th {\n",
       "        vertical-align: top;\n",
       "    }\n",
       "\n",
       "    .dataframe thead th {\n",
       "        text-align: right;\n",
       "    }\n",
       "</style>\n",
       "<table border=\"1\" class=\"dataframe\">\n",
       "  <thead>\n",
       "    <tr style=\"text-align: right;\">\n",
       "      <th></th>\n",
       "      <th>Distrito</th>\n",
       "      <th>Ingresos Mes</th>\n",
       "      <th>Ingresos Mes REL</th>\n",
       "    </tr>\n",
       "  </thead>\n",
       "  <tbody>\n",
       "    <tr>\n",
       "      <th>0</th>\n",
       "      <td>Total</td>\n",
       "      <td>1875.070412</td>\n",
       "      <td>0.187507</td>\n",
       "    </tr>\n",
       "    <tr>\n",
       "      <th>1</th>\n",
       "      <td>1. Ciutat Vella</td>\n",
       "      <td>2741.228070</td>\n",
       "      <td>0.274123</td>\n",
       "    </tr>\n",
       "    <tr>\n",
       "      <th>2</th>\n",
       "      <td>2. l'Eixample</td>\n",
       "      <td>1908.730159</td>\n",
       "      <td>0.190873</td>\n",
       "    </tr>\n",
       "    <tr>\n",
       "      <th>3</th>\n",
       "      <td>3. Extramurs</td>\n",
       "      <td>2022.900763</td>\n",
       "      <td>0.202290</td>\n",
       "    </tr>\n",
       "    <tr>\n",
       "      <th>4</th>\n",
       "      <td>4. Campanar</td>\n",
       "      <td>993.644068</td>\n",
       "      <td>0.099364</td>\n",
       "    </tr>\n",
       "    <tr>\n",
       "      <th>5</th>\n",
       "      <td>5. la Saïdia</td>\n",
       "      <td>0.000000</td>\n",
       "      <td>0.000000</td>\n",
       "    </tr>\n",
       "    <tr>\n",
       "      <th>6</th>\n",
       "      <td>6. el Pla del Real</td>\n",
       "      <td>2525.641026</td>\n",
       "      <td>0.252564</td>\n",
       "    </tr>\n",
       "    <tr>\n",
       "      <th>7</th>\n",
       "      <td>7. l'Olivereta</td>\n",
       "      <td>2275.000000</td>\n",
       "      <td>0.227500</td>\n",
       "    </tr>\n",
       "    <tr>\n",
       "      <th>8</th>\n",
       "      <td>8. Patraix</td>\n",
       "      <td>3200.367647</td>\n",
       "      <td>0.320037</td>\n",
       "    </tr>\n",
       "    <tr>\n",
       "      <th>9</th>\n",
       "      <td>9. Jesús</td>\n",
       "      <td>1979.323308</td>\n",
       "      <td>0.197932</td>\n",
       "    </tr>\n",
       "    <tr>\n",
       "      <th>10</th>\n",
       "      <td>10. Quatre Carreres</td>\n",
       "      <td>3093.537415</td>\n",
       "      <td>0.309354</td>\n",
       "    </tr>\n",
       "    <tr>\n",
       "      <th>11</th>\n",
       "      <td>11. Poblats Marítims</td>\n",
       "      <td>309.701493</td>\n",
       "      <td>0.030970</td>\n",
       "    </tr>\n",
       "    <tr>\n",
       "      <th>12</th>\n",
       "      <td>12. Camins al Grau</td>\n",
       "      <td>1450.000000</td>\n",
       "      <td>0.145000</td>\n",
       "    </tr>\n",
       "    <tr>\n",
       "      <th>13</th>\n",
       "      <td>13. Algirós</td>\n",
       "      <td>2277.542373</td>\n",
       "      <td>0.227754</td>\n",
       "    </tr>\n",
       "    <tr>\n",
       "      <th>14</th>\n",
       "      <td>14. Benimaclet</td>\n",
       "      <td>1513.157895</td>\n",
       "      <td>0.151316</td>\n",
       "    </tr>\n",
       "    <tr>\n",
       "      <th>15</th>\n",
       "      <td>15. Rascanya</td>\n",
       "      <td>3842.803030</td>\n",
       "      <td>0.384280</td>\n",
       "    </tr>\n",
       "    <tr>\n",
       "      <th>16</th>\n",
       "      <td>16. Benicalap</td>\n",
       "      <td>238.281250</td>\n",
       "      <td>0.023828</td>\n",
       "    </tr>\n",
       "    <tr>\n",
       "      <th>17</th>\n",
       "      <td>17. Pobles del Nord</td>\n",
       "      <td>2338.709677</td>\n",
       "      <td>0.233871</td>\n",
       "    </tr>\n",
       "    <tr>\n",
       "      <th>18</th>\n",
       "      <td>18. Pobles de l'Oest</td>\n",
       "      <td>0.000000</td>\n",
       "      <td>0.000000</td>\n",
       "    </tr>\n",
       "  </tbody>\n",
       "</table>\n",
       "</div>"
      ],
      "text/plain": [
       "                Distrito  Ingresos Mes  Ingresos Mes REL\n",
       "0                  Total   1875.070412          0.187507\n",
       "1        1. Ciutat Vella   2741.228070          0.274123\n",
       "2          2. l'Eixample   1908.730159          0.190873\n",
       "3           3. Extramurs   2022.900763          0.202290\n",
       "4            4. Campanar    993.644068          0.099364\n",
       "5           5. la Saïdia      0.000000          0.000000\n",
       "6     6. el Pla del Real   2525.641026          0.252564\n",
       "7         7. l'Olivereta   2275.000000          0.227500\n",
       "8             8. Patraix   3200.367647          0.320037\n",
       "9               9. Jesús   1979.323308          0.197932\n",
       "10   10. Quatre Carreres   3093.537415          0.309354\n",
       "11  11. Poblats Marítims    309.701493          0.030970\n",
       "12    12. Camins al Grau   1450.000000          0.145000\n",
       "13           13. Algirós   2277.542373          0.227754\n",
       "14        14. Benimaclet   1513.157895          0.151316\n",
       "15          15. Rascanya   3842.803030          0.384280\n",
       "16         16. Benicalap    238.281250          0.023828\n",
       "17   17. Pobles del Nord   2338.709677          0.233871\n",
       "18  18. Pobles de l'Oest      0.000000          0.000000"
      ]
     },
     "execution_count": 10,
     "metadata": {},
     "output_type": "execute_result"
    }
   ],
   "source": [
    "\n",
    "df_ingresos_rel = df_ingresos.copy()\n",
    "df_ingresos_rel['Ingresos Mes REL'] = df_ingresos_rel['Ingresos Mes']/10000\n",
    "df_ingresos_rel.head(19)"
   ]
  },
  {
   "cell_type": "code",
   "execution_count": 11,
   "metadata": {},
   "outputs": [],
   "source": [
    "#exportar el dataframe df_ingresos a un archivo csv\n",
    "df_ingresos.to_csv('docs_Carlos/df_ingresos.csv', index=False)\n"
   ]
  },
  {
   "cell_type": "code",
   "execution_count": 12,
   "metadata": {},
   "outputs": [
    {
     "data": {
      "text/html": [
       "<div>\n",
       "<style scoped>\n",
       "    .dataframe tbody tr th:only-of-type {\n",
       "        vertical-align: middle;\n",
       "    }\n",
       "\n",
       "    .dataframe tbody tr th {\n",
       "        vertical-align: top;\n",
       "    }\n",
       "\n",
       "    .dataframe thead th {\n",
       "        text-align: right;\n",
       "    }\n",
       "</style>\n",
       "<table border=\"1\" class=\"dataframe\">\n",
       "  <thead>\n",
       "    <tr style=\"text-align: right;\">\n",
       "      <th></th>\n",
       "      <th>Distrito</th>\n",
       "      <th>AntRes_5y</th>\n",
       "    </tr>\n",
       "  </thead>\n",
       "  <tbody>\n",
       "    <tr>\n",
       "      <th>0</th>\n",
       "      <td>Total</td>\n",
       "      <td>0.765354</td>\n",
       "    </tr>\n",
       "    <tr>\n",
       "      <th>1</th>\n",
       "      <td>1. Ciutat Vella</td>\n",
       "      <td>0.684211</td>\n",
       "    </tr>\n",
       "    <tr>\n",
       "      <th>2</th>\n",
       "      <td>2. l'Eixample</td>\n",
       "      <td>0.857143</td>\n",
       "    </tr>\n",
       "    <tr>\n",
       "      <th>3</th>\n",
       "      <td>3. Extramurs</td>\n",
       "      <td>0.778626</td>\n",
       "    </tr>\n",
       "    <tr>\n",
       "      <th>4</th>\n",
       "      <td>4. Campanar</td>\n",
       "      <td>0.694915</td>\n",
       "    </tr>\n",
       "    <tr>\n",
       "      <th>5</th>\n",
       "      <td>5. la Saïdia</td>\n",
       "      <td>0.804688</td>\n",
       "    </tr>\n",
       "    <tr>\n",
       "      <th>6</th>\n",
       "      <td>6. el Pla del Real</td>\n",
       "      <td>0.649573</td>\n",
       "    </tr>\n",
       "    <tr>\n",
       "      <th>7</th>\n",
       "      <td>7. l'Olivereta</td>\n",
       "      <td>0.776923</td>\n",
       "    </tr>\n",
       "    <tr>\n",
       "      <th>8</th>\n",
       "      <td>8. Patraix</td>\n",
       "      <td>0.676471</td>\n",
       "    </tr>\n",
       "    <tr>\n",
       "      <th>9</th>\n",
       "      <td>9. Jesús</td>\n",
       "      <td>0.812030</td>\n",
       "    </tr>\n",
       "    <tr>\n",
       "      <th>10</th>\n",
       "      <td>10. Quatre Carreres</td>\n",
       "      <td>0.802721</td>\n",
       "    </tr>\n",
       "    <tr>\n",
       "      <th>11</th>\n",
       "      <td>11. Poblats Marítims</td>\n",
       "      <td>0.888060</td>\n",
       "    </tr>\n",
       "    <tr>\n",
       "      <th>12</th>\n",
       "      <td>12. Camins al Grau</td>\n",
       "      <td>0.757143</td>\n",
       "    </tr>\n",
       "    <tr>\n",
       "      <th>13</th>\n",
       "      <td>13. Algirós</td>\n",
       "      <td>0.644068</td>\n",
       "    </tr>\n",
       "    <tr>\n",
       "      <th>14</th>\n",
       "      <td>14. Benimaclet</td>\n",
       "      <td>0.692982</td>\n",
       "    </tr>\n",
       "    <tr>\n",
       "      <th>15</th>\n",
       "      <td>15. Rascanya</td>\n",
       "      <td>0.750000</td>\n",
       "    </tr>\n",
       "    <tr>\n",
       "      <th>16</th>\n",
       "      <td>16. Benicalap</td>\n",
       "      <td>0.796875</td>\n",
       "    </tr>\n",
       "    <tr>\n",
       "      <th>17</th>\n",
       "      <td>17. Pobles del Nord</td>\n",
       "      <td>0.795699</td>\n",
       "    </tr>\n",
       "    <tr>\n",
       "      <th>18</th>\n",
       "      <td>18. Pobles de l'Oest</td>\n",
       "      <td>0.692308</td>\n",
       "    </tr>\n",
       "    <tr>\n",
       "      <th>19</th>\n",
       "      <td>19. Pobles del Sud</td>\n",
       "      <td>0.849558</td>\n",
       "    </tr>\n",
       "  </tbody>\n",
       "</table>\n",
       "</div>"
      ],
      "text/plain": [
       "                Distrito  AntRes_5y\n",
       "0                  Total   0.765354\n",
       "1        1. Ciutat Vella   0.684211\n",
       "2          2. l'Eixample   0.857143\n",
       "3           3. Extramurs   0.778626\n",
       "4            4. Campanar   0.694915\n",
       "5           5. la Saïdia   0.804688\n",
       "6     6. el Pla del Real   0.649573\n",
       "7         7. l'Olivereta   0.776923\n",
       "8             8. Patraix   0.676471\n",
       "9               9. Jesús   0.812030\n",
       "10   10. Quatre Carreres   0.802721\n",
       "11  11. Poblats Marítims   0.888060\n",
       "12    12. Camins al Grau   0.757143\n",
       "13           13. Algirós   0.644068\n",
       "14        14. Benimaclet   0.692982\n",
       "15          15. Rascanya   0.750000\n",
       "16         16. Benicalap   0.796875\n",
       "17   17. Pobles del Nord   0.795699\n",
       "18  18. Pobles de l'Oest   0.692308\n",
       "19    19. Pobles del Sud   0.849558"
      ]
     },
     "execution_count": 12,
     "metadata": {},
     "output_type": "execute_result"
    }
   ],
   "source": [
    "# Porcentaje de poblacción que lleva viviendo en el mismo distrito más de 5 años\n",
    "\n",
    "df_permanencia = pd.read_excel('docs_Carlos/Distritos23.xlsx', sheet_name=' P.0', header=7)\n",
    "df_permanencia.rename(columns={'Unnamed: 0':'Distrito'}, inplace=True)\n",
    "df_permanencia.rename(columns={' Más de 5 años':'AntRes_5y'}, inplace=True)\n",
    "\n",
    "#eliminar las columnas 1 a 10\n",
    "df_permanencia = df_permanencia.drop(df_permanencia.columns[1:4], axis=1)\n",
    "df_permanencia = df_permanencia.drop(df_permanencia.columns[2:], axis=1)\n",
    "df_permanencia['AntRes_5y'] = df_permanencia['AntRes_5y']/100\n",
    "df_permanencia\n",
    "\n"
   ]
  },
  {
   "cell_type": "code",
   "execution_count": 13,
   "metadata": {},
   "outputs": [
    {
     "data": {
      "text/html": [
       "<div>\n",
       "<style scoped>\n",
       "    .dataframe tbody tr th:only-of-type {\n",
       "        vertical-align: middle;\n",
       "    }\n",
       "\n",
       "    .dataframe tbody tr th {\n",
       "        vertical-align: top;\n",
       "    }\n",
       "\n",
       "    .dataframe thead th {\n",
       "        text-align: right;\n",
       "    }\n",
       "</style>\n",
       "<table border=\"1\" class=\"dataframe\">\n",
       "  <thead>\n",
       "    <tr style=\"text-align: right;\">\n",
       "      <th></th>\n",
       "      <th>Distrito</th>\n",
       "      <th>Satisfaccion</th>\n",
       "    </tr>\n",
       "  </thead>\n",
       "  <tbody>\n",
       "    <tr>\n",
       "      <th>0</th>\n",
       "      <td>Total</td>\n",
       "      <td>0.821059</td>\n",
       "    </tr>\n",
       "    <tr>\n",
       "      <th>1</th>\n",
       "      <td>1. Ciutat Vella</td>\n",
       "      <td>0.791228</td>\n",
       "    </tr>\n",
       "    <tr>\n",
       "      <th>2</th>\n",
       "      <td>2. l'Eixample</td>\n",
       "      <td>0.796032</td>\n",
       "    </tr>\n",
       "    <tr>\n",
       "      <th>3</th>\n",
       "      <td>3. Extramurs</td>\n",
       "      <td>0.835115</td>\n",
       "    </tr>\n",
       "    <tr>\n",
       "      <th>4</th>\n",
       "      <td>4. Campanar</td>\n",
       "      <td>0.845763</td>\n",
       "    </tr>\n",
       "    <tr>\n",
       "      <th>5</th>\n",
       "      <td>5. la Saïdia</td>\n",
       "      <td>0.896094</td>\n",
       "    </tr>\n",
       "    <tr>\n",
       "      <th>6</th>\n",
       "      <td>6. el Pla del Real</td>\n",
       "      <td>0.747863</td>\n",
       "    </tr>\n",
       "    <tr>\n",
       "      <th>7</th>\n",
       "      <td>7. l'Olivereta</td>\n",
       "      <td>0.845385</td>\n",
       "    </tr>\n",
       "    <tr>\n",
       "      <th>8</th>\n",
       "      <td>8. Patraix</td>\n",
       "      <td>0.757353</td>\n",
       "    </tr>\n",
       "    <tr>\n",
       "      <th>9</th>\n",
       "      <td>9. Jesús</td>\n",
       "      <td>0.841353</td>\n",
       "    </tr>\n",
       "    <tr>\n",
       "      <th>10</th>\n",
       "      <td>10. Quatre Carreres</td>\n",
       "      <td>0.816327</td>\n",
       "    </tr>\n",
       "    <tr>\n",
       "      <th>11</th>\n",
       "      <td>11. Poblats Marítims</td>\n",
       "      <td>0.808209</td>\n",
       "    </tr>\n",
       "    <tr>\n",
       "      <th>12</th>\n",
       "      <td>12. Camins al Grau</td>\n",
       "      <td>0.844286</td>\n",
       "    </tr>\n",
       "    <tr>\n",
       "      <th>13</th>\n",
       "      <td>13. Algirós</td>\n",
       "      <td>0.785593</td>\n",
       "    </tr>\n",
       "    <tr>\n",
       "      <th>14</th>\n",
       "      <td>14. Benimaclet</td>\n",
       "      <td>0.850000</td>\n",
       "    </tr>\n",
       "    <tr>\n",
       "      <th>15</th>\n",
       "      <td>15. Rascanya</td>\n",
       "      <td>0.710769</td>\n",
       "    </tr>\n",
       "    <tr>\n",
       "      <th>16</th>\n",
       "      <td>16. Benicalap</td>\n",
       "      <td>0.878906</td>\n",
       "    </tr>\n",
       "    <tr>\n",
       "      <th>17</th>\n",
       "      <td>17. Pobles del Nord</td>\n",
       "      <td>0.812903</td>\n",
       "    </tr>\n",
       "    <tr>\n",
       "      <th>18</th>\n",
       "      <td>18. Pobles de l'Oest</td>\n",
       "      <td>0.881731</td>\n",
       "    </tr>\n",
       "  </tbody>\n",
       "</table>\n",
       "</div>"
      ],
      "text/plain": [
       "                Distrito  Satisfaccion\n",
       "0                  Total      0.821059\n",
       "1        1. Ciutat Vella      0.791228\n",
       "2          2. l'Eixample      0.796032\n",
       "3           3. Extramurs      0.835115\n",
       "4            4. Campanar      0.845763\n",
       "5           5. la Saïdia      0.896094\n",
       "6     6. el Pla del Real      0.747863\n",
       "7         7. l'Olivereta      0.845385\n",
       "8             8. Patraix      0.757353\n",
       "9               9. Jesús      0.841353\n",
       "10   10. Quatre Carreres      0.816327\n",
       "11  11. Poblats Marítims      0.808209\n",
       "12    12. Camins al Grau      0.844286\n",
       "13           13. Algirós      0.785593\n",
       "14        14. Benimaclet      0.850000\n",
       "15          15. Rascanya      0.710769\n",
       "16         16. Benicalap      0.878906\n",
       "17   17. Pobles del Nord      0.812903\n",
       "18  18. Pobles de l'Oest      0.881731"
      ]
     },
     "execution_count": 13,
     "metadata": {},
     "output_type": "execute_result"
    }
   ],
   "source": [
    "df_satisfacc = pd.read_excel('docs_Carlos/Distritos23.xlsx', sheet_name=' P.3', header=8)\n",
    "df_satisfacc.rename(columns={'Unnamed: 0':'Distrito'}, inplace=True)\n",
    "df_satisfacc.rename(columns={'Unnamed: 15':'Satisfaccion'}, inplace=True)\n",
    "\n",
    "df_satisfacc = df_satisfacc.drop(df_satisfacc.columns[1:15], axis=1)\n",
    "df_satisfacc = df_satisfacc.drop(df_satisfacc.columns[2:], axis=1)\n",
    "df_satisfacc['Satisfaccion'] = df_satisfacc['Satisfaccion']/10\n",
    "df_satisfacc.head(19)\n"
   ]
  },
  {
   "cell_type": "code",
   "execution_count": 14,
   "metadata": {},
   "outputs": [
    {
     "data": {
      "text/html": [
       "<div>\n",
       "<style scoped>\n",
       "    .dataframe tbody tr th:only-of-type {\n",
       "        vertical-align: middle;\n",
       "    }\n",
       "\n",
       "    .dataframe tbody tr th {\n",
       "        vertical-align: top;\n",
       "    }\n",
       "\n",
       "    .dataframe thead th {\n",
       "        text-align: right;\n",
       "    }\n",
       "</style>\n",
       "<table border=\"1\" class=\"dataframe\">\n",
       "  <thead>\n",
       "    <tr style=\"text-align: right;\">\n",
       "      <th></th>\n",
       "      <th>Distrito</th>\n",
       "      <th>Precariedad Econo</th>\n",
       "    </tr>\n",
       "  </thead>\n",
       "  <tbody>\n",
       "    <tr>\n",
       "      <th>0</th>\n",
       "      <td>Total</td>\n",
       "      <td>0.166817</td>\n",
       "    </tr>\n",
       "    <tr>\n",
       "      <th>1</th>\n",
       "      <td>1. Ciutat Vella</td>\n",
       "      <td>0.149123</td>\n",
       "    </tr>\n",
       "    <tr>\n",
       "      <th>2</th>\n",
       "      <td>2. l'Eixample</td>\n",
       "      <td>0.119048</td>\n",
       "    </tr>\n",
       "    <tr>\n",
       "      <th>3</th>\n",
       "      <td>3. Extramurs</td>\n",
       "      <td>0.091603</td>\n",
       "    </tr>\n",
       "    <tr>\n",
       "      <th>4</th>\n",
       "      <td>4. Campanar</td>\n",
       "      <td>0.161017</td>\n",
       "    </tr>\n",
       "    <tr>\n",
       "      <th>5</th>\n",
       "      <td>5. la Saïdia</td>\n",
       "      <td>0.265625</td>\n",
       "    </tr>\n",
       "    <tr>\n",
       "      <th>6</th>\n",
       "      <td>6. el Pla del Real</td>\n",
       "      <td>0.085470</td>\n",
       "    </tr>\n",
       "    <tr>\n",
       "      <th>7</th>\n",
       "      <td>7. l'Olivereta</td>\n",
       "      <td>0.184615</td>\n",
       "    </tr>\n",
       "    <tr>\n",
       "      <th>8</th>\n",
       "      <td>8. Patraix</td>\n",
       "      <td>0.117647</td>\n",
       "    </tr>\n",
       "    <tr>\n",
       "      <th>9</th>\n",
       "      <td>9. Jesús</td>\n",
       "      <td>0.180451</td>\n",
       "    </tr>\n",
       "    <tr>\n",
       "      <th>10</th>\n",
       "      <td>10. Quatre Carreres</td>\n",
       "      <td>0.204082</td>\n",
       "    </tr>\n",
       "    <tr>\n",
       "      <th>11</th>\n",
       "      <td>11. Poblats Marítims</td>\n",
       "      <td>0.171642</td>\n",
       "    </tr>\n",
       "    <tr>\n",
       "      <th>12</th>\n",
       "      <td>12. Camins al Grau</td>\n",
       "      <td>0.200000</td>\n",
       "    </tr>\n",
       "    <tr>\n",
       "      <th>13</th>\n",
       "      <td>13. Algirós</td>\n",
       "      <td>0.161017</td>\n",
       "    </tr>\n",
       "    <tr>\n",
       "      <th>14</th>\n",
       "      <td>14. Benimaclet</td>\n",
       "      <td>0.105263</td>\n",
       "    </tr>\n",
       "    <tr>\n",
       "      <th>15</th>\n",
       "      <td>15. Rascanya</td>\n",
       "      <td>0.015152</td>\n",
       "    </tr>\n",
       "    <tr>\n",
       "      <th>16</th>\n",
       "      <td>16. Benicalap</td>\n",
       "      <td>0.351562</td>\n",
       "    </tr>\n",
       "    <tr>\n",
       "      <th>17</th>\n",
       "      <td>17. Pobles del Nord</td>\n",
       "      <td>0.053763</td>\n",
       "    </tr>\n",
       "    <tr>\n",
       "      <th>18</th>\n",
       "      <td>18. Pobles de l'Oest</td>\n",
       "      <td>0.307692</td>\n",
       "    </tr>\n",
       "  </tbody>\n",
       "</table>\n",
       "</div>"
      ],
      "text/plain": [
       "                Distrito  Precariedad Econo\n",
       "0                  Total           0.166817\n",
       "1        1. Ciutat Vella           0.149123\n",
       "2          2. l'Eixample           0.119048\n",
       "3           3. Extramurs           0.091603\n",
       "4            4. Campanar           0.161017\n",
       "5           5. la Saïdia           0.265625\n",
       "6     6. el Pla del Real           0.085470\n",
       "7         7. l'Olivereta           0.184615\n",
       "8             8. Patraix           0.117647\n",
       "9               9. Jesús           0.180451\n",
       "10   10. Quatre Carreres           0.204082\n",
       "11  11. Poblats Marítims           0.171642\n",
       "12    12. Camins al Grau           0.200000\n",
       "13           13. Algirós           0.161017\n",
       "14        14. Benimaclet           0.105263\n",
       "15          15. Rascanya           0.015152\n",
       "16         16. Benicalap           0.351562\n",
       "17   17. Pobles del Nord           0.053763\n",
       "18  18. Pobles de l'Oest           0.307692"
      ]
     },
     "execution_count": 14,
     "metadata": {},
     "output_type": "execute_result"
    }
   ],
   "source": [
    "df_pr_situ_econo = pd.read_excel('docs_Carlos/Distritos23.xlsx', sheet_name='P.6', header=7)\n",
    "\n",
    "df_pr_situ_econo.rename(columns={'Unnamed: 0':'Distrito'}, inplace=True)\n",
    "#cambiar nombre de la columna 1 a 'Buena Situación económica'\n",
    "df_pr_situ_econo.rename(columns={'La mala situación económica y la inflación':'Precariedad Econo'}, inplace=True)\n",
    "df_pr_situ_econo = df_pr_situ_econo.drop(df_pr_situ_econo.columns[2:], axis=1)\n",
    "\n",
    "df_pr_situ_econo['Precariedad Econo'] = df_pr_situ_econo['Precariedad Econo']/100\n",
    "df_pr_situ_econo.head(19)"
   ]
  },
  {
   "cell_type": "code",
   "execution_count": 15,
   "metadata": {},
   "outputs": [
    {
     "data": {
      "text/html": [
       "<div>\n",
       "<style scoped>\n",
       "    .dataframe tbody tr th:only-of-type {\n",
       "        vertical-align: middle;\n",
       "    }\n",
       "\n",
       "    .dataframe tbody tr th {\n",
       "        vertical-align: top;\n",
       "    }\n",
       "\n",
       "    .dataframe thead th {\n",
       "        text-align: right;\n",
       "    }\n",
       "</style>\n",
       "<table border=\"1\" class=\"dataframe\">\n",
       "  <thead>\n",
       "    <tr style=\"text-align: right;\">\n",
       "      <th></th>\n",
       "      <th>Distrito</th>\n",
       "      <th>Prob Vivienda</th>\n",
       "    </tr>\n",
       "  </thead>\n",
       "  <tbody>\n",
       "    <tr>\n",
       "      <th>0</th>\n",
       "      <td>Total</td>\n",
       "      <td>0.070282</td>\n",
       "    </tr>\n",
       "    <tr>\n",
       "      <th>1</th>\n",
       "      <td>1. Ciutat Vella</td>\n",
       "      <td>0.096491</td>\n",
       "    </tr>\n",
       "    <tr>\n",
       "      <th>2</th>\n",
       "      <td>2. l'Eixample</td>\n",
       "      <td>0.015873</td>\n",
       "    </tr>\n",
       "    <tr>\n",
       "      <th>3</th>\n",
       "      <td>3. Extramurs</td>\n",
       "      <td>0.038168</td>\n",
       "    </tr>\n",
       "    <tr>\n",
       "      <th>4</th>\n",
       "      <td>4. Campanar</td>\n",
       "      <td>0.118644</td>\n",
       "    </tr>\n",
       "    <tr>\n",
       "      <th>5</th>\n",
       "      <td>5. la Saïdia</td>\n",
       "      <td>0.031250</td>\n",
       "    </tr>\n",
       "    <tr>\n",
       "      <th>6</th>\n",
       "      <td>6. el Pla del Real</td>\n",
       "      <td>0.000000</td>\n",
       "    </tr>\n",
       "    <tr>\n",
       "      <th>7</th>\n",
       "      <td>7. l'Olivereta</td>\n",
       "      <td>0.092308</td>\n",
       "    </tr>\n",
       "    <tr>\n",
       "      <th>8</th>\n",
       "      <td>8. Patraix</td>\n",
       "      <td>0.095588</td>\n",
       "    </tr>\n",
       "    <tr>\n",
       "      <th>9</th>\n",
       "      <td>9. Jesús</td>\n",
       "      <td>0.075188</td>\n",
       "    </tr>\n",
       "    <tr>\n",
       "      <th>10</th>\n",
       "      <td>10. Quatre Carreres</td>\n",
       "      <td>0.102041</td>\n",
       "    </tr>\n",
       "    <tr>\n",
       "      <th>11</th>\n",
       "      <td>11. Poblats Marítims</td>\n",
       "      <td>0.059701</td>\n",
       "    </tr>\n",
       "    <tr>\n",
       "      <th>12</th>\n",
       "      <td>12. Camins al Grau</td>\n",
       "      <td>0.107143</td>\n",
       "    </tr>\n",
       "    <tr>\n",
       "      <th>13</th>\n",
       "      <td>13. Algirós</td>\n",
       "      <td>0.016949</td>\n",
       "    </tr>\n",
       "    <tr>\n",
       "      <th>14</th>\n",
       "      <td>14. Benimaclet</td>\n",
       "      <td>0.149123</td>\n",
       "    </tr>\n",
       "    <tr>\n",
       "      <th>15</th>\n",
       "      <td>15. Rascanya</td>\n",
       "      <td>0.060606</td>\n",
       "    </tr>\n",
       "    <tr>\n",
       "      <th>16</th>\n",
       "      <td>16. Benicalap</td>\n",
       "      <td>0.023438</td>\n",
       "    </tr>\n",
       "    <tr>\n",
       "      <th>17</th>\n",
       "      <td>17. Pobles del Nord</td>\n",
       "      <td>0.107527</td>\n",
       "    </tr>\n",
       "    <tr>\n",
       "      <th>18</th>\n",
       "      <td>18. Pobles de l'Oest</td>\n",
       "      <td>0.057692</td>\n",
       "    </tr>\n",
       "  </tbody>\n",
       "</table>\n",
       "</div>"
      ],
      "text/plain": [
       "                Distrito  Prob Vivienda\n",
       "0                  Total       0.070282\n",
       "1        1. Ciutat Vella       0.096491\n",
       "2          2. l'Eixample       0.015873\n",
       "3           3. Extramurs       0.038168\n",
       "4            4. Campanar       0.118644\n",
       "5           5. la Saïdia       0.031250\n",
       "6     6. el Pla del Real       0.000000\n",
       "7         7. l'Olivereta       0.092308\n",
       "8             8. Patraix       0.095588\n",
       "9               9. Jesús       0.075188\n",
       "10   10. Quatre Carreres       0.102041\n",
       "11  11. Poblats Marítims       0.059701\n",
       "12    12. Camins al Grau       0.107143\n",
       "13           13. Algirós       0.016949\n",
       "14        14. Benimaclet       0.149123\n",
       "15          15. Rascanya       0.060606\n",
       "16         16. Benicalap       0.023438\n",
       "17   17. Pobles del Nord       0.107527\n",
       "18  18. Pobles de l'Oest       0.057692"
      ]
     },
     "execution_count": 15,
     "metadata": {},
     "output_type": "execute_result"
    }
   ],
   "source": [
    "df_pr_acceso_casa = pd.read_excel('docs_Carlos/Distritos23.xlsx', sheet_name='P.6', header=7)\n",
    "\n",
    "df_pr_acceso_casa.rename(columns={'Unnamed: 0':'Distrito'}, inplace=True)\n",
    "df_pr_acceso_casa.rename(columns={'El acceso a la vivienda / escasa oferta / precio alquiler':'Prob Vivienda'}, inplace=True)\n",
    "df_pr_acceso_casa = df_pr_acceso_casa.drop(df_pr_acceso_casa.columns[1:3], axis=1)\n",
    "df_pr_acceso_casa = df_pr_acceso_casa.drop(df_pr_acceso_casa.columns[2:], axis=1)\n",
    "df_pr_acceso_casa['Prob Vivienda'] = df_pr_acceso_casa['Prob Vivienda']/100\n",
    "df_pr_acceso_casa.head(19)"
   ]
  },
  {
   "cell_type": "code",
   "execution_count": 16,
   "metadata": {},
   "outputs": [
    {
     "data": {
      "text/html": [
       "<div>\n",
       "<style scoped>\n",
       "    .dataframe tbody tr th:only-of-type {\n",
       "        vertical-align: middle;\n",
       "    }\n",
       "\n",
       "    .dataframe tbody tr th {\n",
       "        vertical-align: top;\n",
       "    }\n",
       "\n",
       "    .dataframe thead th {\n",
       "        text-align: right;\n",
       "    }\n",
       "</style>\n",
       "<table border=\"1\" class=\"dataframe\">\n",
       "  <thead>\n",
       "    <tr style=\"text-align: right;\">\n",
       "      <th></th>\n",
       "      <th>Distrito</th>\n",
       "      <th>Limpieza</th>\n",
       "    </tr>\n",
       "  </thead>\n",
       "  <tbody>\n",
       "    <tr>\n",
       "      <th>0</th>\n",
       "      <td>Total</td>\n",
       "      <td>0.573540</td>\n",
       "    </tr>\n",
       "    <tr>\n",
       "      <th>1</th>\n",
       "      <td>1. Ciutat Vella</td>\n",
       "      <td>0.531579</td>\n",
       "    </tr>\n",
       "    <tr>\n",
       "      <th>2</th>\n",
       "      <td>2. l'Eixample</td>\n",
       "      <td>0.622222</td>\n",
       "    </tr>\n",
       "    <tr>\n",
       "      <th>3</th>\n",
       "      <td>3. Extramurs</td>\n",
       "      <td>0.586260</td>\n",
       "    </tr>\n",
       "    <tr>\n",
       "      <th>4</th>\n",
       "      <td>4. Campanar</td>\n",
       "      <td>0.599153</td>\n",
       "    </tr>\n",
       "    <tr>\n",
       "      <th>5</th>\n",
       "      <td>5. la Saïdia</td>\n",
       "      <td>0.382031</td>\n",
       "    </tr>\n",
       "    <tr>\n",
       "      <th>6</th>\n",
       "      <td>6. el Pla del Real</td>\n",
       "      <td>0.644444</td>\n",
       "    </tr>\n",
       "    <tr>\n",
       "      <th>7</th>\n",
       "      <td>7. l'Olivereta</td>\n",
       "      <td>0.636923</td>\n",
       "    </tr>\n",
       "    <tr>\n",
       "      <th>8</th>\n",
       "      <td>8. Patraix</td>\n",
       "      <td>0.503676</td>\n",
       "    </tr>\n",
       "    <tr>\n",
       "      <th>9</th>\n",
       "      <td>9. Jesús</td>\n",
       "      <td>0.642105</td>\n",
       "    </tr>\n",
       "    <tr>\n",
       "      <th>10</th>\n",
       "      <td>10. Quatre Carreres</td>\n",
       "      <td>0.491837</td>\n",
       "    </tr>\n",
       "    <tr>\n",
       "      <th>11</th>\n",
       "      <td>11. Poblats Marítims</td>\n",
       "      <td>0.608955</td>\n",
       "    </tr>\n",
       "    <tr>\n",
       "      <th>12</th>\n",
       "      <td>12. Camins al Grau</td>\n",
       "      <td>0.602143</td>\n",
       "    </tr>\n",
       "    <tr>\n",
       "      <th>13</th>\n",
       "      <td>13. Algirós</td>\n",
       "      <td>0.588983</td>\n",
       "    </tr>\n",
       "    <tr>\n",
       "      <th>14</th>\n",
       "      <td>14. Benimaclet</td>\n",
       "      <td>0.652632</td>\n",
       "    </tr>\n",
       "    <tr>\n",
       "      <th>15</th>\n",
       "      <td>15. Rascanya</td>\n",
       "      <td>0.620455</td>\n",
       "    </tr>\n",
       "    <tr>\n",
       "      <th>16</th>\n",
       "      <td>16. Benicalap</td>\n",
       "      <td>0.410156</td>\n",
       "    </tr>\n",
       "    <tr>\n",
       "      <th>17</th>\n",
       "      <td>17. Pobles del Nord</td>\n",
       "      <td>0.587097</td>\n",
       "    </tr>\n",
       "    <tr>\n",
       "      <th>18</th>\n",
       "      <td>18. Pobles de l'Oest</td>\n",
       "      <td>0.629808</td>\n",
       "    </tr>\n",
       "  </tbody>\n",
       "</table>\n",
       "</div>"
      ],
      "text/plain": [
       "                Distrito  Limpieza\n",
       "0                  Total  0.573540\n",
       "1        1. Ciutat Vella  0.531579\n",
       "2          2. l'Eixample  0.622222\n",
       "3           3. Extramurs  0.586260\n",
       "4            4. Campanar  0.599153\n",
       "5           5. la Saïdia  0.382031\n",
       "6     6. el Pla del Real  0.644444\n",
       "7         7. l'Olivereta  0.636923\n",
       "8             8. Patraix  0.503676\n",
       "9               9. Jesús  0.642105\n",
       "10   10. Quatre Carreres  0.491837\n",
       "11  11. Poblats Marítims  0.608955\n",
       "12    12. Camins al Grau  0.602143\n",
       "13           13. Algirós  0.588983\n",
       "14        14. Benimaclet  0.652632\n",
       "15          15. Rascanya  0.620455\n",
       "16         16. Benicalap  0.410156\n",
       "17   17. Pobles del Nord  0.587097\n",
       "18  18. Pobles de l'Oest  0.629808"
      ]
     },
     "execution_count": 16,
     "metadata": {},
     "output_type": "execute_result"
    }
   ],
   "source": [
    "df_recogida_basura = pd.read_excel('docs_Carlos/Distritos23.xlsx', sheet_name=' P.7.1.1', header=9)  \n",
    "df_recogida_basura.rename(columns={'Unnamed: 0':'Distrito'}, inplace=True)\n",
    "df_recogida_basura.rename(columns={'Unnamed: 15':'Limpieza'}, inplace=True)\n",
    "df_recogida_basura = df_recogida_basura.drop(df_recogida_basura.columns[1:15], axis=1)\n",
    "df_recogida_basura = df_recogida_basura.drop(df_recogida_basura.columns[2:], axis=1)\n",
    "df_recogida_basura['Limpieza'] = df_recogida_basura['Limpieza']/10\n",
    "df_recogida_basura.head(19)"
   ]
  },
  {
   "cell_type": "code",
   "execution_count": 17,
   "metadata": {},
   "outputs": [
    {
     "data": {
      "text/html": [
       "<div>\n",
       "<style scoped>\n",
       "    .dataframe tbody tr th:only-of-type {\n",
       "        vertical-align: middle;\n",
       "    }\n",
       "\n",
       "    .dataframe tbody tr th {\n",
       "        vertical-align: top;\n",
       "    }\n",
       "\n",
       "    .dataframe thead th {\n",
       "        text-align: right;\n",
       "    }\n",
       "</style>\n",
       "<table border=\"1\" class=\"dataframe\">\n",
       "  <thead>\n",
       "    <tr style=\"text-align: right;\">\n",
       "      <th></th>\n",
       "      <th>Distrito</th>\n",
       "      <th>Frec Acc Coche</th>\n",
       "    </tr>\n",
       "  </thead>\n",
       "  <tbody>\n",
       "    <tr>\n",
       "      <th>0</th>\n",
       "      <td>Total</td>\n",
       "      <td>0.129150</td>\n",
       "    </tr>\n",
       "    <tr>\n",
       "      <th>1</th>\n",
       "      <td>1. Ciutat Vella</td>\n",
       "      <td>0.157895</td>\n",
       "    </tr>\n",
       "    <tr>\n",
       "      <th>2</th>\n",
       "      <td>2. l'Eixample</td>\n",
       "      <td>0.071429</td>\n",
       "    </tr>\n",
       "    <tr>\n",
       "      <th>3</th>\n",
       "      <td>3. Extramurs</td>\n",
       "      <td>0.175573</td>\n",
       "    </tr>\n",
       "    <tr>\n",
       "      <th>4</th>\n",
       "      <td>4. Campanar</td>\n",
       "      <td>0.118644</td>\n",
       "    </tr>\n",
       "    <tr>\n",
       "      <th>5</th>\n",
       "      <td>5. la Saïdia</td>\n",
       "      <td>0.242188</td>\n",
       "    </tr>\n",
       "    <tr>\n",
       "      <th>6</th>\n",
       "      <td>6. el Pla del Real</td>\n",
       "      <td>0.282051</td>\n",
       "    </tr>\n",
       "    <tr>\n",
       "      <th>7</th>\n",
       "      <td>7. l'Olivereta</td>\n",
       "      <td>0.069231</td>\n",
       "    </tr>\n",
       "    <tr>\n",
       "      <th>8</th>\n",
       "      <td>8. Patraix</td>\n",
       "      <td>0.088235</td>\n",
       "    </tr>\n",
       "    <tr>\n",
       "      <th>9</th>\n",
       "      <td>9. Jesús</td>\n",
       "      <td>0.120301</td>\n",
       "    </tr>\n",
       "    <tr>\n",
       "      <th>10</th>\n",
       "      <td>10. Quatre Carreres</td>\n",
       "      <td>0.095238</td>\n",
       "    </tr>\n",
       "    <tr>\n",
       "      <th>11</th>\n",
       "      <td>11. Poblats Marítims</td>\n",
       "      <td>0.052239</td>\n",
       "    </tr>\n",
       "    <tr>\n",
       "      <th>12</th>\n",
       "      <td>12. Camins al Grau</td>\n",
       "      <td>0.157143</td>\n",
       "    </tr>\n",
       "    <tr>\n",
       "      <th>13</th>\n",
       "      <td>13. Algirós</td>\n",
       "      <td>0.245763</td>\n",
       "    </tr>\n",
       "    <tr>\n",
       "      <th>14</th>\n",
       "      <td>14. Benimaclet</td>\n",
       "      <td>0.035088</td>\n",
       "    </tr>\n",
       "    <tr>\n",
       "      <th>15</th>\n",
       "      <td>15. Rascanya</td>\n",
       "      <td>0.075758</td>\n",
       "    </tr>\n",
       "    <tr>\n",
       "      <th>16</th>\n",
       "      <td>16. Benicalap</td>\n",
       "      <td>0.195312</td>\n",
       "    </tr>\n",
       "    <tr>\n",
       "      <th>17</th>\n",
       "      <td>17. Pobles del Nord</td>\n",
       "      <td>0.215054</td>\n",
       "    </tr>\n",
       "    <tr>\n",
       "      <th>18</th>\n",
       "      <td>18. Pobles de l'Oest</td>\n",
       "      <td>0.182692</td>\n",
       "    </tr>\n",
       "  </tbody>\n",
       "</table>\n",
       "</div>"
      ],
      "text/plain": [
       "                Distrito  Frec Acc Coche\n",
       "0                  Total        0.129150\n",
       "1        1. Ciutat Vella        0.157895\n",
       "2          2. l'Eixample        0.071429\n",
       "3           3. Extramurs        0.175573\n",
       "4            4. Campanar        0.118644\n",
       "5           5. la Saïdia        0.242188\n",
       "6     6. el Pla del Real        0.282051\n",
       "7         7. l'Olivereta        0.069231\n",
       "8             8. Patraix        0.088235\n",
       "9               9. Jesús        0.120301\n",
       "10   10. Quatre Carreres        0.095238\n",
       "11  11. Poblats Marítims        0.052239\n",
       "12    12. Camins al Grau        0.157143\n",
       "13           13. Algirós        0.245763\n",
       "14        14. Benimaclet        0.035088\n",
       "15          15. Rascanya        0.075758\n",
       "16         16. Benicalap        0.195312\n",
       "17   17. Pobles del Nord        0.215054\n",
       "18  18. Pobles de l'Oest        0.182692"
      ]
     },
     "execution_count": 17,
     "metadata": {},
     "output_type": "execute_result"
    }
   ],
   "source": [
    "df_trafico = pd.read_excel('docs_Carlos/Distritos23.xlsx', sheet_name=' P.15.1', header=8)\n",
    "\n",
    "df_trafico.rename(columns={'Unnamed: 0':'Distrito'}, inplace=True)\n",
    "df_trafico.rename(columns={' Más de una vez':'Frec Acc Coche'}, inplace=True)\n",
    "df_trafico = df_trafico.drop(df_trafico.columns[2:], axis=1)\n",
    "df_trafico['Frec Acc Coche'] = df_trafico['Frec Acc Coche']/100\n",
    "df_trafico.head(19)\n",
    "\n"
   ]
  },
  {
   "cell_type": "code",
   "execution_count": 18,
   "metadata": {},
   "outputs": [
    {
     "data": {
      "text/html": [
       "<div>\n",
       "<style scoped>\n",
       "    .dataframe tbody tr th:only-of-type {\n",
       "        vertical-align: middle;\n",
       "    }\n",
       "\n",
       "    .dataframe tbody tr th {\n",
       "        vertical-align: top;\n",
       "    }\n",
       "\n",
       "    .dataframe thead th {\n",
       "        text-align: right;\n",
       "    }\n",
       "</style>\n",
       "<table border=\"1\" class=\"dataframe\">\n",
       "  <thead>\n",
       "    <tr style=\"text-align: right;\">\n",
       "      <th></th>\n",
       "      <th>Distrito</th>\n",
       "      <th>Frec Prostitucion</th>\n",
       "    </tr>\n",
       "  </thead>\n",
       "  <tbody>\n",
       "    <tr>\n",
       "      <th>0</th>\n",
       "      <td>Total</td>\n",
       "      <td>0.115051</td>\n",
       "    </tr>\n",
       "    <tr>\n",
       "      <th>1</th>\n",
       "      <td>1. Ciutat Vella</td>\n",
       "      <td>0.289474</td>\n",
       "    </tr>\n",
       "    <tr>\n",
       "      <th>2</th>\n",
       "      <td>2. l'Eixample</td>\n",
       "      <td>0.119048</td>\n",
       "    </tr>\n",
       "    <tr>\n",
       "      <th>3</th>\n",
       "      <td>3. Extramurs</td>\n",
       "      <td>0.083969</td>\n",
       "    </tr>\n",
       "    <tr>\n",
       "      <th>4</th>\n",
       "      <td>4. Campanar</td>\n",
       "      <td>0.093220</td>\n",
       "    </tr>\n",
       "    <tr>\n",
       "      <th>5</th>\n",
       "      <td>5. la Saïdia</td>\n",
       "      <td>0.039062</td>\n",
       "    </tr>\n",
       "    <tr>\n",
       "      <th>6</th>\n",
       "      <td>6. el Pla del Real</td>\n",
       "      <td>0.247863</td>\n",
       "    </tr>\n",
       "    <tr>\n",
       "      <th>7</th>\n",
       "      <td>7. l'Olivereta</td>\n",
       "      <td>0.084615</td>\n",
       "    </tr>\n",
       "    <tr>\n",
       "      <th>8</th>\n",
       "      <td>8. Patraix</td>\n",
       "      <td>0.397059</td>\n",
       "    </tr>\n",
       "    <tr>\n",
       "      <th>9</th>\n",
       "      <td>9. Jesús</td>\n",
       "      <td>0.060150</td>\n",
       "    </tr>\n",
       "    <tr>\n",
       "      <th>10</th>\n",
       "      <td>10. Quatre Carreres</td>\n",
       "      <td>0.095238</td>\n",
       "    </tr>\n",
       "    <tr>\n",
       "      <th>11</th>\n",
       "      <td>11. Poblats Marítims</td>\n",
       "      <td>0.126866</td>\n",
       "    </tr>\n",
       "    <tr>\n",
       "      <th>12</th>\n",
       "      <td>12. Camins al Grau</td>\n",
       "      <td>0.057143</td>\n",
       "    </tr>\n",
       "    <tr>\n",
       "      <th>13</th>\n",
       "      <td>13. Algirós</td>\n",
       "      <td>0.127119</td>\n",
       "    </tr>\n",
       "    <tr>\n",
       "      <th>14</th>\n",
       "      <td>14. Benimaclet</td>\n",
       "      <td>0.008772</td>\n",
       "    </tr>\n",
       "    <tr>\n",
       "      <th>15</th>\n",
       "      <td>15. Rascanya</td>\n",
       "      <td>0.090909</td>\n",
       "    </tr>\n",
       "    <tr>\n",
       "      <th>16</th>\n",
       "      <td>16. Benicalap</td>\n",
       "      <td>0.023438</td>\n",
       "    </tr>\n",
       "    <tr>\n",
       "      <th>17</th>\n",
       "      <td>17. Pobles del Nord</td>\n",
       "      <td>0.182796</td>\n",
       "    </tr>\n",
       "    <tr>\n",
       "      <th>18</th>\n",
       "      <td>18. Pobles de l'Oest</td>\n",
       "      <td>0.028846</td>\n",
       "    </tr>\n",
       "  </tbody>\n",
       "</table>\n",
       "</div>"
      ],
      "text/plain": [
       "                Distrito  Frec Prostitucion\n",
       "0                  Total           0.115051\n",
       "1        1. Ciutat Vella           0.289474\n",
       "2          2. l'Eixample           0.119048\n",
       "3           3. Extramurs           0.083969\n",
       "4            4. Campanar           0.093220\n",
       "5           5. la Saïdia           0.039062\n",
       "6     6. el Pla del Real           0.247863\n",
       "7         7. l'Olivereta           0.084615\n",
       "8             8. Patraix           0.397059\n",
       "9               9. Jesús           0.060150\n",
       "10   10. Quatre Carreres           0.095238\n",
       "11  11. Poblats Marítims           0.126866\n",
       "12    12. Camins al Grau           0.057143\n",
       "13           13. Algirós           0.127119\n",
       "14        14. Benimaclet           0.008772\n",
       "15          15. Rascanya           0.090909\n",
       "16         16. Benicalap           0.023438\n",
       "17   17. Pobles del Nord           0.182796\n",
       "18  18. Pobles de l'Oest           0.028846"
      ]
     },
     "execution_count": 18,
     "metadata": {},
     "output_type": "execute_result"
    }
   ],
   "source": [
    "df_prostis = pd.read_excel('docs_Carlos/Distritos23.xlsx', sheet_name=' P.15.4', header=8)\n",
    "df_prostis.rename(columns={'Unnamed: 0':'Distrito'}, inplace=True)\n",
    "df_prostis['Frec Prostitucion'] = df_prostis.iloc[:, 1] + df_prostis.iloc[:, 2]\n",
    "df_prostis = df_prostis.drop(df_prostis.columns[1:7], axis=1)\n",
    "\n",
    "df_prostis['Frec Prostitucion'] = df_prostis['Frec Prostitucion']/100\n",
    "df_prostis.head(19)"
   ]
  },
  {
   "cell_type": "code",
   "execution_count": 19,
   "metadata": {},
   "outputs": [
    {
     "data": {
      "text/html": [
       "<div>\n",
       "<style scoped>\n",
       "    .dataframe tbody tr th:only-of-type {\n",
       "        vertical-align: middle;\n",
       "    }\n",
       "\n",
       "    .dataframe tbody tr th {\n",
       "        vertical-align: top;\n",
       "    }\n",
       "\n",
       "    .dataframe thead th {\n",
       "        text-align: right;\n",
       "    }\n",
       "</style>\n",
       "<table border=\"1\" class=\"dataframe\">\n",
       "  <thead>\n",
       "    <tr style=\"text-align: right;\">\n",
       "      <th></th>\n",
       "      <th>Distrito</th>\n",
       "      <th>Frec Peleas Jov</th>\n",
       "    </tr>\n",
       "  </thead>\n",
       "  <tbody>\n",
       "    <tr>\n",
       "      <th>0</th>\n",
       "      <td>Total</td>\n",
       "      <td>0.503282</td>\n",
       "    </tr>\n",
       "    <tr>\n",
       "      <th>1</th>\n",
       "      <td>1. Ciutat Vella</td>\n",
       "      <td>0.508772</td>\n",
       "    </tr>\n",
       "    <tr>\n",
       "      <th>2</th>\n",
       "      <td>2. l'Eixample</td>\n",
       "      <td>0.515873</td>\n",
       "    </tr>\n",
       "    <tr>\n",
       "      <th>3</th>\n",
       "      <td>3. Extramurs</td>\n",
       "      <td>0.328244</td>\n",
       "    </tr>\n",
       "    <tr>\n",
       "      <th>4</th>\n",
       "      <td>4. Campanar</td>\n",
       "      <td>0.355932</td>\n",
       "    </tr>\n",
       "    <tr>\n",
       "      <th>5</th>\n",
       "      <td>5. la Saïdia</td>\n",
       "      <td>0.695312</td>\n",
       "    </tr>\n",
       "    <tr>\n",
       "      <th>6</th>\n",
       "      <td>6. el Pla del Real</td>\n",
       "      <td>0.786325</td>\n",
       "    </tr>\n",
       "    <tr>\n",
       "      <th>7</th>\n",
       "      <td>7. l'Olivereta</td>\n",
       "      <td>0.446154</td>\n",
       "    </tr>\n",
       "    <tr>\n",
       "      <th>8</th>\n",
       "      <td>8. Patraix</td>\n",
       "      <td>0.514706</td>\n",
       "    </tr>\n",
       "    <tr>\n",
       "      <th>9</th>\n",
       "      <td>9. Jesús</td>\n",
       "      <td>0.443609</td>\n",
       "    </tr>\n",
       "    <tr>\n",
       "      <th>10</th>\n",
       "      <td>10. Quatre Carreres</td>\n",
       "      <td>0.571429</td>\n",
       "    </tr>\n",
       "    <tr>\n",
       "      <th>11</th>\n",
       "      <td>11. Poblats Marítims</td>\n",
       "      <td>0.597015</td>\n",
       "    </tr>\n",
       "    <tr>\n",
       "      <th>12</th>\n",
       "      <td>12. Camins al Grau</td>\n",
       "      <td>0.435714</td>\n",
       "    </tr>\n",
       "    <tr>\n",
       "      <th>13</th>\n",
       "      <td>13. Algirós</td>\n",
       "      <td>0.542373</td>\n",
       "    </tr>\n",
       "    <tr>\n",
       "      <th>14</th>\n",
       "      <td>14. Benimaclet</td>\n",
       "      <td>0.324561</td>\n",
       "    </tr>\n",
       "    <tr>\n",
       "      <th>15</th>\n",
       "      <td>15. Rascanya</td>\n",
       "      <td>0.560606</td>\n",
       "    </tr>\n",
       "    <tr>\n",
       "      <th>16</th>\n",
       "      <td>16. Benicalap</td>\n",
       "      <td>0.539062</td>\n",
       "    </tr>\n",
       "    <tr>\n",
       "      <th>17</th>\n",
       "      <td>17. Pobles del Nord</td>\n",
       "      <td>0.322581</td>\n",
       "    </tr>\n",
       "    <tr>\n",
       "      <th>18</th>\n",
       "      <td>18. Pobles de l'Oest</td>\n",
       "      <td>0.490385</td>\n",
       "    </tr>\n",
       "  </tbody>\n",
       "</table>\n",
       "</div>"
      ],
      "text/plain": [
       "                Distrito  Frec Peleas Jov\n",
       "0                  Total         0.503282\n",
       "1        1. Ciutat Vella         0.508772\n",
       "2          2. l'Eixample         0.515873\n",
       "3           3. Extramurs         0.328244\n",
       "4            4. Campanar         0.355932\n",
       "5           5. la Saïdia         0.695312\n",
       "6     6. el Pla del Real         0.786325\n",
       "7         7. l'Olivereta         0.446154\n",
       "8             8. Patraix         0.514706\n",
       "9               9. Jesús         0.443609\n",
       "10   10. Quatre Carreres         0.571429\n",
       "11  11. Poblats Marítims         0.597015\n",
       "12    12. Camins al Grau         0.435714\n",
       "13           13. Algirós         0.542373\n",
       "14        14. Benimaclet         0.324561\n",
       "15          15. Rascanya         0.560606\n",
       "16         16. Benicalap         0.539062\n",
       "17   17. Pobles del Nord         0.322581\n",
       "18  18. Pobles de l'Oest         0.490385"
      ]
     },
     "execution_count": 19,
     "metadata": {},
     "output_type": "execute_result"
    }
   ],
   "source": [
    "df_peleasjovenes = pd.read_excel('docs_Carlos/Distritos23.xlsx', sheet_name=' P.15.5', header=8)\n",
    "df_peleasjovenes.rename(columns={'Unnamed: 0':'Distrito'}, inplace=True)\n",
    "df_peleasjovenes['Frec Peleas Jov'] = df_peleasjovenes.iloc[:, 1] + df_peleasjovenes.iloc[:, 2]\n",
    "df_peleasjovenes = df_peleasjovenes.drop(df_peleasjovenes.columns[1:6], axis=1)\n",
    "df_peleasjovenes['Frec Peleas Jov'] = df_peleasjovenes['Frec Peleas Jov']/100\n",
    "df_peleasjovenes.head(19)"
   ]
  },
  {
   "cell_type": "code",
   "execution_count": 20,
   "metadata": {},
   "outputs": [
    {
     "data": {
      "text/html": [
       "<div>\n",
       "<style scoped>\n",
       "    .dataframe tbody tr th:only-of-type {\n",
       "        vertical-align: middle;\n",
       "    }\n",
       "\n",
       "    .dataframe tbody tr th {\n",
       "        vertical-align: top;\n",
       "    }\n",
       "\n",
       "    .dataframe thead th {\n",
       "        text-align: right;\n",
       "    }\n",
       "</style>\n",
       "<table border=\"1\" class=\"dataframe\">\n",
       "  <thead>\n",
       "    <tr style=\"text-align: right;\">\n",
       "      <th></th>\n",
       "      <th>Distrito</th>\n",
       "      <th>Frec Pres Drogas</th>\n",
       "    </tr>\n",
       "  </thead>\n",
       "  <tbody>\n",
       "    <tr>\n",
       "      <th>0</th>\n",
       "      <td>Total</td>\n",
       "      <td>0.634716</td>\n",
       "    </tr>\n",
       "    <tr>\n",
       "      <th>1</th>\n",
       "      <td>1. Ciutat Vella</td>\n",
       "      <td>0.508772</td>\n",
       "    </tr>\n",
       "    <tr>\n",
       "      <th>2</th>\n",
       "      <td>2. l'Eixample</td>\n",
       "      <td>0.619048</td>\n",
       "    </tr>\n",
       "    <tr>\n",
       "      <th>3</th>\n",
       "      <td>3. Extramurs</td>\n",
       "      <td>0.419847</td>\n",
       "    </tr>\n",
       "    <tr>\n",
       "      <th>4</th>\n",
       "      <td>4. Campanar</td>\n",
       "      <td>0.635593</td>\n",
       "    </tr>\n",
       "    <tr>\n",
       "      <th>5</th>\n",
       "      <td>5. la Saïdia</td>\n",
       "      <td>0.632812</td>\n",
       "    </tr>\n",
       "    <tr>\n",
       "      <th>6</th>\n",
       "      <td>6. el Pla del Real</td>\n",
       "      <td>0.675214</td>\n",
       "    </tr>\n",
       "    <tr>\n",
       "      <th>7</th>\n",
       "      <td>7. l'Olivereta</td>\n",
       "      <td>0.692308</td>\n",
       "    </tr>\n",
       "    <tr>\n",
       "      <th>8</th>\n",
       "      <td>8. Patraix</td>\n",
       "      <td>0.742647</td>\n",
       "    </tr>\n",
       "    <tr>\n",
       "      <th>9</th>\n",
       "      <td>9. Jesús</td>\n",
       "      <td>0.571429</td>\n",
       "    </tr>\n",
       "    <tr>\n",
       "      <th>10</th>\n",
       "      <td>10. Quatre Carreres</td>\n",
       "      <td>0.734694</td>\n",
       "    </tr>\n",
       "    <tr>\n",
       "      <th>11</th>\n",
       "      <td>11. Poblats Marítims</td>\n",
       "      <td>0.746269</td>\n",
       "    </tr>\n",
       "    <tr>\n",
       "      <th>12</th>\n",
       "      <td>12. Camins al Grau</td>\n",
       "      <td>0.664286</td>\n",
       "    </tr>\n",
       "    <tr>\n",
       "      <th>13</th>\n",
       "      <td>13. Algirós</td>\n",
       "      <td>0.533898</td>\n",
       "    </tr>\n",
       "    <tr>\n",
       "      <th>14</th>\n",
       "      <td>14. Benimaclet</td>\n",
       "      <td>0.780702</td>\n",
       "    </tr>\n",
       "    <tr>\n",
       "      <th>15</th>\n",
       "      <td>15. Rascanya</td>\n",
       "      <td>0.666667</td>\n",
       "    </tr>\n",
       "    <tr>\n",
       "      <th>16</th>\n",
       "      <td>16. Benicalap</td>\n",
       "      <td>0.562500</td>\n",
       "    </tr>\n",
       "    <tr>\n",
       "      <th>17</th>\n",
       "      <td>17. Pobles del Nord</td>\n",
       "      <td>0.440860</td>\n",
       "    </tr>\n",
       "    <tr>\n",
       "      <th>18</th>\n",
       "      <td>18. Pobles de l'Oest</td>\n",
       "      <td>0.673077</td>\n",
       "    </tr>\n",
       "  </tbody>\n",
       "</table>\n",
       "</div>"
      ],
      "text/plain": [
       "                Distrito  Frec Pres Drogas\n",
       "0                  Total          0.634716\n",
       "1        1. Ciutat Vella          0.508772\n",
       "2          2. l'Eixample          0.619048\n",
       "3           3. Extramurs          0.419847\n",
       "4            4. Campanar          0.635593\n",
       "5           5. la Saïdia          0.632812\n",
       "6     6. el Pla del Real          0.675214\n",
       "7         7. l'Olivereta          0.692308\n",
       "8             8. Patraix          0.742647\n",
       "9               9. Jesús          0.571429\n",
       "10   10. Quatre Carreres          0.734694\n",
       "11  11. Poblats Marítims          0.746269\n",
       "12    12. Camins al Grau          0.664286\n",
       "13           13. Algirós          0.533898\n",
       "14        14. Benimaclet          0.780702\n",
       "15          15. Rascanya          0.666667\n",
       "16         16. Benicalap          0.562500\n",
       "17   17. Pobles del Nord          0.440860\n",
       "18  18. Pobles de l'Oest          0.673077"
      ]
     },
     "execution_count": 20,
     "metadata": {},
     "output_type": "execute_result"
    }
   ],
   "source": [
    "df_drogas = pd.read_excel('docs_Carlos/Distritos23.xlsx', sheet_name=' P.15.6', header=8)\n",
    "df_drogas.rename(columns={'Unnamed: 0':'Distrito'}, inplace=True)\n",
    "df_drogas['Frec Pres Drogas'] = df_drogas.iloc[:, 1] + df_drogas.iloc[:, 2]\n",
    "df_drogas = df_drogas.drop(df_drogas.columns[1:6], axis=1)\n",
    "df_drogas['Frec Pres Drogas'] = df_drogas['Frec Pres Drogas']/100\n",
    "df_drogas.head(19)"
   ]
  },
  {
   "cell_type": "code",
   "execution_count": 26,
   "metadata": {},
   "outputs": [
    {
     "data": {
      "text/html": [
       "<div>\n",
       "<style scoped>\n",
       "    .dataframe tbody tr th:only-of-type {\n",
       "        vertical-align: middle;\n",
       "    }\n",
       "\n",
       "    .dataframe tbody tr th {\n",
       "        vertical-align: top;\n",
       "    }\n",
       "\n",
       "    .dataframe thead th {\n",
       "        text-align: right;\n",
       "    }\n",
       "</style>\n",
       "<table border=\"1\" class=\"dataframe\">\n",
       "  <thead>\n",
       "    <tr style=\"text-align: right;\">\n",
       "      <th></th>\n",
       "      <th>Distrito</th>\n",
       "      <th>Seguridad</th>\n",
       "      <th>Discriminacion</th>\n",
       "      <th>Convivencia</th>\n",
       "      <th>Extranjeros</th>\n",
       "      <th>Política</th>\n",
       "      <th>Empleados</th>\n",
       "      <th>Estudiantes</th>\n",
       "      <th>Desempleados</th>\n",
       "      <th>Ingresos Mes</th>\n",
       "      <th>AntRes_5y</th>\n",
       "      <th>Satisfaccion</th>\n",
       "      <th>Precariedad Econo</th>\n",
       "      <th>Prob Vivienda</th>\n",
       "      <th>Limpieza</th>\n",
       "      <th>Frec Acc Coche</th>\n",
       "      <th>Frec Prostitucion</th>\n",
       "      <th>Frec Peleas Jov</th>\n",
       "      <th>Frec Pres Drogas</th>\n",
       "    </tr>\n",
       "  </thead>\n",
       "  <tbody>\n",
       "    <tr>\n",
       "      <th>0</th>\n",
       "      <td>Total</td>\n",
       "      <td>0.675763</td>\n",
       "      <td>0.135579</td>\n",
       "      <td>0.675763</td>\n",
       "      <td>0.183847</td>\n",
       "      <td>0.534791</td>\n",
       "      <td>0.506947</td>\n",
       "      <td>0.081897</td>\n",
       "      <td>0.077091</td>\n",
       "      <td>1875.070412</td>\n",
       "      <td>0.765354</td>\n",
       "      <td>0.821059</td>\n",
       "      <td>0.166817</td>\n",
       "      <td>0.070282</td>\n",
       "      <td>0.573540</td>\n",
       "      <td>0.129150</td>\n",
       "      <td>0.115051</td>\n",
       "      <td>0.503282</td>\n",
       "      <td>0.634716</td>\n",
       "    </tr>\n",
       "    <tr>\n",
       "      <th>1</th>\n",
       "      <td>1. Ciutat Vella</td>\n",
       "      <td>0.715789</td>\n",
       "      <td>0.149123</td>\n",
       "      <td>0.715789</td>\n",
       "      <td>0.140351</td>\n",
       "      <td>0.593814</td>\n",
       "      <td>0.570175</td>\n",
       "      <td>0.166667</td>\n",
       "      <td>0.052632</td>\n",
       "      <td>2741.228070</td>\n",
       "      <td>0.684211</td>\n",
       "      <td>0.791228</td>\n",
       "      <td>0.149123</td>\n",
       "      <td>0.096491</td>\n",
       "      <td>0.531579</td>\n",
       "      <td>0.157895</td>\n",
       "      <td>0.289474</td>\n",
       "      <td>0.508772</td>\n",
       "      <td>0.508772</td>\n",
       "    </tr>\n",
       "    <tr>\n",
       "      <th>2</th>\n",
       "      <td>2. l'Eixample</td>\n",
       "      <td>0.741270</td>\n",
       "      <td>0.150794</td>\n",
       "      <td>0.741270</td>\n",
       "      <td>0.055556</td>\n",
       "      <td>0.638938</td>\n",
       "      <td>0.507937</td>\n",
       "      <td>0.087302</td>\n",
       "      <td>0.055556</td>\n",
       "      <td>1908.730159</td>\n",
       "      <td>0.857143</td>\n",
       "      <td>0.796032</td>\n",
       "      <td>0.119048</td>\n",
       "      <td>0.015873</td>\n",
       "      <td>0.622222</td>\n",
       "      <td>0.071429</td>\n",
       "      <td>0.119048</td>\n",
       "      <td>0.515873</td>\n",
       "      <td>0.619048</td>\n",
       "    </tr>\n",
       "    <tr>\n",
       "      <th>3</th>\n",
       "      <td>3. Extramurs</td>\n",
       "      <td>0.754198</td>\n",
       "      <td>0.152672</td>\n",
       "      <td>0.754198</td>\n",
       "      <td>0.152672</td>\n",
       "      <td>0.562037</td>\n",
       "      <td>0.534351</td>\n",
       "      <td>0.061069</td>\n",
       "      <td>0.053435</td>\n",
       "      <td>2022.900763</td>\n",
       "      <td>0.778626</td>\n",
       "      <td>0.835115</td>\n",
       "      <td>0.091603</td>\n",
       "      <td>0.038168</td>\n",
       "      <td>0.586260</td>\n",
       "      <td>0.175573</td>\n",
       "      <td>0.083969</td>\n",
       "      <td>0.328244</td>\n",
       "      <td>0.419847</td>\n",
       "    </tr>\n",
       "    <tr>\n",
       "      <th>4</th>\n",
       "      <td>4. Campanar</td>\n",
       "      <td>0.699153</td>\n",
       "      <td>0.152542</td>\n",
       "      <td>0.699153</td>\n",
       "      <td>0.177966</td>\n",
       "      <td>0.533708</td>\n",
       "      <td>0.516949</td>\n",
       "      <td>0.067797</td>\n",
       "      <td>0.059322</td>\n",
       "      <td>993.644068</td>\n",
       "      <td>0.694915</td>\n",
       "      <td>0.845763</td>\n",
       "      <td>0.161017</td>\n",
       "      <td>0.118644</td>\n",
       "      <td>0.599153</td>\n",
       "      <td>0.118644</td>\n",
       "      <td>0.093220</td>\n",
       "      <td>0.355932</td>\n",
       "      <td>0.635593</td>\n",
       "    </tr>\n",
       "    <tr>\n",
       "      <th>5</th>\n",
       "      <td>5. la Saïdia</td>\n",
       "      <td>0.535156</td>\n",
       "      <td>0.109375</td>\n",
       "      <td>0.535156</td>\n",
       "      <td>0.242188</td>\n",
       "      <td>0.516071</td>\n",
       "      <td>0.492188</td>\n",
       "      <td>0.070312</td>\n",
       "      <td>0.078125</td>\n",
       "      <td>0.000000</td>\n",
       "      <td>0.804688</td>\n",
       "      <td>0.896094</td>\n",
       "      <td>0.265625</td>\n",
       "      <td>0.031250</td>\n",
       "      <td>0.382031</td>\n",
       "      <td>0.242188</td>\n",
       "      <td>0.039062</td>\n",
       "      <td>0.695312</td>\n",
       "      <td>0.632812</td>\n",
       "    </tr>\n",
       "    <tr>\n",
       "      <th>6</th>\n",
       "      <td>6. el Pla del Real</td>\n",
       "      <td>0.745299</td>\n",
       "      <td>0.136752</td>\n",
       "      <td>0.745299</td>\n",
       "      <td>0.000000</td>\n",
       "      <td>0.724138</td>\n",
       "      <td>0.487179</td>\n",
       "      <td>0.273504</td>\n",
       "      <td>0.034188</td>\n",
       "      <td>2525.641026</td>\n",
       "      <td>0.649573</td>\n",
       "      <td>0.747863</td>\n",
       "      <td>0.085470</td>\n",
       "      <td>0.000000</td>\n",
       "      <td>0.644444</td>\n",
       "      <td>0.282051</td>\n",
       "      <td>0.247863</td>\n",
       "      <td>0.786325</td>\n",
       "      <td>0.675214</td>\n",
       "    </tr>\n",
       "    <tr>\n",
       "      <th>7</th>\n",
       "      <td>7. l'Olivereta</td>\n",
       "      <td>0.668462</td>\n",
       "      <td>0.215385</td>\n",
       "      <td>0.668462</td>\n",
       "      <td>0.230769</td>\n",
       "      <td>0.476106</td>\n",
       "      <td>0.507692</td>\n",
       "      <td>0.046154</td>\n",
       "      <td>0.092308</td>\n",
       "      <td>2275.000000</td>\n",
       "      <td>0.776923</td>\n",
       "      <td>0.845385</td>\n",
       "      <td>0.184615</td>\n",
       "      <td>0.092308</td>\n",
       "      <td>0.636923</td>\n",
       "      <td>0.069231</td>\n",
       "      <td>0.084615</td>\n",
       "      <td>0.446154</td>\n",
       "      <td>0.692308</td>\n",
       "    </tr>\n",
       "    <tr>\n",
       "      <th>8</th>\n",
       "      <td>8. Patraix</td>\n",
       "      <td>0.734559</td>\n",
       "      <td>0.139706</td>\n",
       "      <td>0.734559</td>\n",
       "      <td>0.308824</td>\n",
       "      <td>0.521774</td>\n",
       "      <td>0.470588</td>\n",
       "      <td>0.051471</td>\n",
       "      <td>0.095588</td>\n",
       "      <td>3200.367647</td>\n",
       "      <td>0.676471</td>\n",
       "      <td>0.757353</td>\n",
       "      <td>0.117647</td>\n",
       "      <td>0.095588</td>\n",
       "      <td>0.503676</td>\n",
       "      <td>0.088235</td>\n",
       "      <td>0.397059</td>\n",
       "      <td>0.514706</td>\n",
       "      <td>0.742647</td>\n",
       "    </tr>\n",
       "    <tr>\n",
       "      <th>9</th>\n",
       "      <td>9. Jesús</td>\n",
       "      <td>0.672932</td>\n",
       "      <td>0.067669</td>\n",
       "      <td>0.672932</td>\n",
       "      <td>0.218045</td>\n",
       "      <td>0.500000</td>\n",
       "      <td>0.481203</td>\n",
       "      <td>0.067669</td>\n",
       "      <td>0.090226</td>\n",
       "      <td>1979.323308</td>\n",
       "      <td>0.812030</td>\n",
       "      <td>0.841353</td>\n",
       "      <td>0.180451</td>\n",
       "      <td>0.075188</td>\n",
       "      <td>0.642105</td>\n",
       "      <td>0.120301</td>\n",
       "      <td>0.060150</td>\n",
       "      <td>0.443609</td>\n",
       "      <td>0.571429</td>\n",
       "    </tr>\n",
       "    <tr>\n",
       "      <th>10</th>\n",
       "      <td>10. Quatre Carreres</td>\n",
       "      <td>0.700680</td>\n",
       "      <td>0.163265</td>\n",
       "      <td>0.700680</td>\n",
       "      <td>0.190476</td>\n",
       "      <td>0.462069</td>\n",
       "      <td>0.517007</td>\n",
       "      <td>0.068027</td>\n",
       "      <td>0.102041</td>\n",
       "      <td>3093.537415</td>\n",
       "      <td>0.802721</td>\n",
       "      <td>0.816327</td>\n",
       "      <td>0.204082</td>\n",
       "      <td>0.102041</td>\n",
       "      <td>0.491837</td>\n",
       "      <td>0.095238</td>\n",
       "      <td>0.095238</td>\n",
       "      <td>0.571429</td>\n",
       "      <td>0.734694</td>\n",
       "    </tr>\n",
       "    <tr>\n",
       "      <th>11</th>\n",
       "      <td>11. Poblats Marítims</td>\n",
       "      <td>0.566418</td>\n",
       "      <td>0.141791</td>\n",
       "      <td>0.566418</td>\n",
       "      <td>0.186567</td>\n",
       "      <td>0.574000</td>\n",
       "      <td>0.470149</td>\n",
       "      <td>0.082090</td>\n",
       "      <td>0.104478</td>\n",
       "      <td>309.701493</td>\n",
       "      <td>0.888060</td>\n",
       "      <td>0.808209</td>\n",
       "      <td>0.171642</td>\n",
       "      <td>0.059701</td>\n",
       "      <td>0.608955</td>\n",
       "      <td>0.052239</td>\n",
       "      <td>0.126866</td>\n",
       "      <td>0.597015</td>\n",
       "      <td>0.746269</td>\n",
       "    </tr>\n",
       "    <tr>\n",
       "      <th>12</th>\n",
       "      <td>12. Camins al Grau</td>\n",
       "      <td>0.671429</td>\n",
       "      <td>0.114286</td>\n",
       "      <td>0.671429</td>\n",
       "      <td>0.178571</td>\n",
       "      <td>0.440179</td>\n",
       "      <td>0.485714</td>\n",
       "      <td>0.057143</td>\n",
       "      <td>0.064286</td>\n",
       "      <td>1450.000000</td>\n",
       "      <td>0.757143</td>\n",
       "      <td>0.844286</td>\n",
       "      <td>0.200000</td>\n",
       "      <td>0.107143</td>\n",
       "      <td>0.602143</td>\n",
       "      <td>0.157143</td>\n",
       "      <td>0.057143</td>\n",
       "      <td>0.435714</td>\n",
       "      <td>0.664286</td>\n",
       "    </tr>\n",
       "    <tr>\n",
       "      <th>13</th>\n",
       "      <td>13. Algirós</td>\n",
       "      <td>0.681356</td>\n",
       "      <td>0.101695</td>\n",
       "      <td>0.681356</td>\n",
       "      <td>0.059322</td>\n",
       "      <td>0.604348</td>\n",
       "      <td>0.508475</td>\n",
       "      <td>0.254237</td>\n",
       "      <td>0.067797</td>\n",
       "      <td>2277.542373</td>\n",
       "      <td>0.644068</td>\n",
       "      <td>0.785593</td>\n",
       "      <td>0.161017</td>\n",
       "      <td>0.016949</td>\n",
       "      <td>0.588983</td>\n",
       "      <td>0.245763</td>\n",
       "      <td>0.127119</td>\n",
       "      <td>0.542373</td>\n",
       "      <td>0.533898</td>\n",
       "    </tr>\n",
       "    <tr>\n",
       "      <th>14</th>\n",
       "      <td>14. Benimaclet</td>\n",
       "      <td>0.726316</td>\n",
       "      <td>0.105263</td>\n",
       "      <td>0.726316</td>\n",
       "      <td>0.140351</td>\n",
       "      <td>0.443396</td>\n",
       "      <td>0.517544</td>\n",
       "      <td>0.070175</td>\n",
       "      <td>0.061404</td>\n",
       "      <td>1513.157895</td>\n",
       "      <td>0.692982</td>\n",
       "      <td>0.850000</td>\n",
       "      <td>0.105263</td>\n",
       "      <td>0.149123</td>\n",
       "      <td>0.652632</td>\n",
       "      <td>0.035088</td>\n",
       "      <td>0.008772</td>\n",
       "      <td>0.324561</td>\n",
       "      <td>0.780702</td>\n",
       "    </tr>\n",
       "    <tr>\n",
       "      <th>15</th>\n",
       "      <td>15. Rascanya</td>\n",
       "      <td>0.648092</td>\n",
       "      <td>0.030303</td>\n",
       "      <td>0.648092</td>\n",
       "      <td>0.280303</td>\n",
       "      <td>0.605376</td>\n",
       "      <td>0.560606</td>\n",
       "      <td>0.045455</td>\n",
       "      <td>0.083333</td>\n",
       "      <td>3842.803030</td>\n",
       "      <td>0.750000</td>\n",
       "      <td>0.710769</td>\n",
       "      <td>0.015152</td>\n",
       "      <td>0.060606</td>\n",
       "      <td>0.620455</td>\n",
       "      <td>0.075758</td>\n",
       "      <td>0.090909</td>\n",
       "      <td>0.560606</td>\n",
       "      <td>0.666667</td>\n",
       "    </tr>\n",
       "    <tr>\n",
       "      <th>16</th>\n",
       "      <td>16. Benicalap</td>\n",
       "      <td>0.585938</td>\n",
       "      <td>0.125000</td>\n",
       "      <td>0.585938</td>\n",
       "      <td>0.234375</td>\n",
       "      <td>0.493103</td>\n",
       "      <td>0.523438</td>\n",
       "      <td>0.031250</td>\n",
       "      <td>0.078125</td>\n",
       "      <td>238.281250</td>\n",
       "      <td>0.796875</td>\n",
       "      <td>0.878906</td>\n",
       "      <td>0.351562</td>\n",
       "      <td>0.023438</td>\n",
       "      <td>0.410156</td>\n",
       "      <td>0.195312</td>\n",
       "      <td>0.023438</td>\n",
       "      <td>0.539062</td>\n",
       "      <td>0.562500</td>\n",
       "    </tr>\n",
       "    <tr>\n",
       "      <th>17</th>\n",
       "      <td>17. Pobles del Nord</td>\n",
       "      <td>0.750538</td>\n",
       "      <td>0.268817</td>\n",
       "      <td>0.750538</td>\n",
       "      <td>0.053763</td>\n",
       "      <td>0.475862</td>\n",
       "      <td>0.537634</td>\n",
       "      <td>0.032258</td>\n",
       "      <td>0.043011</td>\n",
       "      <td>2338.709677</td>\n",
       "      <td>0.795699</td>\n",
       "      <td>0.812903</td>\n",
       "      <td>0.053763</td>\n",
       "      <td>0.107527</td>\n",
       "      <td>0.587097</td>\n",
       "      <td>0.215054</td>\n",
       "      <td>0.182796</td>\n",
       "      <td>0.322581</td>\n",
       "      <td>0.440860</td>\n",
       "    </tr>\n",
       "    <tr>\n",
       "      <th>18</th>\n",
       "      <td>18. Pobles de l'Oest</td>\n",
       "      <td>0.655769</td>\n",
       "      <td>0.230769</td>\n",
       "      <td>0.655769</td>\n",
       "      <td>0.153846</td>\n",
       "      <td>0.463492</td>\n",
       "      <td>0.509615</td>\n",
       "      <td>0.076923</td>\n",
       "      <td>0.076923</td>\n",
       "      <td>0.000000</td>\n",
       "      <td>0.692308</td>\n",
       "      <td>0.881731</td>\n",
       "      <td>0.307692</td>\n",
       "      <td>0.057692</td>\n",
       "      <td>0.629808</td>\n",
       "      <td>0.182692</td>\n",
       "      <td>0.028846</td>\n",
       "      <td>0.490385</td>\n",
       "      <td>0.673077</td>\n",
       "    </tr>\n",
       "    <tr>\n",
       "      <th>19</th>\n",
       "      <td>19. Pobles del Sud</td>\n",
       "      <td>0.737168</td>\n",
       "      <td>0.274336</td>\n",
       "      <td>0.737168</td>\n",
       "      <td>0.141593</td>\n",
       "      <td>0.511494</td>\n",
       "      <td>0.486726</td>\n",
       "      <td>0.053097</td>\n",
       "      <td>0.088496</td>\n",
       "      <td>1057.522124</td>\n",
       "      <td>0.849558</td>\n",
       "      <td>0.943750</td>\n",
       "      <td>0.176991</td>\n",
       "      <td>0.097345</td>\n",
       "      <td>0.843363</td>\n",
       "      <td>0.008850</td>\n",
       "      <td>0.035398</td>\n",
       "      <td>0.300885</td>\n",
       "      <td>0.362832</td>\n",
       "    </tr>\n",
       "  </tbody>\n",
       "</table>\n",
       "</div>"
      ],
      "text/plain": [
       "                Distrito  Seguridad  Discriminacion  Convivencia  Extranjeros  \\\n",
       "0                  Total   0.675763        0.135579     0.675763     0.183847   \n",
       "1        1. Ciutat Vella   0.715789        0.149123     0.715789     0.140351   \n",
       "2          2. l'Eixample   0.741270        0.150794     0.741270     0.055556   \n",
       "3           3. Extramurs   0.754198        0.152672     0.754198     0.152672   \n",
       "4            4. Campanar   0.699153        0.152542     0.699153     0.177966   \n",
       "5           5. la Saïdia   0.535156        0.109375     0.535156     0.242188   \n",
       "6     6. el Pla del Real   0.745299        0.136752     0.745299     0.000000   \n",
       "7         7. l'Olivereta   0.668462        0.215385     0.668462     0.230769   \n",
       "8             8. Patraix   0.734559        0.139706     0.734559     0.308824   \n",
       "9               9. Jesús   0.672932        0.067669     0.672932     0.218045   \n",
       "10   10. Quatre Carreres   0.700680        0.163265     0.700680     0.190476   \n",
       "11  11. Poblats Marítims   0.566418        0.141791     0.566418     0.186567   \n",
       "12    12. Camins al Grau   0.671429        0.114286     0.671429     0.178571   \n",
       "13           13. Algirós   0.681356        0.101695     0.681356     0.059322   \n",
       "14        14. Benimaclet   0.726316        0.105263     0.726316     0.140351   \n",
       "15          15. Rascanya   0.648092        0.030303     0.648092     0.280303   \n",
       "16         16. Benicalap   0.585938        0.125000     0.585938     0.234375   \n",
       "17   17. Pobles del Nord   0.750538        0.268817     0.750538     0.053763   \n",
       "18  18. Pobles de l'Oest   0.655769        0.230769     0.655769     0.153846   \n",
       "19    19. Pobles del Sud   0.737168        0.274336     0.737168     0.141593   \n",
       "\n",
       "    Política  Empleados  Estudiantes  Desempleados  Ingresos Mes  AntRes_5y  \\\n",
       "0   0.534791   0.506947     0.081897      0.077091   1875.070412   0.765354   \n",
       "1   0.593814   0.570175     0.166667      0.052632   2741.228070   0.684211   \n",
       "2   0.638938   0.507937     0.087302      0.055556   1908.730159   0.857143   \n",
       "3   0.562037   0.534351     0.061069      0.053435   2022.900763   0.778626   \n",
       "4   0.533708   0.516949     0.067797      0.059322    993.644068   0.694915   \n",
       "5   0.516071   0.492188     0.070312      0.078125      0.000000   0.804688   \n",
       "6   0.724138   0.487179     0.273504      0.034188   2525.641026   0.649573   \n",
       "7   0.476106   0.507692     0.046154      0.092308   2275.000000   0.776923   \n",
       "8   0.521774   0.470588     0.051471      0.095588   3200.367647   0.676471   \n",
       "9   0.500000   0.481203     0.067669      0.090226   1979.323308   0.812030   \n",
       "10  0.462069   0.517007     0.068027      0.102041   3093.537415   0.802721   \n",
       "11  0.574000   0.470149     0.082090      0.104478    309.701493   0.888060   \n",
       "12  0.440179   0.485714     0.057143      0.064286   1450.000000   0.757143   \n",
       "13  0.604348   0.508475     0.254237      0.067797   2277.542373   0.644068   \n",
       "14  0.443396   0.517544     0.070175      0.061404   1513.157895   0.692982   \n",
       "15  0.605376   0.560606     0.045455      0.083333   3842.803030   0.750000   \n",
       "16  0.493103   0.523438     0.031250      0.078125    238.281250   0.796875   \n",
       "17  0.475862   0.537634     0.032258      0.043011   2338.709677   0.795699   \n",
       "18  0.463492   0.509615     0.076923      0.076923      0.000000   0.692308   \n",
       "19  0.511494   0.486726     0.053097      0.088496   1057.522124   0.849558   \n",
       "\n",
       "    Satisfaccion  Precariedad Econo  Prob Vivienda  Limpieza  Frec Acc Coche  \\\n",
       "0       0.821059           0.166817       0.070282  0.573540        0.129150   \n",
       "1       0.791228           0.149123       0.096491  0.531579        0.157895   \n",
       "2       0.796032           0.119048       0.015873  0.622222        0.071429   \n",
       "3       0.835115           0.091603       0.038168  0.586260        0.175573   \n",
       "4       0.845763           0.161017       0.118644  0.599153        0.118644   \n",
       "5       0.896094           0.265625       0.031250  0.382031        0.242188   \n",
       "6       0.747863           0.085470       0.000000  0.644444        0.282051   \n",
       "7       0.845385           0.184615       0.092308  0.636923        0.069231   \n",
       "8       0.757353           0.117647       0.095588  0.503676        0.088235   \n",
       "9       0.841353           0.180451       0.075188  0.642105        0.120301   \n",
       "10      0.816327           0.204082       0.102041  0.491837        0.095238   \n",
       "11      0.808209           0.171642       0.059701  0.608955        0.052239   \n",
       "12      0.844286           0.200000       0.107143  0.602143        0.157143   \n",
       "13      0.785593           0.161017       0.016949  0.588983        0.245763   \n",
       "14      0.850000           0.105263       0.149123  0.652632        0.035088   \n",
       "15      0.710769           0.015152       0.060606  0.620455        0.075758   \n",
       "16      0.878906           0.351562       0.023438  0.410156        0.195312   \n",
       "17      0.812903           0.053763       0.107527  0.587097        0.215054   \n",
       "18      0.881731           0.307692       0.057692  0.629808        0.182692   \n",
       "19      0.943750           0.176991       0.097345  0.843363        0.008850   \n",
       "\n",
       "    Frec Prostitucion  Frec Peleas Jov  Frec Pres Drogas  \n",
       "0            0.115051         0.503282          0.634716  \n",
       "1            0.289474         0.508772          0.508772  \n",
       "2            0.119048         0.515873          0.619048  \n",
       "3            0.083969         0.328244          0.419847  \n",
       "4            0.093220         0.355932          0.635593  \n",
       "5            0.039062         0.695312          0.632812  \n",
       "6            0.247863         0.786325          0.675214  \n",
       "7            0.084615         0.446154          0.692308  \n",
       "8            0.397059         0.514706          0.742647  \n",
       "9            0.060150         0.443609          0.571429  \n",
       "10           0.095238         0.571429          0.734694  \n",
       "11           0.126866         0.597015          0.746269  \n",
       "12           0.057143         0.435714          0.664286  \n",
       "13           0.127119         0.542373          0.533898  \n",
       "14           0.008772         0.324561          0.780702  \n",
       "15           0.090909         0.560606          0.666667  \n",
       "16           0.023438         0.539062          0.562500  \n",
       "17           0.182796         0.322581          0.440860  \n",
       "18           0.028846         0.490385          0.673077  \n",
       "19           0.035398         0.300885          0.362832  "
      ]
     },
     "execution_count": 26,
     "metadata": {},
     "output_type": "execute_result"
    }
   ],
   "source": [
    "# Juntamos todos los dataframes en uno solo. Unimos por por la columna ´Distrito´\n",
    "\n",
    "df = pd.merge(df_seguridad, df_discrimin, on='Distrito')\n",
    "df = pd.merge(df, df_convivenc, on='Distrito')\n",
    "df = pd.merge(df, df_extranjer, on='Distrito')\n",
    "df = pd.merge(df, df_op_politi, on='Distrito')\n",
    "df = pd.merge(df, df_s_laboral, on='Distrito')\n",
    "df = pd.merge(df, df_ingresos, on='Distrito')\n",
    "df = pd.merge(df, df_permanencia, on='Distrito')\n",
    "df = pd.merge(df, df_satisfacc, on='Distrito')\n",
    "df = pd.merge(df, df_pr_situ_econo, on='Distrito')\n",
    "df = pd.merge(df, df_pr_acceso_casa, on='Distrito')\n",
    "df = pd.merge(df, df_recogida_basura, on='Distrito')\n",
    "df = pd.merge(df, df_trafico, on='Distrito')\n",
    "df = pd.merge(df, df_prostis, on='Distrito')\n",
    "df = pd.merge(df, df_peleasjovenes, on='Distrito')\n",
    "df = pd.merge(df, df_drogas, on='Distrito')\n",
    "\n",
    "df.head(20)"
   ]
  },
  {
   "cell_type": "code",
   "execution_count": 22,
   "metadata": {},
   "outputs": [],
   "source": [
    "# A df le hacemos una copia, le hacemos PCA y representamos las 3 primeros componentes\n",
    "\n",
    "from sklearn.decomposition import PCA\n",
    "from sklearn.preprocessing import StandardScaler\n",
    "\n",
    "df_copy = df.copy()\n",
    "# Eliminamos la columna Distrito\n",
    "df_copy = df_copy.drop('Distrito', axis=1)\n",
    "\n",
    "# Normalizamos los datos\n",
    "scaler = StandardScaler()\n",
    "scaler.fit(df_copy)\n",
    "df_scaled = scaler.transform(df_copy)\n",
    "\n",
    "\n",
    "\n",
    "# Aplicamos PCA\n",
    "pca = PCA(n_components=3)\n",
    "pca.fit(df_scaled)\n",
    "df_pca = pca.transform(df_scaled)\n",
    "\n"
   ]
  },
  {
   "cell_type": "code",
   "execution_count": 23,
   "metadata": {},
   "outputs": [
    {
     "data": {
      "application/vnd.plotly.v1+json": {
       "config": {
        "plotlyServerURL": "https://plot.ly"
       },
       "data": [
        {
         "hovertemplate": "x=%{x}<br>y=%{y}<br>z=%{z}<br>text=%{text}<extra></extra>",
         "legendgroup": "",
         "marker": {
          "color": "#636efa",
          "symbol": "circle"
         },
         "mode": "markers+text",
         "name": "",
         "scene": "scene",
         "showlegend": false,
         "text": [
          "Total",
          "1. Ciutat Vella",
          "2. l'Eixample",
          "3. Extramurs",
          "4. Campanar",
          "5. la Saïdia",
          "6. el Pla del Real",
          "7. l'Olivereta",
          "8. Patraix",
          "9. Jesús",
          "10. Quatre Carreres",
          "11. Poblats Marítims",
          "12. Camins al Grau",
          "13. Algirós",
          "14. Benimaclet",
          "15. Rascanya",
          "16. Benicalap",
          "17. Pobles del Nord",
          "18. Pobles de l'Oest",
          "19. Pobles del Sud"
         ],
         "type": "scatter3d",
         "x": [
          -0.2540268508948221,
          2.950780267220071,
          1.782669426763427,
          1.573448018368124,
          -0.06703229284474221,
          -3.6714997568324943,
          5.593220613244589,
          -1.538088649307973,
          1.022656128360809,
          -1.3179244909762142,
          -0.9539035208871809,
          -2.7458789189849,
          -1.2579158970136344,
          2.673362017961227,
          -0.1977633833372494,
          1.2199710218870568,
          -3.475514078160494,
          2.029324734577439,
          -1.9754891103597003,
          -1.3903952787833376
         ],
         "y": [
          -0.2631799341016514,
          -0.17492309399303002,
          0.22640353354283702,
          1.5426374231934046,
          1.2320228763998298,
          -3.818254343641279,
          -3.187520475096773,
          1.191709587915299,
          -0.17876206550263785,
          0.22925434507172374,
          0.17815565660124483,
          -1.7955814298553174,
          0.501624071691004,
          -2.2461334524653425,
          2.4399453442352983,
          -1.0704050182442688,
          -2.2170436986695505,
          2.943051735444269,
          -0.043510712667515244,
          4.510509650142455
         ],
         "z": [
          0.37399522891093745,
          0.11905862304844717,
          -0.6725645010624732,
          -1.2177143476231809,
          -0.12408876686586706,
          -1.3257048462671,
          -1.5853735123814738,
          0.9977759702849152,
          3.7614313092923983,
          0.6319941382540538,
          1.8018994741295145,
          0.837508085753997,
          0.02275966163997659,
          -1.4640597465618284,
          1.1177558493957518,
          3.577968670793969,
          -1.5144797423111034,
          -1.3643160979532323,
          -1.9967485729602652,
          -1.9770968775174373
         ]
        }
       ],
       "layout": {
        "height": 1000,
        "legend": {
         "tracegroupgap": 0
        },
        "margin": {
         "t": 60
        },
        "scene": {
         "domain": {
          "x": [
           0,
           1
          ],
          "y": [
           0,
           1
          ]
         },
         "xaxis": {
          "title": {
           "text": "x"
          }
         },
         "yaxis": {
          "title": {
           "text": "y"
          }
         },
         "zaxis": {
          "title": {
           "text": "z"
          }
         }
        },
        "template": {
         "data": {
          "bar": [
           {
            "error_x": {
             "color": "#2a3f5f"
            },
            "error_y": {
             "color": "#2a3f5f"
            },
            "marker": {
             "line": {
              "color": "#E5ECF6",
              "width": 0.5
             },
             "pattern": {
              "fillmode": "overlay",
              "size": 10,
              "solidity": 0.2
             }
            },
            "type": "bar"
           }
          ],
          "barpolar": [
           {
            "marker": {
             "line": {
              "color": "#E5ECF6",
              "width": 0.5
             },
             "pattern": {
              "fillmode": "overlay",
              "size": 10,
              "solidity": 0.2
             }
            },
            "type": "barpolar"
           }
          ],
          "carpet": [
           {
            "aaxis": {
             "endlinecolor": "#2a3f5f",
             "gridcolor": "white",
             "linecolor": "white",
             "minorgridcolor": "white",
             "startlinecolor": "#2a3f5f"
            },
            "baxis": {
             "endlinecolor": "#2a3f5f",
             "gridcolor": "white",
             "linecolor": "white",
             "minorgridcolor": "white",
             "startlinecolor": "#2a3f5f"
            },
            "type": "carpet"
           }
          ],
          "choropleth": [
           {
            "colorbar": {
             "outlinewidth": 0,
             "ticks": ""
            },
            "type": "choropleth"
           }
          ],
          "contour": [
           {
            "colorbar": {
             "outlinewidth": 0,
             "ticks": ""
            },
            "colorscale": [
             [
              0,
              "#0d0887"
             ],
             [
              0.1111111111111111,
              "#46039f"
             ],
             [
              0.2222222222222222,
              "#7201a8"
             ],
             [
              0.3333333333333333,
              "#9c179e"
             ],
             [
              0.4444444444444444,
              "#bd3786"
             ],
             [
              0.5555555555555556,
              "#d8576b"
             ],
             [
              0.6666666666666666,
              "#ed7953"
             ],
             [
              0.7777777777777778,
              "#fb9f3a"
             ],
             [
              0.8888888888888888,
              "#fdca26"
             ],
             [
              1,
              "#f0f921"
             ]
            ],
            "type": "contour"
           }
          ],
          "contourcarpet": [
           {
            "colorbar": {
             "outlinewidth": 0,
             "ticks": ""
            },
            "type": "contourcarpet"
           }
          ],
          "heatmap": [
           {
            "colorbar": {
             "outlinewidth": 0,
             "ticks": ""
            },
            "colorscale": [
             [
              0,
              "#0d0887"
             ],
             [
              0.1111111111111111,
              "#46039f"
             ],
             [
              0.2222222222222222,
              "#7201a8"
             ],
             [
              0.3333333333333333,
              "#9c179e"
             ],
             [
              0.4444444444444444,
              "#bd3786"
             ],
             [
              0.5555555555555556,
              "#d8576b"
             ],
             [
              0.6666666666666666,
              "#ed7953"
             ],
             [
              0.7777777777777778,
              "#fb9f3a"
             ],
             [
              0.8888888888888888,
              "#fdca26"
             ],
             [
              1,
              "#f0f921"
             ]
            ],
            "type": "heatmap"
           }
          ],
          "heatmapgl": [
           {
            "colorbar": {
             "outlinewidth": 0,
             "ticks": ""
            },
            "colorscale": [
             [
              0,
              "#0d0887"
             ],
             [
              0.1111111111111111,
              "#46039f"
             ],
             [
              0.2222222222222222,
              "#7201a8"
             ],
             [
              0.3333333333333333,
              "#9c179e"
             ],
             [
              0.4444444444444444,
              "#bd3786"
             ],
             [
              0.5555555555555556,
              "#d8576b"
             ],
             [
              0.6666666666666666,
              "#ed7953"
             ],
             [
              0.7777777777777778,
              "#fb9f3a"
             ],
             [
              0.8888888888888888,
              "#fdca26"
             ],
             [
              1,
              "#f0f921"
             ]
            ],
            "type": "heatmapgl"
           }
          ],
          "histogram": [
           {
            "marker": {
             "pattern": {
              "fillmode": "overlay",
              "size": 10,
              "solidity": 0.2
             }
            },
            "type": "histogram"
           }
          ],
          "histogram2d": [
           {
            "colorbar": {
             "outlinewidth": 0,
             "ticks": ""
            },
            "colorscale": [
             [
              0,
              "#0d0887"
             ],
             [
              0.1111111111111111,
              "#46039f"
             ],
             [
              0.2222222222222222,
              "#7201a8"
             ],
             [
              0.3333333333333333,
              "#9c179e"
             ],
             [
              0.4444444444444444,
              "#bd3786"
             ],
             [
              0.5555555555555556,
              "#d8576b"
             ],
             [
              0.6666666666666666,
              "#ed7953"
             ],
             [
              0.7777777777777778,
              "#fb9f3a"
             ],
             [
              0.8888888888888888,
              "#fdca26"
             ],
             [
              1,
              "#f0f921"
             ]
            ],
            "type": "histogram2d"
           }
          ],
          "histogram2dcontour": [
           {
            "colorbar": {
             "outlinewidth": 0,
             "ticks": ""
            },
            "colorscale": [
             [
              0,
              "#0d0887"
             ],
             [
              0.1111111111111111,
              "#46039f"
             ],
             [
              0.2222222222222222,
              "#7201a8"
             ],
             [
              0.3333333333333333,
              "#9c179e"
             ],
             [
              0.4444444444444444,
              "#bd3786"
             ],
             [
              0.5555555555555556,
              "#d8576b"
             ],
             [
              0.6666666666666666,
              "#ed7953"
             ],
             [
              0.7777777777777778,
              "#fb9f3a"
             ],
             [
              0.8888888888888888,
              "#fdca26"
             ],
             [
              1,
              "#f0f921"
             ]
            ],
            "type": "histogram2dcontour"
           }
          ],
          "mesh3d": [
           {
            "colorbar": {
             "outlinewidth": 0,
             "ticks": ""
            },
            "type": "mesh3d"
           }
          ],
          "parcoords": [
           {
            "line": {
             "colorbar": {
              "outlinewidth": 0,
              "ticks": ""
             }
            },
            "type": "parcoords"
           }
          ],
          "pie": [
           {
            "automargin": true,
            "type": "pie"
           }
          ],
          "scatter": [
           {
            "fillpattern": {
             "fillmode": "overlay",
             "size": 10,
             "solidity": 0.2
            },
            "type": "scatter"
           }
          ],
          "scatter3d": [
           {
            "line": {
             "colorbar": {
              "outlinewidth": 0,
              "ticks": ""
             }
            },
            "marker": {
             "colorbar": {
              "outlinewidth": 0,
              "ticks": ""
             }
            },
            "type": "scatter3d"
           }
          ],
          "scattercarpet": [
           {
            "marker": {
             "colorbar": {
              "outlinewidth": 0,
              "ticks": ""
             }
            },
            "type": "scattercarpet"
           }
          ],
          "scattergeo": [
           {
            "marker": {
             "colorbar": {
              "outlinewidth": 0,
              "ticks": ""
             }
            },
            "type": "scattergeo"
           }
          ],
          "scattergl": [
           {
            "marker": {
             "colorbar": {
              "outlinewidth": 0,
              "ticks": ""
             }
            },
            "type": "scattergl"
           }
          ],
          "scattermapbox": [
           {
            "marker": {
             "colorbar": {
              "outlinewidth": 0,
              "ticks": ""
             }
            },
            "type": "scattermapbox"
           }
          ],
          "scatterpolar": [
           {
            "marker": {
             "colorbar": {
              "outlinewidth": 0,
              "ticks": ""
             }
            },
            "type": "scatterpolar"
           }
          ],
          "scatterpolargl": [
           {
            "marker": {
             "colorbar": {
              "outlinewidth": 0,
              "ticks": ""
             }
            },
            "type": "scatterpolargl"
           }
          ],
          "scatterternary": [
           {
            "marker": {
             "colorbar": {
              "outlinewidth": 0,
              "ticks": ""
             }
            },
            "type": "scatterternary"
           }
          ],
          "surface": [
           {
            "colorbar": {
             "outlinewidth": 0,
             "ticks": ""
            },
            "colorscale": [
             [
              0,
              "#0d0887"
             ],
             [
              0.1111111111111111,
              "#46039f"
             ],
             [
              0.2222222222222222,
              "#7201a8"
             ],
             [
              0.3333333333333333,
              "#9c179e"
             ],
             [
              0.4444444444444444,
              "#bd3786"
             ],
             [
              0.5555555555555556,
              "#d8576b"
             ],
             [
              0.6666666666666666,
              "#ed7953"
             ],
             [
              0.7777777777777778,
              "#fb9f3a"
             ],
             [
              0.8888888888888888,
              "#fdca26"
             ],
             [
              1,
              "#f0f921"
             ]
            ],
            "type": "surface"
           }
          ],
          "table": [
           {
            "cells": {
             "fill": {
              "color": "#EBF0F8"
             },
             "line": {
              "color": "white"
             }
            },
            "header": {
             "fill": {
              "color": "#C8D4E3"
             },
             "line": {
              "color": "white"
             }
            },
            "type": "table"
           }
          ]
         },
         "layout": {
          "annotationdefaults": {
           "arrowcolor": "#2a3f5f",
           "arrowhead": 0,
           "arrowwidth": 1
          },
          "autotypenumbers": "strict",
          "coloraxis": {
           "colorbar": {
            "outlinewidth": 0,
            "ticks": ""
           }
          },
          "colorscale": {
           "diverging": [
            [
             0,
             "#8e0152"
            ],
            [
             0.1,
             "#c51b7d"
            ],
            [
             0.2,
             "#de77ae"
            ],
            [
             0.3,
             "#f1b6da"
            ],
            [
             0.4,
             "#fde0ef"
            ],
            [
             0.5,
             "#f7f7f7"
            ],
            [
             0.6,
             "#e6f5d0"
            ],
            [
             0.7,
             "#b8e186"
            ],
            [
             0.8,
             "#7fbc41"
            ],
            [
             0.9,
             "#4d9221"
            ],
            [
             1,
             "#276419"
            ]
           ],
           "sequential": [
            [
             0,
             "#0d0887"
            ],
            [
             0.1111111111111111,
             "#46039f"
            ],
            [
             0.2222222222222222,
             "#7201a8"
            ],
            [
             0.3333333333333333,
             "#9c179e"
            ],
            [
             0.4444444444444444,
             "#bd3786"
            ],
            [
             0.5555555555555556,
             "#d8576b"
            ],
            [
             0.6666666666666666,
             "#ed7953"
            ],
            [
             0.7777777777777778,
             "#fb9f3a"
            ],
            [
             0.8888888888888888,
             "#fdca26"
            ],
            [
             1,
             "#f0f921"
            ]
           ],
           "sequentialminus": [
            [
             0,
             "#0d0887"
            ],
            [
             0.1111111111111111,
             "#46039f"
            ],
            [
             0.2222222222222222,
             "#7201a8"
            ],
            [
             0.3333333333333333,
             "#9c179e"
            ],
            [
             0.4444444444444444,
             "#bd3786"
            ],
            [
             0.5555555555555556,
             "#d8576b"
            ],
            [
             0.6666666666666666,
             "#ed7953"
            ],
            [
             0.7777777777777778,
             "#fb9f3a"
            ],
            [
             0.8888888888888888,
             "#fdca26"
            ],
            [
             1,
             "#f0f921"
            ]
           ]
          },
          "colorway": [
           "#636efa",
           "#EF553B",
           "#00cc96",
           "#ab63fa",
           "#FFA15A",
           "#19d3f3",
           "#FF6692",
           "#B6E880",
           "#FF97FF",
           "#FECB52"
          ],
          "font": {
           "color": "#2a3f5f"
          },
          "geo": {
           "bgcolor": "white",
           "lakecolor": "white",
           "landcolor": "#E5ECF6",
           "showlakes": true,
           "showland": true,
           "subunitcolor": "white"
          },
          "hoverlabel": {
           "align": "left"
          },
          "hovermode": "closest",
          "mapbox": {
           "style": "light"
          },
          "paper_bgcolor": "white",
          "plot_bgcolor": "#E5ECF6",
          "polar": {
           "angularaxis": {
            "gridcolor": "white",
            "linecolor": "white",
            "ticks": ""
           },
           "bgcolor": "#E5ECF6",
           "radialaxis": {
            "gridcolor": "white",
            "linecolor": "white",
            "ticks": ""
           }
          },
          "scene": {
           "xaxis": {
            "backgroundcolor": "#E5ECF6",
            "gridcolor": "white",
            "gridwidth": 2,
            "linecolor": "white",
            "showbackground": true,
            "ticks": "",
            "zerolinecolor": "white"
           },
           "yaxis": {
            "backgroundcolor": "#E5ECF6",
            "gridcolor": "white",
            "gridwidth": 2,
            "linecolor": "white",
            "showbackground": true,
            "ticks": "",
            "zerolinecolor": "white"
           },
           "zaxis": {
            "backgroundcolor": "#E5ECF6",
            "gridcolor": "white",
            "gridwidth": 2,
            "linecolor": "white",
            "showbackground": true,
            "ticks": "",
            "zerolinecolor": "white"
           }
          },
          "shapedefaults": {
           "line": {
            "color": "#2a3f5f"
           }
          },
          "ternary": {
           "aaxis": {
            "gridcolor": "white",
            "linecolor": "white",
            "ticks": ""
           },
           "baxis": {
            "gridcolor": "white",
            "linecolor": "white",
            "ticks": ""
           },
           "bgcolor": "#E5ECF6",
           "caxis": {
            "gridcolor": "white",
            "linecolor": "white",
            "ticks": ""
           }
          },
          "title": {
           "x": 0.05
          },
          "xaxis": {
           "automargin": true,
           "gridcolor": "white",
           "linecolor": "white",
           "ticks": "",
           "title": {
            "standoff": 15
           },
           "zerolinecolor": "white",
           "zerolinewidth": 2
          },
          "yaxis": {
           "automargin": true,
           "gridcolor": "white",
           "linecolor": "white",
           "ticks": "",
           "title": {
            "standoff": 15
           },
           "zerolinecolor": "white",
           "zerolinewidth": 2
          }
         }
        },
        "width": 1000
       }
      }
     },
     "metadata": {},
     "output_type": "display_data"
    }
   ],
   "source": [
    "\n",
    "# Representamos los datos en 3D (debe poder girarse, usaremos plotly). Cada punto debe mostrar su nombre (distrito)\n",
    "import plotly.express as px\n",
    "#cambiamos el tamaño del plot a 16x16\n",
    "fig = px.scatter_3d(x=df_pca[:, 0], y=df_pca[:, 1], z=df_pca[:, 2], text=df['Distrito'], width=1000, height=1000)\n",
    "\n",
    "fig.show()\n",
    "\n",
    "\n",
    "\n",
    "\n",
    "\n"
   ]
  },
  {
   "cell_type": "code",
   "execution_count": 24,
   "metadata": {},
   "outputs": [
    {
     "name": "stderr",
     "output_type": "stream",
     "text": [
      "c:\\Users\\Carlo\\anaconda3\\envs\\NLP_3.10\\lib\\site-packages\\sklearn\\cluster\\_kmeans.py:1412: FutureWarning:\n",
      "\n",
      "The default value of `n_init` will change from 10 to 'auto' in 1.4. Set the value of `n_init` explicitly to suppress the warning\n",
      "\n",
      "c:\\Users\\Carlo\\anaconda3\\envs\\NLP_3.10\\lib\\site-packages\\sklearn\\cluster\\_kmeans.py:1436: UserWarning:\n",
      "\n",
      "KMeans is known to have a memory leak on Windows with MKL, when there are less chunks than available threads. You can avoid it by setting the environment variable OMP_NUM_THREADS=1.\n",
      "\n",
      "c:\\Users\\Carlo\\anaconda3\\envs\\NLP_3.10\\lib\\site-packages\\sklearn\\cluster\\_kmeans.py:1412: FutureWarning:\n",
      "\n",
      "The default value of `n_init` will change from 10 to 'auto' in 1.4. Set the value of `n_init` explicitly to suppress the warning\n",
      "\n",
      "c:\\Users\\Carlo\\anaconda3\\envs\\NLP_3.10\\lib\\site-packages\\sklearn\\cluster\\_kmeans.py:1436: UserWarning:\n",
      "\n",
      "KMeans is known to have a memory leak on Windows with MKL, when there are less chunks than available threads. You can avoid it by setting the environment variable OMP_NUM_THREADS=1.\n",
      "\n",
      "c:\\Users\\Carlo\\anaconda3\\envs\\NLP_3.10\\lib\\site-packages\\sklearn\\cluster\\_kmeans.py:1412: FutureWarning:\n",
      "\n",
      "The default value of `n_init` will change from 10 to 'auto' in 1.4. Set the value of `n_init` explicitly to suppress the warning\n",
      "\n",
      "c:\\Users\\Carlo\\anaconda3\\envs\\NLP_3.10\\lib\\site-packages\\sklearn\\cluster\\_kmeans.py:1436: UserWarning:\n",
      "\n",
      "KMeans is known to have a memory leak on Windows with MKL, when there are less chunks than available threads. You can avoid it by setting the environment variable OMP_NUM_THREADS=1.\n",
      "\n",
      "c:\\Users\\Carlo\\anaconda3\\envs\\NLP_3.10\\lib\\site-packages\\sklearn\\cluster\\_kmeans.py:1412: FutureWarning:\n",
      "\n",
      "The default value of `n_init` will change from 10 to 'auto' in 1.4. Set the value of `n_init` explicitly to suppress the warning\n",
      "\n",
      "c:\\Users\\Carlo\\anaconda3\\envs\\NLP_3.10\\lib\\site-packages\\sklearn\\cluster\\_kmeans.py:1436: UserWarning:\n",
      "\n",
      "KMeans is known to have a memory leak on Windows with MKL, when there are less chunks than available threads. You can avoid it by setting the environment variable OMP_NUM_THREADS=1.\n",
      "\n",
      "c:\\Users\\Carlo\\anaconda3\\envs\\NLP_3.10\\lib\\site-packages\\sklearn\\cluster\\_kmeans.py:1412: FutureWarning:\n",
      "\n",
      "The default value of `n_init` will change from 10 to 'auto' in 1.4. Set the value of `n_init` explicitly to suppress the warning\n",
      "\n",
      "c:\\Users\\Carlo\\anaconda3\\envs\\NLP_3.10\\lib\\site-packages\\sklearn\\cluster\\_kmeans.py:1436: UserWarning:\n",
      "\n",
      "KMeans is known to have a memory leak on Windows with MKL, when there are less chunks than available threads. You can avoid it by setting the environment variable OMP_NUM_THREADS=1.\n",
      "\n",
      "c:\\Users\\Carlo\\anaconda3\\envs\\NLP_3.10\\lib\\site-packages\\sklearn\\cluster\\_kmeans.py:1412: FutureWarning:\n",
      "\n",
      "The default value of `n_init` will change from 10 to 'auto' in 1.4. Set the value of `n_init` explicitly to suppress the warning\n",
      "\n",
      "c:\\Users\\Carlo\\anaconda3\\envs\\NLP_3.10\\lib\\site-packages\\sklearn\\cluster\\_kmeans.py:1436: UserWarning:\n",
      "\n",
      "KMeans is known to have a memory leak on Windows with MKL, when there are less chunks than available threads. You can avoid it by setting the environment variable OMP_NUM_THREADS=1.\n",
      "\n",
      "c:\\Users\\Carlo\\anaconda3\\envs\\NLP_3.10\\lib\\site-packages\\sklearn\\cluster\\_kmeans.py:1412: FutureWarning:\n",
      "\n",
      "The default value of `n_init` will change from 10 to 'auto' in 1.4. Set the value of `n_init` explicitly to suppress the warning\n",
      "\n",
      "c:\\Users\\Carlo\\anaconda3\\envs\\NLP_3.10\\lib\\site-packages\\sklearn\\cluster\\_kmeans.py:1436: UserWarning:\n",
      "\n",
      "KMeans is known to have a memory leak on Windows with MKL, when there are less chunks than available threads. You can avoid it by setting the environment variable OMP_NUM_THREADS=1.\n",
      "\n",
      "c:\\Users\\Carlo\\anaconda3\\envs\\NLP_3.10\\lib\\site-packages\\sklearn\\cluster\\_kmeans.py:1412: FutureWarning:\n",
      "\n",
      "The default value of `n_init` will change from 10 to 'auto' in 1.4. Set the value of `n_init` explicitly to suppress the warning\n",
      "\n",
      "c:\\Users\\Carlo\\anaconda3\\envs\\NLP_3.10\\lib\\site-packages\\sklearn\\cluster\\_kmeans.py:1436: UserWarning:\n",
      "\n",
      "KMeans is known to have a memory leak on Windows with MKL, when there are less chunks than available threads. You can avoid it by setting the environment variable OMP_NUM_THREADS=1.\n",
      "\n",
      "c:\\Users\\Carlo\\anaconda3\\envs\\NLP_3.10\\lib\\site-packages\\sklearn\\cluster\\_kmeans.py:1412: FutureWarning:\n",
      "\n",
      "The default value of `n_init` will change from 10 to 'auto' in 1.4. Set the value of `n_init` explicitly to suppress the warning\n",
      "\n",
      "c:\\Users\\Carlo\\anaconda3\\envs\\NLP_3.10\\lib\\site-packages\\sklearn\\cluster\\_kmeans.py:1436: UserWarning:\n",
      "\n",
      "KMeans is known to have a memory leak on Windows with MKL, when there are less chunks than available threads. You can avoid it by setting the environment variable OMP_NUM_THREADS=1.\n",
      "\n"
     ]
    },
    {
     "data": {
      "image/png": "[encoded data removed]",
      "text/plain": [
       "<Figure size 640x480 with 1 Axes>"
      ]
     },
     "metadata": {},
     "output_type": "display_data"
    },
    {
     "data": {
      "image/png": "[encoded data removed]",
      "text/plain": [
       "<Figure size 640x480 with 1 Axes>"
      ]
     },
     "metadata": {},
     "output_type": "display_data"
    }
   ],
   "source": [
    "# hacemos un clustering con kmeans y representamos los clusters en 3D. No sabemos cuántos clusters hay. usaremos el método del codo para averiguarlo\n",
    "\n",
    "\n",
    "from sklearn.cluster import KMeans\n",
    "from sklearn.metrics import silhouette_score\n",
    "\n",
    "# Vamos a probar con un número de clusters entre 2 y 10\n",
    "n_clusters = range(2, 11)\n",
    "inertia = []\n",
    "silhouette = []\n",
    "\n",
    "for n in n_clusters:\n",
    "    kmeans = KMeans(n_clusters=n)\n",
    "    kmeans.fit(df_scaled)\n",
    "    inertia.append(kmeans.inertia_)\n",
    "    silhouette.append(silhouette_score(df_scaled, kmeans.labels_))\n",
    "\n",
    "plt.plot(n_clusters, inertia)\n",
    "plt.xlabel('Número de clusters')\n",
    "plt.ylabel('Inertia')\n",
    "plt.show()\n",
    "\n",
    "plt.plot(n_clusters, silhouette)\n",
    "plt.xlabel('Número de clusters')\n",
    "plt.ylabel('Silhouette')\n",
    "plt.show()\n"
   ]
  },
  {
   "cell_type": "code",
   "execution_count": 25,
   "metadata": {},
   "outputs": [
    {
     "name": "stderr",
     "output_type": "stream",
     "text": [
      "c:\\Users\\Carlo\\anaconda3\\envs\\NLP_3.10\\lib\\site-packages\\sklearn\\cluster\\_kmeans.py:1412: FutureWarning:\n",
      "\n",
      "The default value of `n_init` will change from 10 to 'auto' in 1.4. Set the value of `n_init` explicitly to suppress the warning\n",
      "\n",
      "c:\\Users\\Carlo\\anaconda3\\envs\\NLP_3.10\\lib\\site-packages\\sklearn\\cluster\\_kmeans.py:1436: UserWarning:\n",
      "\n",
      "KMeans is known to have a memory leak on Windows with MKL, when there are less chunks than available threads. You can avoid it by setting the environment variable OMP_NUM_THREADS=1.\n",
      "\n"
     ]
    },
    {
     "data": {
      "application/vnd.plotly.v1+json": {
       "config": {
        "plotlyServerURL": "https://plot.ly"
       },
       "data": [
        {
         "hovertemplate": "x=%{x}<br>y=%{y}<br>z=%{z}<br>text=%{text}<br>color=%{marker.color}<extra></extra>",
         "legendgroup": "",
         "marker": {
          "color": [
           0,
           1,
           4,
           1,
           0,
           3,
           4,
           0,
           0,
           0,
           0,
           0,
           0,
           4,
           0,
           0,
           3,
           1,
           0,
           2
          ],
          "coloraxis": "coloraxis",
          "symbol": "circle"
         },
         "mode": "markers+text",
         "name": "",
         "scene": "scene",
         "showlegend": false,
         "text": [
          "Total",
          "1. Ciutat Vella",
          "2. l'Eixample",
          "3. Extramurs",
          "4. Campanar",
          "5. la Saïdia",
          "6. el Pla del Real",
          "7. l'Olivereta",
          "8. Patraix",
          "9. Jesús",
          "10. Quatre Carreres",
          "11. Poblats Marítims",
          "12. Camins al Grau",
          "13. Algirós",
          "14. Benimaclet",
          "15. Rascanya",
          "16. Benicalap",
          "17. Pobles del Nord",
          "18. Pobles de l'Oest",
          "19. Pobles del Sud"
         ],
         "type": "scatter3d",
         "x": [
          -0.2540268508948221,
          2.950780267220071,
          1.782669426763427,
          1.573448018368124,
          -0.06703229284474221,
          -3.6714997568324943,
          5.593220613244589,
          -1.538088649307973,
          1.022656128360809,
          -1.3179244909762142,
          -0.9539035208871809,
          -2.7458789189849,
          -1.2579158970136344,
          2.673362017961227,
          -0.1977633833372494,
          1.2199710218870568,
          -3.475514078160494,
          2.029324734577439,
          -1.9754891103597003,
          -1.3903952787833376
         ],
         "y": [
          -0.2631799341016514,
          -0.17492309399303002,
          0.22640353354283702,
          1.5426374231934046,
          1.2320228763998298,
          -3.818254343641279,
          -3.187520475096773,
          1.191709587915299,
          -0.17876206550263785,
          0.22925434507172374,
          0.17815565660124483,
          -1.7955814298553174,
          0.501624071691004,
          -2.2461334524653425,
          2.4399453442352983,
          -1.0704050182442688,
          -2.2170436986695505,
          2.943051735444269,
          -0.043510712667515244,
          4.510509650142455
         ],
         "z": [
          0.37399522891093745,
          0.11905862304844717,
          -0.6725645010624732,
          -1.2177143476231809,
          -0.12408876686586706,
          -1.3257048462671,
          -1.5853735123814738,
          0.9977759702849152,
          3.7614313092923983,
          0.6319941382540538,
          1.8018994741295145,
          0.837508085753997,
          0.02275966163997659,
          -1.4640597465618284,
          1.1177558493957518,
          3.577968670793969,
          -1.5144797423111034,
          -1.3643160979532323,
          -1.9967485729602652,
          -1.9770968775174373
         ]
        }
       ],
       "layout": {
        "coloraxis": {
         "colorbar": {
          "title": {
           "text": "color"
          }
         },
         "colorscale": [
          [
           0,
           "#0d0887"
          ],
          [
           0.1111111111111111,
           "#46039f"
          ],
          [
           0.2222222222222222,
           "#7201a8"
          ],
          [
           0.3333333333333333,
           "#9c179e"
          ],
          [
           0.4444444444444444,
           "#bd3786"
          ],
          [
           0.5555555555555556,
           "#d8576b"
          ],
          [
           0.6666666666666666,
           "#ed7953"
          ],
          [
           0.7777777777777778,
           "#fb9f3a"
          ],
          [
           0.8888888888888888,
           "#fdca26"
          ],
          [
           1,
           "#f0f921"
          ]
         ]
        },
        "height": 1000,
        "legend": {
         "tracegroupgap": 0
        },
        "margin": {
         "t": 60
        },
        "scene": {
         "domain": {
          "x": [
           0,
           1
          ],
          "y": [
           0,
           1
          ]
         },
         "xaxis": {
          "title": {
           "text": "x"
          }
         },
         "yaxis": {
          "title": {
           "text": "y"
          }
         },
         "zaxis": {
          "title": {
           "text": "z"
          }
         }
        },
        "template": {
         "data": {
          "bar": [
           {
            "error_x": {
             "color": "#2a3f5f"
            },
            "error_y": {
             "color": "#2a3f5f"
            },
            "marker": {
             "line": {
              "color": "#E5ECF6",
              "width": 0.5
             },
             "pattern": {
              "fillmode": "overlay",
              "size": 10,
              "solidity": 0.2
             }
            },
            "type": "bar"
           }
          ],
          "barpolar": [
           {
            "marker": {
             "line": {
              "color": "#E5ECF6",
              "width": 0.5
             },
             "pattern": {
              "fillmode": "overlay",
              "size": 10,
              "solidity": 0.2
             }
            },
            "type": "barpolar"
           }
          ],
          "carpet": [
           {
            "aaxis": {
             "endlinecolor": "#2a3f5f",
             "gridcolor": "white",
             "linecolor": "white",
             "minorgridcolor": "white",
             "startlinecolor": "#2a3f5f"
            },
            "baxis": {
             "endlinecolor": "#2a3f5f",
             "gridcolor": "white",
             "linecolor": "white",
             "minorgridcolor": "white",
             "startlinecolor": "#2a3f5f"
            },
            "type": "carpet"
           }
          ],
          "choropleth": [
           {
            "colorbar": {
             "outlinewidth": 0,
             "ticks": ""
            },
            "type": "choropleth"
           }
          ],
          "contour": [
           {
            "colorbar": {
             "outlinewidth": 0,
             "ticks": ""
            },
            "colorscale": [
             [
              0,
              "#0d0887"
             ],
             [
              0.1111111111111111,
              "#46039f"
             ],
             [
              0.2222222222222222,
              "#7201a8"
             ],
             [
              0.3333333333333333,
              "#9c179e"
             ],
             [
              0.4444444444444444,
              "#bd3786"
             ],
             [
              0.5555555555555556,
              "#d8576b"
             ],
             [
              0.6666666666666666,
              "#ed7953"
             ],
             [
              0.7777777777777778,
              "#fb9f3a"
             ],
             [
              0.8888888888888888,
              "#fdca26"
             ],
             [
              1,
              "#f0f921"
             ]
            ],
            "type": "contour"
           }
          ],
          "contourcarpet": [
           {
            "colorbar": {
             "outlinewidth": 0,
             "ticks": ""
            },
            "type": "contourcarpet"
           }
          ],
          "heatmap": [
           {
            "colorbar": {
             "outlinewidth": 0,
             "ticks": ""
            },
            "colorscale": [
             [
              0,
              "#0d0887"
             ],
             [
              0.1111111111111111,
              "#46039f"
             ],
             [
              0.2222222222222222,
              "#7201a8"
             ],
             [
              0.3333333333333333,
              "#9c179e"
             ],
             [
              0.4444444444444444,
              "#bd3786"
             ],
             [
              0.5555555555555556,
              "#d8576b"
             ],
             [
              0.6666666666666666,
              "#ed7953"
             ],
             [
              0.7777777777777778,
              "#fb9f3a"
             ],
             [
              0.8888888888888888,
              "#fdca26"
             ],
             [
              1,
              "#f0f921"
             ]
            ],
            "type": "heatmap"
           }
          ],
          "heatmapgl": [
           {
            "colorbar": {
             "outlinewidth": 0,
             "ticks": ""
            },
            "colorscale": [
             [
              0,
              "#0d0887"
             ],
             [
              0.1111111111111111,
              "#46039f"
             ],
             [
              0.2222222222222222,
              "#7201a8"
             ],
             [
              0.3333333333333333,
              "#9c179e"
             ],
             [
              0.4444444444444444,
              "#bd3786"
             ],
             [
              0.5555555555555556,
              "#d8576b"
             ],
             [
              0.6666666666666666,
              "#ed7953"
             ],
             [
              0.7777777777777778,
              "#fb9f3a"
             ],
             [
              0.8888888888888888,
              "#fdca26"
             ],
             [
              1,
              "#f0f921"
             ]
            ],
            "type": "heatmapgl"
           }
          ],
          "histogram": [
           {
            "marker": {
             "pattern": {
              "fillmode": "overlay",
              "size": 10,
              "solidity": 0.2
             }
            },
            "type": "histogram"
           }
          ],
          "histogram2d": [
           {
            "colorbar": {
             "outlinewidth": 0,
             "ticks": ""
            },
            "colorscale": [
             [
              0,
              "#0d0887"
             ],
             [
              0.1111111111111111,
              "#46039f"
             ],
             [
              0.2222222222222222,
              "#7201a8"
             ],
             [
              0.3333333333333333,
              "#9c179e"
             ],
             [
              0.4444444444444444,
              "#bd3786"
             ],
             [
              0.5555555555555556,
              "#d8576b"
             ],
             [
              0.6666666666666666,
              "#ed7953"
             ],
             [
              0.7777777777777778,
              "#fb9f3a"
             ],
             [
              0.8888888888888888,
              "#fdca26"
             ],
             [
              1,
              "#f0f921"
             ]
            ],
            "type": "histogram2d"
           }
          ],
          "histogram2dcontour": [
           {
            "colorbar": {
             "outlinewidth": 0,
             "ticks": ""
            },
            "colorscale": [
             [
              0,
              "#0d0887"
             ],
             [
              0.1111111111111111,
              "#46039f"
             ],
             [
              0.2222222222222222,
              "#7201a8"
             ],
             [
              0.3333333333333333,
              "#9c179e"
             ],
             [
              0.4444444444444444,
              "#bd3786"
             ],
             [
              0.5555555555555556,
              "#d8576b"
             ],
             [
              0.6666666666666666,
              "#ed7953"
             ],
             [
              0.7777777777777778,
              "#fb9f3a"
             ],
             [
              0.8888888888888888,
              "#fdca26"
             ],
             [
              1,
              "#f0f921"
             ]
            ],
            "type": "histogram2dcontour"
           }
          ],
          "mesh3d": [
           {
            "colorbar": {
             "outlinewidth": 0,
             "ticks": ""
            },
            "type": "mesh3d"
           }
          ],
          "parcoords": [
           {
            "line": {
             "colorbar": {
              "outlinewidth": 0,
              "ticks": ""
             }
            },
            "type": "parcoords"
           }
          ],
          "pie": [
           {
            "automargin": true,
            "type": "pie"
           }
          ],
          "scatter": [
           {
            "fillpattern": {
             "fillmode": "overlay",
             "size": 10,
             "solidity": 0.2
            },
            "type": "scatter"
           }
          ],
          "scatter3d": [
           {
            "line": {
             "colorbar": {
              "outlinewidth": 0,
              "ticks": ""
             }
            },
            "marker": {
             "colorbar": {
              "outlinewidth": 0,
              "ticks": ""
             }
            },
            "type": "scatter3d"
           }
          ],
          "scattercarpet": [
           {
            "marker": {
             "colorbar": {
              "outlinewidth": 0,
              "ticks": ""
             }
            },
            "type": "scattercarpet"
           }
          ],
          "scattergeo": [
           {
            "marker": {
             "colorbar": {
              "outlinewidth": 0,
              "ticks": ""
             }
            },
            "type": "scattergeo"
           }
          ],
          "scattergl": [
           {
            "marker": {
             "colorbar": {
              "outlinewidth": 0,
              "ticks": ""
             }
            },
            "type": "scattergl"
           }
          ],
          "scattermapbox": [
           {
            "marker": {
             "colorbar": {
              "outlinewidth": 0,
              "ticks": ""
             }
            },
            "type": "scattermapbox"
           }
          ],
          "scatterpolar": [
           {
            "marker": {
             "colorbar": {
              "outlinewidth": 0,
              "ticks": ""
             }
            },
            "type": "scatterpolar"
           }
          ],
          "scatterpolargl": [
           {
            "marker": {
             "colorbar": {
              "outlinewidth": 0,
              "ticks": ""
             }
            },
            "type": "scatterpolargl"
           }
          ],
          "scatterternary": [
           {
            "marker": {
             "colorbar": {
              "outlinewidth": 0,
              "ticks": ""
             }
            },
            "type": "scatterternary"
           }
          ],
          "surface": [
           {
            "colorbar": {
             "outlinewidth": 0,
             "ticks": ""
            },
            "colorscale": [
             [
              0,
              "#0d0887"
             ],
             [
              0.1111111111111111,
              "#46039f"
             ],
             [
              0.2222222222222222,
              "#7201a8"
             ],
             [
              0.3333333333333333,
              "#9c179e"
             ],
             [
              0.4444444444444444,
              "#bd3786"
             ],
             [
              0.5555555555555556,
              "#d8576b"
             ],
             [
              0.6666666666666666,
              "#ed7953"
             ],
             [
              0.7777777777777778,
              "#fb9f3a"
             ],
             [
              0.8888888888888888,
              "#fdca26"
             ],
             [
              1,
              "#f0f921"
             ]
            ],
            "type": "surface"
           }
          ],
          "table": [
           {
            "cells": {
             "fill": {
              "color": "#EBF0F8"
             },
             "line": {
              "color": "white"
             }
            },
            "header": {
             "fill": {
              "color": "#C8D4E3"
             },
             "line": {
              "color": "white"
             }
            },
            "type": "table"
           }
          ]
         },
         "layout": {
          "annotationdefaults": {
           "arrowcolor": "#2a3f5f",
           "arrowhead": 0,
           "arrowwidth": 1
          },
          "autotypenumbers": "strict",
          "coloraxis": {
           "colorbar": {
            "outlinewidth": 0,
            "ticks": ""
           }
          },
          "colorscale": {
           "diverging": [
            [
             0,
             "#8e0152"
            ],
            [
             0.1,
             "#c51b7d"
            ],
            [
             0.2,
             "#de77ae"
            ],
            [
             0.3,
             "#f1b6da"
            ],
            [
             0.4,
             "#fde0ef"
            ],
            [
             0.5,
             "#f7f7f7"
            ],
            [
             0.6,
             "#e6f5d0"
            ],
            [
             0.7,
             "#b8e186"
            ],
            [
             0.8,
             "#7fbc41"
            ],
            [
             0.9,
             "#4d9221"
            ],
            [
             1,
             "#276419"
            ]
           ],
           "sequential": [
            [
             0,
             "#0d0887"
            ],
            [
             0.1111111111111111,
             "#46039f"
            ],
            [
             0.2222222222222222,
             "#7201a8"
            ],
            [
             0.3333333333333333,
             "#9c179e"
            ],
            [
             0.4444444444444444,
             "#bd3786"
            ],
            [
             0.5555555555555556,
             "#d8576b"
            ],
            [
             0.6666666666666666,
             "#ed7953"
            ],
            [
             0.7777777777777778,
             "#fb9f3a"
            ],
            [
             0.8888888888888888,
             "#fdca26"
            ],
            [
             1,
             "#f0f921"
            ]
           ],
           "sequentialminus": [
            [
             0,
             "#0d0887"
            ],
            [
             0.1111111111111111,
             "#46039f"
            ],
            [
             0.2222222222222222,
             "#7201a8"
            ],
            [
             0.3333333333333333,
             "#9c179e"
            ],
            [
             0.4444444444444444,
             "#bd3786"
            ],
            [
             0.5555555555555556,
             "#d8576b"
            ],
            [
             0.6666666666666666,
             "#ed7953"
            ],
            [
             0.7777777777777778,
             "#fb9f3a"
            ],
            [
             0.8888888888888888,
             "#fdca26"
            ],
            [
             1,
             "#f0f921"
            ]
           ]
          },
          "colorway": [
           "#636efa",
           "#EF553B",
           "#00cc96",
           "#ab63fa",
           "#FFA15A",
           "#19d3f3",
           "#FF6692",
           "#B6E880",
           "#FF97FF",
           "#FECB52"
          ],
          "font": {
           "color": "#2a3f5f"
          },
          "geo": {
           "bgcolor": "white",
           "lakecolor": "white",
           "landcolor": "#E5ECF6",
           "showlakes": true,
           "showland": true,
           "subunitcolor": "white"
          },
          "hoverlabel": {
           "align": "left"
          },
          "hovermode": "closest",
          "mapbox": {
           "style": "light"
          },
          "paper_bgcolor": "white",
          "plot_bgcolor": "#E5ECF6",
          "polar": {
           "angularaxis": {
            "gridcolor": "white",
            "linecolor": "white",
            "ticks": ""
           },
           "bgcolor": "#E5ECF6",
           "radialaxis": {
            "gridcolor": "white",
            "linecolor": "white",
            "ticks": ""
           }
          },
          "scene": {
           "xaxis": {
            "backgroundcolor": "#E5ECF6",
            "gridcolor": "white",
            "gridwidth": 2,
            "linecolor": "white",
            "showbackground": true,
            "ticks": "",
            "zerolinecolor": "white"
           },
           "yaxis": {
            "backgroundcolor": "#E5ECF6",
            "gridcolor": "white",
            "gridwidth": 2,
            "linecolor": "white",
            "showbackground": true,
            "ticks": "",
            "zerolinecolor": "white"
           },
           "zaxis": {
            "backgroundcolor": "#E5ECF6",
            "gridcolor": "white",
            "gridwidth": 2,
            "linecolor": "white",
            "showbackground": true,
            "ticks": "",
            "zerolinecolor": "white"
           }
          },
          "shapedefaults": {
           "line": {
            "color": "#2a3f5f"
           }
          },
          "ternary": {
           "aaxis": {
            "gridcolor": "white",
            "linecolor": "white",
            "ticks": ""
           },
           "baxis": {
            "gridcolor": "white",
            "linecolor": "white",
            "ticks": ""
           },
           "bgcolor": "#E5ECF6",
           "caxis": {
            "gridcolor": "white",
            "linecolor": "white",
            "ticks": ""
           }
          },
          "title": {
           "x": 0.05
          },
          "xaxis": {
           "automargin": true,
           "gridcolor": "white",
           "linecolor": "white",
           "ticks": "",
           "title": {
            "standoff": 15
           },
           "zerolinecolor": "white",
           "zerolinewidth": 2
          },
          "yaxis": {
           "automargin": true,
           "gridcolor": "white",
           "linecolor": "white",
           "ticks": "",
           "title": {
            "standoff": 15
           },
           "zerolinecolor": "white",
           "zerolinewidth": 2
          }
         }
        },
        "width": 1000
       }
      }
     },
     "metadata": {},
     "output_type": "display_data"
    }
   ],
   "source": [
    "\n",
    "# Vemos que el número óptimo de clusters es 5\n",
    "\n",
    "\n",
    "kmeans = KMeans(n_clusters=5)\n",
    "kmeans.fit(df_scaled)\n",
    "df['Cluster'] = kmeans.labels_\n",
    "\n",
    "df.head(19)\n",
    "\n",
    "# Representamos los datos en 3D (debe poder girarse, usaremos plotly). Cada punto debe mostrar su nombre (distrito) y su cluster\n",
    "\n",
    "fig = px.scatter_3d(x=df_pca[:, 0], y=df_pca[:, 1], z=df_pca[:, 2], text=df['Distrito'], color=df['Cluster'], width=1000, height=1000)\n",
    "\n",
    "fig.show()\n"
   ]
  },
  {
   "cell_type": "code",
   "execution_count": null,
   "metadata": {},
   "outputs": [],
   "source": []
  }
 ],
 "metadata": {
  "kernelspec": {
   "display_name": "NLP_3.10",
   "language": "python",
   "name": "python3"
  },
  "language_info": {
   "codemirror_mode": {
    "name": "ipython",
    "version": 3
   },
   "file_extension": ".py",
   "mimetype": "text/x-python",
   "name": "python",
   "nbconvert_exporter": "python",
   "pygments_lexer": "ipython3",
   "version": "3.10.13"
  }
 },
 "nbformat": 4,
 "nbformat_minor": 2
}
