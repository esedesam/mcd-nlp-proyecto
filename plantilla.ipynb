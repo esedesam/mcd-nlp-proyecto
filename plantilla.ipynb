{
 "cells": [
  {
   "cell_type": "markdown",
   "metadata": {},
   "source": [
    "# Plantilla: Proyecto\n",
    "## Tema 2: Clasificación de barrios en función de su tipología.\n",
    "Documento plantilla para el proyecto con los imports de las librerias más importantes."
   ]
  },
  {
   "cell_type": "code",
   "execution_count": 9,
   "metadata": {},
   "outputs": [
    {
     "name": "stdout",
     "output_type": "stream",
     "text": [
      "Collecting openpyxl\n",
      "  Downloading openpyxl-3.1.2-py2.py3-none-any.whl.metadata (2.5 kB)\n",
      "Collecting et-xmlfile (from openpyxl)\n",
      "  Downloading et_xmlfile-1.1.0-py3-none-any.whl.metadata (1.8 kB)\n",
      "Downloading openpyxl-3.1.2-py2.py3-none-any.whl (249 kB)\n",
      "   ---------------------------------------- 0.0/250.0 kB ? eta -:--:--\n",
      "   --------------------------------------- 250.0/250.0 kB 16.0 MB/s eta 0:00:00\n",
      "Downloading et_xmlfile-1.1.0-py3-none-any.whl (4.7 kB)\n",
      "Installing collected packages: et-xmlfile, openpyxl\n",
      "Successfully installed et-xmlfile-1.1.0 openpyxl-3.1.2\n"
     ]
    }
   ],
   "source": [
    "import nltk                      # Natural Language Toolkit\n",
    "import scrapy                    # Web scraping   \n",
    "import requests                  # HTTP requests\n",
    "import selenium                  # Web automation\n",
    "import numpy as np               # Numerical computing\n",
    "import pandas as pd              # Data manipulation\n",
    "import seaborn as sns            # Data visualization\n",
    "import tensorflow as tf          # Machine learning\n",
    "import matplotlib.pyplot as plt  # Data visualization\n",
    "import os                        # Operating system\n",
    "\n",
    "!pip install openpyxl\n",
    "import openpyxl                  # Excel files"
   ]
  },
  {
   "cell_type": "markdown",
   "metadata": {},
   "source": [
    "# Automatización en la recogida de variables (dataset Barris)"
   ]
  },
  {
   "cell_type": "code",
   "execution_count": 10,
   "metadata": {},
   "outputs": [],
   "source": [
    "# tengo un .csv en el path ./data/barrios/barrios_codigos.csv. Me interesan las columnas Nombre, Codigo distrito y Codigo barrio, quédate con esas.\n",
    "\n",
    "idBarrios = pd.read_csv('./data/barrios/barrios_codigos.csv', delimiter=';')\n",
    "idBarrios = idBarrios[['Nombre', 'Codigo distrito', 'Codigo barrio']]\n",
    "\n",
    "barrios_dict = {}\n",
    "\n",
    "for index, row in idBarrios.iterrows():\n",
    "    nombre = row['Nombre']\n",
    "    codigo_distrito = row['Codigo distrito']\n",
    "    codigo_barrio = row['Codigo barrio']\n",
    "    \n",
    "    barrio_dict = {\n",
    "        'Codigo distrito': codigo_distrito,\n",
    "        'Codigo barrio': codigo_barrio\n",
    "    }\n",
    "    \n",
    "    barrios_dict[nombre] = barrio_dict"
   ]
  },
  {
   "cell_type": "code",
   "execution_count": 11,
   "metadata": {},
   "outputs": [],
   "source": [
    "def get_barrio_name(codigo_distrito, codigo_barrio):\n",
    "    for nombre, barrio_dict in barrios_dict.items():\n",
    "        if barrio_dict['Codigo distrito'] == codigo_distrito and barrio_dict['Codigo barrio'] == codigo_barrio:\n",
    "            return nombre"
   ]
  },
  {
   "cell_type": "code",
   "execution_count": 20,
   "metadata": {},
   "outputs": [
    {
     "name": "stdout",
     "output_type": "stream",
     "text": [
      "['Padrón', 'MovPadrón', 'Censo', 'Vehículos', 'Catastro', 'ActEconom', 'Elecciones']\n"
     ]
    }
   ],
   "source": [
    "sheets = pd.ExcelFile('./data/barrios/2024/Districte_01_Barri_1.xlsx').sheet_names\n",
    "print(sheets)"
   ]
  },
  {
   "cell_type": "code",
   "execution_count": 66,
   "metadata": {},
   "outputs": [
    {
     "name": "stdout",
     "output_type": "stream",
     "text": [
      "Datos de población después de '1.1. Evolución de la población': {1991: 2589, 1996: 2514, 2001: 2517, 2013: 2892, 2014: 2857, 2015: 2842, 2016: 2922, 2017: 2978, 2018: 3097, 2019: 3013, 2020: 3005, 2021.0: 3049.0, 2022.0: 3102.0, 2023.0: 3151.0}\n",
      "Datos de superficie y densidad de población después de '1.2. Superficie i densitat de població': {'Personas / Persones': 3151, 'Superficie / Superfície': 22.107, 'Densidad de población / Densitat de població': 142.534038992174}\n"
     ]
    }
   ],
   "source": [
    "import pandas as pd\n",
    "\n",
    "# Lee el archivo .xlsx\n",
    "barrio = pd.read_excel('./data/barrios/2024/Districte_01_Barri_1.xlsx', sheet_name='Padrón')\n",
    "\n",
    "# Función para obtener el siguiente valor distinto de NA en la primera columna\n",
    "def get_next_row_value(df, row):\n",
    "    for i in range(row + 1, len(df)):\n",
    "        if not pd.isna(df.iloc[i, 0]):\n",
    "            return i\n",
    "    return None\n",
    "\n",
    "# Hallar fila donde pone 1.1. Evolución de la población\n",
    "row = None\n",
    "for i in range(len(barrio)):\n",
    "    if barrio.iloc[i, 0] == '1.1. Evolució de la població':\n",
    "        row = i\n",
    "        break\n",
    "\n",
    "# Obtener el siguiente valor distinto de NA después de la fila encontrada\n",
    "next_value = get_next_row_value(barrio, row)\n",
    "\n",
    "# Obtener los años y el número de personas correspondiente\n",
    "if next_value:\n",
    "    yearspopulation = barrio.iloc[next_value].tolist()  # Obtener los años\n",
    "    population = barrio.iloc[next_value + 1].tolist()  # Obtener el número de personas\n",
    "    data = dict(zip(yearspopulation, population))  # Crear un diccionario con los años y el número de personas\n",
    "    print(\"Datos de población después de '1.1. Evolución de la población':\", data)\n",
    "else:\n",
    "    print(\"No se encontró ningún valor distinto de NA después de '1.1. Evolución de la población'.\")\n",
    "    \n",
    "\n",
    "# Haz algo similar buscando 1.2 Superficie i densitat de població\n",
    "row = None\n",
    "for i in range(len(barrio)):\n",
    "    if barrio.iloc[i, 0] == '1.2. Superficie i densitat de població':\n",
    "        row = i\n",
    "        break\n",
    "\n",
    "next_value = get_next_row_value(barrio, row)\n",
    "\n",
    "# Print different columns of that next_value row. That row should use the names of the columns as keys and the following row is the value of those keys. You should only include keys that aren't NA\n",
    "\n",
    "if next_value:\n",
    "    columns = barrio.iloc[next_value].tolist()\n",
    "    values = barrio.iloc[next_value + 1].tolist()\n",
    "    data = {}\n",
    "    for i in range(len(columns)):\n",
    "        if not pd.isna(values[i]):\n",
    "            data[columns[i]] = values[i]\n",
    "    print(\"Datos de superficie y densidad de población después de '1.2. Superficie i densitat de població':\", data)\n",
    "    \n",
    "# Haz algo similar buscando 1.3. Població per sexe i edat (grans grups)\n",
    "\n",
    "row = None\n",
    "for i in range(len(barrio)):\n",
    "    if barrio.iloc[i, 0] == '1.3. Població per sexe i edat (grans grups)':\n",
    "        row = i\n",
    "        break\n",
    "\n",
    "next_value = get_next_row_value(barrio, row)\n",
    "\n",
    "    \n"
   ]
  }
 ],
 "metadata": {
  "kernelspec": {
   "display_name": "NLP_3.10",
   "language": "python",
   "name": "python3"
  },
  "language_info": {
   "codemirror_mode": {
    "name": "ipython",
    "version": 3
   },
   "file_extension": ".py",
   "mimetype": "text/x-python",
   "name": "python",
   "nbconvert_exporter": "python",
   "pygments_lexer": "ipython3",
   "version": "3.10.13"
  }
 },
 "nbformat": 4,
 "nbformat_minor": 2
}
